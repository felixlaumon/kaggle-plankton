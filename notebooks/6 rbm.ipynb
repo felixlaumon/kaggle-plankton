{
 "metadata": {
  "name": "",
  "signature": "sha256:55078b95cf262f323fddefffb2abe18a1b9fe4dbbfedc524bc392b1320ff0745"
 },
 "nbformat": 3,
 "nbformat_minor": 0,
 "worksheets": [
  {
   "cells": [
    {
     "cell_type": "markdown",
     "metadata": {},
     "source": [
      "https://github.com/benanne/morb/tree/master/examples\n",
      "\n",
      "http://scikit-learn.org/stable/modules/generated/sklearn.neural_network.BernoulliRBM.html"
     ]
    },
    {
     "cell_type": "code",
     "collapsed": false,
     "input": [
      "from __future__ import print_function\n",
      "from __future__ import division\n",
      "\n",
      "import numpy as np\n",
      "import pandas as pd\n",
      "import theano\n",
      "\n",
      "import data\n",
      "import lasangeutils\n",
      "import utils\n",
      "\n",
      "import matplotlib.pyplot as plt\n",
      "import matplotlib.gridspec\n",
      "import seaborn as sns\n",
      "%matplotlib inline\n",
      "\n",
      "from sklearn.preprocessing import LabelEncoder\n",
      "from sklearn.cross_validation import train_test_split\n",
      "from sklearn.metrics import confusion_matrix\n",
      "from sklearn.manifold import TSNE\n",
      "from sklearn.neural_network import BernoulliRBM\n",
      "\n",
      "from lasagne import layers\n",
      "from lasagne.updates import nesterov_momentum, rmsprop, adadelta\n",
      "from lasagne.nonlinearities import softmax\n",
      "from nolearn.lasagne import NeuralNet\n",
      "from nolearn.lasagne import negative_log_likelihood"
     ],
     "language": "python",
     "metadata": {},
     "outputs": [],
     "prompt_number": 3
    },
    {
     "cell_type": "code",
     "collapsed": false,
     "input": [
      "hw = 48\n",
      "%time X_orig, y_orig = data.load_data(resize_shape=(hw, hw), scale=True)\n",
      "\n",
      "enc = LabelEncoder()\n",
      "X = X_orig.astype(np.float32)\n",
      "\n",
      "# Normalize images\n",
      "X -= np.mean(X, axis = 0)\n",
      "X /= np.std(X, axis = 0)\n",
      "\n",
      "y = enc.fit_transform(y_orig).astype(np.int32)\n",
      "\n",
      "X_train, X_test, y_train, y_test = train_test_split(X.reshape(-1, hw * hw), y, test_size=0.05, random_state=42)\n",
      "X_train, X_test = X_train.reshape(-1, 1, hw, hw), X_test.reshape(-1, 1, hw, hw) # because train_test_split requires array to X\n",
      "\n",
      "print(X_train.shape, y_train.shape, X_test.shape, y_test.shape)"
     ],
     "language": "python",
     "metadata": {},
     "outputs": [
      {
       "output_type": "stream",
       "stream": "stdout",
       "text": [
        "Finished reading directories; found 30336 images\n",
        "Scaling image output\n",
        "Resizing all images to (48, 48)"
       ]
      },
      {
       "output_type": "stream",
       "stream": "stdout",
       "text": [
        "\n",
        "CPU times: user 17.9 s, sys: 1.2 s, total: 19.1 s"
       ]
      },
      {
       "output_type": "stream",
       "stream": "stdout",
       "text": [
        "\n",
        "Wall time: 22.5 s\n",
        "(28819, 1, 48, 48)"
       ]
      },
      {
       "output_type": "stream",
       "stream": "stdout",
       "text": [
        " (28819,) (1517, 1, 48, 48) (1517,)\n"
       ]
      }
     ],
     "prompt_number": 4
    },
    {
     "cell_type": "code",
     "collapsed": false,
     "input": [
      "rbm = BernoulliRBM()"
     ],
     "language": "python",
     "metadata": {},
     "outputs": []
    }
   ],
   "metadata": {}
  }
 ]
}