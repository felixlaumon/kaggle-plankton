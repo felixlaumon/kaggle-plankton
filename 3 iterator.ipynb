{
 "metadata": {
  "name": "",
  "signature": "sha256:3ae00449583c40713734533e3d8fd6b5fc7f731d6eee03c8581dfe01914fc441"
 },
 "nbformat": 3,
 "nbformat_minor": 0,
 "worksheets": [
  {
   "cells": [
    {
     "cell_type": "code",
     "collapsed": false,
     "input": [
      "from __future__ import print_function\n",
      "from __future__ import division\n",
      "\n",
      "import numpy as np\n",
      "import pandas as pd\n",
      "import theano\n",
      "\n",
      "import data\n",
      "import lasangeutils\n",
      "import utils\n",
      "\n",
      "import matplotlib.pyplot as plt\n",
      "import seaborn as sns\n",
      "%matplotlib inline\n",
      "\n",
      "import skimage\n",
      "from sklearn.preprocessing import LabelEncoder\n",
      "from sklearn.cross_validation import train_test_split\n",
      "from sklearn.metrics import confusion_matrix\n",
      "\n",
      "from lasagne import layers\n",
      "from lasagne.updates import nesterov_momentum, rmsprop, adadelta\n",
      "from lasagne.nonlinearities import softmax\n",
      "from nolearn.lasagne import NeuralNet\n",
      "from nolearn.lasagne import negative_log_likelihood"
     ],
     "language": "python",
     "metadata": {},
     "outputs": [],
     "prompt_number": 3
    },
    {
     "cell_type": "code",
     "collapsed": false,
     "input": [
      "# from https://github.com/benanne/kaggle-galaxies/blob/master/load_data.py#L176\n",
      "# modified to use ones_like instead of zeros_like to gives white background\n",
      "\n",
      "def im_rotate(img, angle):\n",
      "    return skimage.transform.rotate(img, angle, mode='reflect')\n",
      "\n",
      "\n",
      "def im_translate(img, shift_x, shift_y):\n",
      "    translate_img = np.ones_like(img, dtype=img.dtype)\n",
      "\n",
      "    if shift_x >= 0:\n",
      "        slice_x_src = slice(None, img.shape[0] - shift_x, None)\n",
      "        slice_x_tgt = slice(shift_x, None, None)\n",
      "    else:\n",
      "        slice_x_src = slice(- shift_x, None, None)\n",
      "        slice_x_tgt = slice(None, img.shape[0] + shift_x, None)\n",
      "\n",
      "    if shift_y >= 0:\n",
      "        slice_y_src = slice(None, img.shape[1] - shift_y, None)\n",
      "        slice_y_tgt = slice(shift_y, None, None)\n",
      "    else:\n",
      "        slice_y_src = slice(- shift_y, None, None)\n",
      "        slice_y_tgt = slice(None, img.shape[1] + shift_y, None)\n",
      "\n",
      "    translate_img[slice_x_tgt, slice_y_tgt] = img[slice_x_src, slice_y_src]\n",
      "\n",
      "    return translate_img\n",
      "\n",
      "\n",
      "def im_rescale(img, scale_factor):\n",
      "    zoomed_img = np.ones_like(img, dtype=img.dtype)\n",
      "    zoomed = skimage.transform.rescale(img, scale_factor)\n",
      "\n",
      "    if scale_factor >= 1.0:\n",
      "        shift_x = (zoomed.shape[0] - img.shape[0]) // 2\n",
      "        shift_y = (zoomed.shape[1] - img.shape[1]) // 2\n",
      "        zoomed_img[:,:] = zoomed[shift_x:shift_x+img.shape[0], shift_y:shift_y+img.shape[1]]\n",
      "    else:\n",
      "        shift_x = (img.shape[0] - zoomed.shape[0]) // 2\n",
      "        shift_y = (img.shape[1] - zoomed.shape[1]) // 2\n",
      "        zoomed_img[shift_x:shift_x+zoomed.shape[0], shift_y:shift_y+zoomed.shape[1]] = zoomed\n",
      "    \n",
      "    return zoomed_img\n",
      "\n",
      "        \n",
      "def im_lcn(img, radius=30):\n",
      "    \"\"\"http://scikit-image.org/docs/dev/auto_examples/plot_local_equalize.html\"\"\"\n",
      "    selem = skimage.morphology.disk(radius)\n",
      "    img_eq = skimage.filter.rank.equalize(img, selem=selem)\n",
      "    return img_eq\n",
      "\n",
      "def display(img):\n",
      "    plt.grid()\n",
      "    plt.imshow(img, cmap='gray')"
     ],
     "language": "python",
     "metadata": {},
     "outputs": [],
     "prompt_number": 70
    },
    {
     "cell_type": "code",
     "collapsed": false,
     "input": [
      "%time X_orig, y_orig = data.load_data(random_n=100, resize_shape=(64, 64), scale=True)\n",
      "\n",
      "X = X_orig\n",
      "enc = LabelEncoder()\n",
      "y = enc.fit_transform(y_orig)"
     ],
     "language": "python",
     "metadata": {},
     "outputs": [
      {
       "output_type": "stream",
       "stream": "stdout",
       "text": [
        "Finished reading directories; found 30336 images\n",
        "Truncating data to 100 row\n",
        "Scaling image output\n",
        "Resizing all images to (64, 64)\n",
        "CPU times: user 6.99 s, sys: 559 ms, total: 7.55 s"
       ]
      },
      {
       "output_type": "stream",
       "stream": "stdout",
       "text": [
        "\n",
        "Wall time: 7.55 s\n"
       ]
      }
     ],
     "prompt_number": 66
    },
    {
     "cell_type": "code",
     "collapsed": false,
     "input": [
      "img = im_translate(X[0][0], 1, 2)\n",
      "print(img.shape)\n",
      "display(img)"
     ],
     "language": "python",
     "metadata": {},
     "outputs": [
      {
       "output_type": "stream",
       "stream": "stdout",
       "text": [
        "(64, 64)\n"
       ]
      },
      {
       "metadata": {},
       "output_type": "display_data",
       "png": "[encoded data removed]",
       "text": [
        "<matplotlib.figure.Figure at 0x7ff07a8e51d0>"
       ]
      }
     ],
     "prompt_number": 71
    },
    {
     "cell_type": "code",
     "collapsed": false,
     "input": [
      "img = im_rescale(X[0][0], 1.1)\n",
      "print(img.shape)\n",
      "display(img)"
     ],
     "language": "python",
     "metadata": {},
     "outputs": [
      {
       "output_type": "stream",
       "stream": "stdout",
       "text": [
        "(64, 64)\n"
       ]
      },
      {
       "metadata": {},
       "output_type": "display_data",
       "png": "[encoded data removed]",
       "text": [
        "<matplotlib.figure.Figure at 0x7ff07a82b050>"
       ]
      }
     ],
     "prompt_number": 72
    },
    {
     "cell_type": "code",
     "collapsed": false,
     "input": [
      "img = im_rotate(X[0][0], 80)\n",
      "print(img.shape)\n",
      "display(img)"
     ],
     "language": "python",
     "metadata": {},
     "outputs": [
      {
       "output_type": "stream",
       "stream": "stdout",
       "text": [
        "(64, 64)\n"
       ]
      },
      {
       "metadata": {},
       "output_type": "display_data",
       "png": "[encoded data removed]",
       "text": [
        "<matplotlib.figure.Figure at 0x7ff07a1d50d0>"
       ]
      }
     ],
     "prompt_number": 80
    }
   ],
   "metadata": {}
  }
 ]
}