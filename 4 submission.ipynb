{
 "metadata": {
  "name": "",
  "signature": "sha256:3b3b563b79548dca5a82a8c799d0979bdba34c79243810f521c79e795ec218a3"
 },
 "nbformat": 3,
 "nbformat_minor": 0,
 "worksheets": [
  {
   "cells": [
    {
     "cell_type": "code",
     "collapsed": false,
     "input": [
      "from __future__ import print_function\n",
      "from __future__ import division\n",
      "\n",
      "from time import strftime\n",
      "import os\n",
      "\n",
      "import numpy as np\n",
      "import pandas as pd\n",
      "import theano\n",
      "\n",
      "import data\n",
      "import lasangeutils\n",
      "import utils\n",
      "\n",
      "import matplotlib.pyplot as plt\n",
      "import seaborn as sns\n",
      "%matplotlib inline\n",
      "\n"
     ],
     "language": "python",
     "metadata": {},
     "outputs": [
      {
       "output_type": "stream",
       "stream": "stderr",
       "text": [
        "Using gpu device 0: GRID K520\n"
       ]
      }
     ],
     "prompt_number": 1
    },
    {
     "cell_type": "code",
     "collapsed": false,
     "input": [
      "%time X, fnames = data.load_data(test=True)\n",
      "X = X.astype(np.float32)"
     ],
     "language": "python",
     "metadata": {},
     "outputs": [
      {
       "output_type": "stream",
       "stream": "stdout",
       "text": [
        "Finished reading directories; found 130400 images\n",
        "Scaling image output\n",
        "Resizing all images to (48, 48)"
       ]
      },
      {
       "output_type": "stream",
       "stream": "stdout",
       "text": [
        "\n",
        "CPU times: user 2min 2s, sys: 9.81 s, total: 2min 12s"
       ]
      },
      {
       "output_type": "stream",
       "stream": "stdout",
       "text": [
        "\n",
        "Wall time: 3min 23s\n"
       ]
      }
     ],
     "prompt_number": 2
    },
    {
     "cell_type": "code",
     "collapsed": false,
     "input": [
      "# %time X_train, y = data.load_data()\n",
      "# X_train = X_train.astype(np.float32)"
     ],
     "language": "python",
     "metadata": {},
     "outputs": [
      {
       "output_type": "stream",
       "stream": "stdout",
       "text": [
        "Finished reading directories; found 30336 images\n",
        "Scaling image output\n",
        "Resizing all images to (48, 48)"
       ]
      },
      {
       "output_type": "stream",
       "stream": "stdout",
       "text": [
        "\n",
        "CPU times: user 19.1 s, sys: 788 ms, total: 19.9 s"
       ]
      },
      {
       "output_type": "stream",
       "stream": "stdout",
       "text": [
        "\n",
        "Wall time: 25.6 s\n"
       ]
      }
     ],
     "prompt_number": 12
    },
    {
     "cell_type": "code",
     "collapsed": false,
     "input": [
      "submission_sample_df = pd.read_csv('data/sampleSubmission.csv')\n",
      "submission_sample_df.head()"
     ],
     "language": "python",
     "metadata": {},
     "outputs": [
      {
       "html": [
        "<div style=\"max-height:1000px;max-width:1500px;overflow:auto;\">\n",
        "<table border=\"1\" class=\"dataframe\">\n",
        "  <thead>\n",
        "    <tr style=\"text-align: right;\">\n",
        "      <th></th>\n",
        "      <th>image</th>\n",
        "      <th>acantharia_protist_big_center</th>\n",
        "      <th>acantharia_protist_halo</th>\n",
        "      <th>acantharia_protist</th>\n",
        "      <th>amphipods</th>\n",
        "      <th>appendicularian_fritillaridae</th>\n",
        "      <th>appendicularian_s_shape</th>\n",
        "      <th>appendicularian_slight_curve</th>\n",
        "      <th>appendicularian_straight</th>\n",
        "      <th>artifacts_edge</th>\n",
        "      <th>...</th>\n",
        "      <th>trichodesmium_tuft</th>\n",
        "      <th>trochophore_larvae</th>\n",
        "      <th>tunicate_doliolid_nurse</th>\n",
        "      <th>tunicate_doliolid</th>\n",
        "      <th>tunicate_partial</th>\n",
        "      <th>tunicate_salp_chains</th>\n",
        "      <th>tunicate_salp</th>\n",
        "      <th>unknown_blobs_and_smudges</th>\n",
        "      <th>unknown_sticks</th>\n",
        "      <th>unknown_unclassified</th>\n",
        "    </tr>\n",
        "  </thead>\n",
        "  <tbody>\n",
        "    <tr>\n",
        "      <th>0</th>\n",
        "      <td>     1.jpg</td>\n",
        "      <td> 0.008264</td>\n",
        "      <td> 0.008264</td>\n",
        "      <td> 0.008264</td>\n",
        "      <td> 0.008264</td>\n",
        "      <td> 0.008264</td>\n",
        "      <td> 0.008264</td>\n",
        "      <td> 0.008264</td>\n",
        "      <td> 0.008264</td>\n",
        "      <td> 0.008264</td>\n",
        "      <td>...</td>\n",
        "      <td> 0.008264</td>\n",
        "      <td> 0.008264</td>\n",
        "      <td> 0.008264</td>\n",
        "      <td> 0.008264</td>\n",
        "      <td> 0.008264</td>\n",
        "      <td> 0.008264</td>\n",
        "      <td> 0.008264</td>\n",
        "      <td> 0.008264</td>\n",
        "      <td> 0.008264</td>\n",
        "      <td> 0.008264</td>\n",
        "    </tr>\n",
        "    <tr>\n",
        "      <th>1</th>\n",
        "      <td>    10.jpg</td>\n",
        "      <td> 0.008264</td>\n",
        "      <td> 0.008264</td>\n",
        "      <td> 0.008264</td>\n",
        "      <td> 0.008264</td>\n",
        "      <td> 0.008264</td>\n",
        "      <td> 0.008264</td>\n",
        "      <td> 0.008264</td>\n",
        "      <td> 0.008264</td>\n",
        "      <td> 0.008264</td>\n",
        "      <td>...</td>\n",
        "      <td> 0.008264</td>\n",
        "      <td> 0.008264</td>\n",
        "      <td> 0.008264</td>\n",
        "      <td> 0.008264</td>\n",
        "      <td> 0.008264</td>\n",
        "      <td> 0.008264</td>\n",
        "      <td> 0.008264</td>\n",
        "      <td> 0.008264</td>\n",
        "      <td> 0.008264</td>\n",
        "      <td> 0.008264</td>\n",
        "    </tr>\n",
        "    <tr>\n",
        "      <th>2</th>\n",
        "      <td>   100.jpg</td>\n",
        "      <td> 0.008264</td>\n",
        "      <td> 0.008264</td>\n",
        "      <td> 0.008264</td>\n",
        "      <td> 0.008264</td>\n",
        "      <td> 0.008264</td>\n",
        "      <td> 0.008264</td>\n",
        "      <td> 0.008264</td>\n",
        "      <td> 0.008264</td>\n",
        "      <td> 0.008264</td>\n",
        "      <td>...</td>\n",
        "      <td> 0.008264</td>\n",
        "      <td> 0.008264</td>\n",
        "      <td> 0.008264</td>\n",
        "      <td> 0.008264</td>\n",
        "      <td> 0.008264</td>\n",
        "      <td> 0.008264</td>\n",
        "      <td> 0.008264</td>\n",
        "      <td> 0.008264</td>\n",
        "      <td> 0.008264</td>\n",
        "      <td> 0.008264</td>\n",
        "    </tr>\n",
        "    <tr>\n",
        "      <th>3</th>\n",
        "      <td>  1000.jpg</td>\n",
        "      <td> 0.008264</td>\n",
        "      <td> 0.008264</td>\n",
        "      <td> 0.008264</td>\n",
        "      <td> 0.008264</td>\n",
        "      <td> 0.008264</td>\n",
        "      <td> 0.008264</td>\n",
        "      <td> 0.008264</td>\n",
        "      <td> 0.008264</td>\n",
        "      <td> 0.008264</td>\n",
        "      <td>...</td>\n",
        "      <td> 0.008264</td>\n",
        "      <td> 0.008264</td>\n",
        "      <td> 0.008264</td>\n",
        "      <td> 0.008264</td>\n",
        "      <td> 0.008264</td>\n",
        "      <td> 0.008264</td>\n",
        "      <td> 0.008264</td>\n",
        "      <td> 0.008264</td>\n",
        "      <td> 0.008264</td>\n",
        "      <td> 0.008264</td>\n",
        "    </tr>\n",
        "    <tr>\n",
        "      <th>4</th>\n",
        "      <td> 10000.jpg</td>\n",
        "      <td> 0.008264</td>\n",
        "      <td> 0.008264</td>\n",
        "      <td> 0.008264</td>\n",
        "      <td> 0.008264</td>\n",
        "      <td> 0.008264</td>\n",
        "      <td> 0.008264</td>\n",
        "      <td> 0.008264</td>\n",
        "      <td> 0.008264</td>\n",
        "      <td> 0.008264</td>\n",
        "      <td>...</td>\n",
        "      <td> 0.008264</td>\n",
        "      <td> 0.008264</td>\n",
        "      <td> 0.008264</td>\n",
        "      <td> 0.008264</td>\n",
        "      <td> 0.008264</td>\n",
        "      <td> 0.008264</td>\n",
        "      <td> 0.008264</td>\n",
        "      <td> 0.008264</td>\n",
        "      <td> 0.008264</td>\n",
        "      <td> 0.008264</td>\n",
        "    </tr>\n",
        "  </tbody>\n",
        "</table>\n",
        "<p>5 rows \u00d7 122 columns</p>\n",
        "</div>"
       ],
       "metadata": {},
       "output_type": "pyout",
       "prompt_number": 3,
       "text": [
        "       image  acantharia_protist_big_center  acantharia_protist_halo  \\\n",
        "0      1.jpg                       0.008264                 0.008264   \n",
        "1     10.jpg                       0.008264                 0.008264   \n",
        "2    100.jpg                       0.008264                 0.008264   \n",
        "3   1000.jpg                       0.008264                 0.008264   \n",
        "4  10000.jpg                       0.008264                 0.008264   \n",
        "\n",
        "   acantharia_protist  amphipods  appendicularian_fritillaridae  \\\n",
        "0            0.008264   0.008264                       0.008264   \n",
        "1            0.008264   0.008264                       0.008264   \n",
        "2            0.008264   0.008264                       0.008264   \n",
        "3            0.008264   0.008264                       0.008264   \n",
        "4            0.008264   0.008264                       0.008264   \n",
        "\n",
        "   appendicularian_s_shape  appendicularian_slight_curve  \\\n",
        "0                 0.008264                      0.008264   \n",
        "1                 0.008264                      0.008264   \n",
        "2                 0.008264                      0.008264   \n",
        "3                 0.008264                      0.008264   \n",
        "4                 0.008264                      0.008264   \n",
        "\n",
        "   appendicularian_straight  artifacts_edge          ...           \\\n",
        "0                  0.008264        0.008264          ...            \n",
        "1                  0.008264        0.008264          ...            \n",
        "2                  0.008264        0.008264          ...            \n",
        "3                  0.008264        0.008264          ...            \n",
        "4                  0.008264        0.008264          ...            \n",
        "\n",
        "   trichodesmium_tuft  trochophore_larvae  tunicate_doliolid_nurse  \\\n",
        "0            0.008264            0.008264                 0.008264   \n",
        "1            0.008264            0.008264                 0.008264   \n",
        "2            0.008264            0.008264                 0.008264   \n",
        "3            0.008264            0.008264                 0.008264   \n",
        "4            0.008264            0.008264                 0.008264   \n",
        "\n",
        "   tunicate_doliolid  tunicate_partial  tunicate_salp_chains  tunicate_salp  \\\n",
        "0           0.008264          0.008264              0.008264       0.008264   \n",
        "1           0.008264          0.008264              0.008264       0.008264   \n",
        "2           0.008264          0.008264              0.008264       0.008264   \n",
        "3           0.008264          0.008264              0.008264       0.008264   \n",
        "4           0.008264          0.008264              0.008264       0.008264   \n",
        "\n",
        "   unknown_blobs_and_smudges  unknown_sticks  unknown_unclassified  \n",
        "0                   0.008264        0.008264              0.008264  \n",
        "1                   0.008264        0.008264              0.008264  \n",
        "2                   0.008264        0.008264              0.008264  \n",
        "3                   0.008264        0.008264              0.008264  \n",
        "4                   0.008264        0.008264              0.008264  \n",
        "\n",
        "[5 rows x 122 columns]"
       ]
      }
     ],
     "prompt_number": 3
    },
    {
     "cell_type": "code",
     "collapsed": false,
     "input": [
      "plt.imshow(X[0][0], cmap='gray')"
     ],
     "language": "python",
     "metadata": {},
     "outputs": [
      {
       "metadata": {},
       "output_type": "pyout",
       "prompt_number": 4,
       "text": [
        "<matplotlib.image.AxesImage at 0x7f8aae4ae650>"
       ]
      },
      {
       "metadata": {},
       "output_type": "display_data",
       "png": "[encoded data removed]",
       "text": [
        "<matplotlib.figure.Figure at 0x7f8aae522050>"
       ]
      }
     ],
     "prompt_number": 4
    },
    {
     "cell_type": "code",
     "collapsed": false,
     "input": [
      "net = utils.load('net-2.21675600581-2015-01-26-00-10-40.pickle')"
     ],
     "language": "python",
     "metadata": {},
     "outputs": [
      {
       "output_type": "stream",
       "stream": "stderr",
       "text": [
        "Problem occurred during compilation with the command line below:\n",
        "/usr/bin/g++ -shared -g -O3 -fno-math-errno -Wno-unused-label -Wno-unused-variable -Wno-write-strings -D NPY_NO_DEPRECATED_API=NPY_1_7_API_VERSION -m64 -fPIC -I/home/ubuntu/anaconda/lib/python2.7/site-packages/numpy/core/include -I/home/ubuntu/anaconda/include/python2.7 -o /home/ubuntu/.theano/compiledir_Linux-3.13--generic-x86_64-with-debian-jessie-sid-x86_64-2.7.9-64/tmptV7W_f/18d5a8a6a9092d5ba63e47774ced3130.so /home/ubuntu/.theano/compiledir_Linux-3.13--generic-x86_64-with-debian-jessie-sid-x86_64-2.7.9-64/tmptV7W_f/mod.cpp -L/home/ubuntu/anaconda/lib -lpython2.7\n",
        "ERROR (theano.gof.cmodule): [Errno 12] Cannot allocate memory\n"
       ]
      },
      {
       "output_type": "stream",
       "stream": "stderr",
       "text": [
        "ERROR:theano.gof.cmodule:[Errno 12] Cannot allocate memory\n"
       ]
      },
      {
       "output_type": "stream",
       "stream": "stderr",
       "text": [
        "ERROR (theano.gof.opt): Optimization failure due to: constant_folding\n"
       ]
      },
      {
       "output_type": "stream",
       "stream": "stderr",
       "text": [
        "ERROR:theano.gof.opt:Optimization failure due to: constant_folding\n"
       ]
      },
      {
       "output_type": "stream",
       "stream": "stderr",
       "text": [
        "ERROR (theano.gof.opt): TRACEBACK:\n"
       ]
      },
      {
       "output_type": "stream",
       "stream": "stderr",
       "text": [
        "ERROR:theano.gof.opt:TRACEBACK:\n"
       ]
      },
      {
       "output_type": "stream",
       "stream": "stderr",
       "text": [
        "ERROR (theano.gof.opt): Traceback (most recent call last):\n",
        "  File \"/home/ubuntu/anaconda/lib/python2.7/site-packages/Theano-0.6.0-py2.7.egg/theano/gof/opt.py\", line 1491, in process_node\n",
        "    replacements = lopt.transform(node)\n",
        "  File \"/home/ubuntu/anaconda/lib/python2.7/site-packages/Theano-0.6.0-py2.7.egg/theano/tensor/opt.py\", line 4639, in constant_folding\n",
        "    no_recycling=[])\n",
        "  File \"/home/ubuntu/anaconda/lib/python2.7/site-packages/Theano-0.6.0-py2.7.egg/theano/gof/op.py\", line 722, in make_thunk\n",
        "    output_storage=node_output_storage)\n",
        "  File \"/home/ubuntu/anaconda/lib/python2.7/site-packages/Theano-0.6.0-py2.7.egg/theano/gof/cc.py\", line 1043, in make_thunk\n",
        "    keep_lock=keep_lock)\n",
        "  File \"/home/ubuntu/anaconda/lib/python2.7/site-packages/Theano-0.6.0-py2.7.egg/theano/gof/cc.py\", line 985, in __compile__\n",
        "    keep_lock=keep_lock)\n",
        "  File \"/home/ubuntu/anaconda/lib/python2.7/site-packages/Theano-0.6.0-py2.7.egg/theano/gof/cc.py\", line 1412, in cthunk_factory\n",
        "    key=key, lnk=self, keep_lock=keep_lock)\n",
        "  File \"/home/ubuntu/anaconda/lib/python2.7/site-packages/Theano-0.6.0-py2.7.egg/theano/gof/cmodule.py\", line 1056, in module_from_key\n",
        "    module = lnk.compile_cmodule(location)\n",
        "  File \"/home/ubuntu/anaconda/lib/python2.7/site-packages/Theano-0.6.0-py2.7.egg/theano/gof/cc.py\", line 1324, in compile_cmodule\n",
        "    preargs=preargs)\n",
        "  File \"/home/ubuntu/anaconda/lib/python2.7/site-packages/Theano-0.6.0-py2.7.egg/theano/gof/cmodule.py\", line 1931, in compile_str\n",
        "    p_out = output_subprocess_Popen(cmd)\n",
        "  File \"/home/ubuntu/anaconda/lib/python2.7/site-packages/Theano-0.6.0-py2.7.egg/theano/misc/windows.py\", line 73, in output_subprocess_Popen\n",
        "    p = subprocess_Popen(command, **params)\n",
        "  File \"/home/ubuntu/anaconda/lib/python2.7/site-packages/Theano-0.6.0-py2.7.egg/theano/misc/windows.py\", line 36, in subprocess_Popen\n",
        "    proc = subprocess.Popen(command, startupinfo=startupinfo, **params)\n",
        "  File \"/home/ubuntu/anaconda/lib/python2.7/subprocess.py\", line 710, in __init__\n",
        "    errread, errwrite)\n",
        "  File \"/home/ubuntu/anaconda/lib/python2.7/subprocess.py\", line 1231, in _execute_child\n",
        "    self.pid = os.fork()\n",
        "OSError: [Errno 12] Cannot allocate memory\n",
        "\n"
       ]
      },
      {
       "output_type": "stream",
       "stream": "stderr",
       "text": [
        "ERROR:theano.gof.opt:Traceback (most recent call last):\n",
        "  File \"/home/ubuntu/anaconda/lib/python2.7/site-packages/Theano-0.6.0-py2.7.egg/theano/gof/opt.py\", line 1491, in process_node\n",
        "    replacements = lopt.transform(node)\n",
        "  File \"/home/ubuntu/anaconda/lib/python2.7/site-packages/Theano-0.6.0-py2.7.egg/theano/tensor/opt.py\", line 4639, in constant_folding\n",
        "    no_recycling=[])\n",
        "  File \"/home/ubuntu/anaconda/lib/python2.7/site-packages/Theano-0.6.0-py2.7.egg/theano/gof/op.py\", line 722, in make_thunk\n",
        "    output_storage=node_output_storage)\n",
        "  File \"/home/ubuntu/anaconda/lib/python2.7/site-packages/Theano-0.6.0-py2.7.egg/theano/gof/cc.py\", line 1043, in make_thunk\n",
        "    keep_lock=keep_lock)\n",
        "  File \"/home/ubuntu/anaconda/lib/python2.7/site-packages/Theano-0.6.0-py2.7.egg/theano/gof/cc.py\", line 985, in __compile__\n",
        "    keep_lock=keep_lock)\n",
        "  File \"/home/ubuntu/anaconda/lib/python2.7/site-packages/Theano-0.6.0-py2.7.egg/theano/gof/cc.py\", line 1412, in cthunk_factory\n",
        "    key=key, lnk=self, keep_lock=keep_lock)\n",
        "  File \"/home/ubuntu/anaconda/lib/python2.7/site-packages/Theano-0.6.0-py2.7.egg/theano/gof/cmodule.py\", line 1056, in module_from_key\n",
        "    module = lnk.compile_cmodule(location)\n",
        "  File \"/home/ubuntu/anaconda/lib/python2.7/site-packages/Theano-0.6.0-py2.7.egg/theano/gof/cc.py\", line 1324, in compile_cmodule\n",
        "    preargs=preargs)\n",
        "  File \"/home/ubuntu/anaconda/lib/python2.7/site-packages/Theano-0.6.0-py2.7.egg/theano/gof/cmodule.py\", line 1931, in compile_str\n",
        "    p_out = output_subprocess_Popen(cmd)\n",
        "  File \"/home/ubuntu/anaconda/lib/python2.7/site-packages/Theano-0.6.0-py2.7.egg/theano/misc/windows.py\", line 73, in output_subprocess_Popen\n",
        "    p = subprocess_Popen(command, **params)\n",
        "  File \"/home/ubuntu/anaconda/lib/python2.7/site-packages/Theano-0.6.0-py2.7.egg/theano/misc/windows.py\", line 36, in subprocess_Popen\n",
        "    proc = subprocess.Popen(command, startupinfo=startupinfo, **params)\n",
        "  File \"/home/ubuntu/anaconda/lib/python2.7/subprocess.py\", line 710, in __init__\n",
        "    errread, errwrite)\n",
        "  File \"/home/ubuntu/anaconda/lib/python2.7/subprocess.py\", line 1231, in _execute_child\n",
        "    self.pid = os.fork()\n",
        "OSError: [Errno 12] Cannot allocate memory\n",
        "\n"
       ]
      },
      {
       "output_type": "stream",
       "stream": "stderr",
       "text": [
        "Problem occurred during compilation with the command line below:\n",
        "/usr/bin/g++ -shared -g -O3 -fno-math-errno -Wno-unused-label -Wno-unused-variable -Wno-write-strings -D NPY_NO_DEPRECATED_API=NPY_1_7_API_VERSION -m64 -fPIC -I/home/ubuntu/anaconda/lib/python2.7/site-packages/numpy/core/include -I/home/ubuntu/anaconda/include/python2.7 -o /home/ubuntu/.theano/compiledir_Linux-3.13--generic-x86_64-with-debian-jessie-sid-x86_64-2.7.9-64/tmp8HoS49/67dc962a2a760ba2842a1e0152c1387d.so /home/ubuntu/.theano/compiledir_Linux-3.13--generic-x86_64-with-debian-jessie-sid-x86_64-2.7.9-64/tmp8HoS49/mod.cpp -L/home/ubuntu/anaconda/lib -lpython2.7\n",
        "ERROR (theano.gof.cmodule): [Errno 12] Cannot allocate memory\n"
       ]
      },
      {
       "output_type": "stream",
       "stream": "stderr",
       "text": [
        "ERROR:theano.gof.cmodule:[Errno 12] Cannot allocate memory\n"
       ]
      },
      {
       "output_type": "stream",
       "stream": "stderr",
       "text": [
        "ERROR (theano.gof.opt): Optimization failure due to: constant_folding\n"
       ]
      },
      {
       "output_type": "stream",
       "stream": "stderr",
       "text": [
        "ERROR:theano.gof.opt:Optimization failure due to: constant_folding\n"
       ]
      },
      {
       "output_type": "stream",
       "stream": "stderr",
       "text": [
        "ERROR (theano.gof.opt): TRACEBACK:\n"
       ]
      },
      {
       "output_type": "stream",
       "stream": "stderr",
       "text": [
        "ERROR:theano.gof.opt:TRACEBACK:\n"
       ]
      },
      {
       "output_type": "stream",
       "stream": "stderr",
       "text": [
        "ERROR (theano.gof.opt): Traceback (most recent call last):\n",
        "  File \"/home/ubuntu/anaconda/lib/python2.7/site-packages/Theano-0.6.0-py2.7.egg/theano/gof/opt.py\", line 1491, in process_node\n",
        "    replacements = lopt.transform(node)\n",
        "  File \"/home/ubuntu/anaconda/lib/python2.7/site-packages/Theano-0.6.0-py2.7.egg/theano/tensor/opt.py\", line 4639, in constant_folding\n",
        "    no_recycling=[])\n",
        "  File \"/home/ubuntu/anaconda/lib/python2.7/site-packages/Theano-0.6.0-py2.7.egg/theano/gof/op.py\", line 722, in make_thunk\n",
        "    output_storage=node_output_storage)\n",
        "  File \"/home/ubuntu/anaconda/lib/python2.7/site-packages/Theano-0.6.0-py2.7.egg/theano/gof/cc.py\", line 1043, in make_thunk\n",
        "    keep_lock=keep_lock)\n",
        "  File \"/home/ubuntu/anaconda/lib/python2.7/site-packages/Theano-0.6.0-py2.7.egg/theano/gof/cc.py\", line 985, in __compile__\n",
        "    keep_lock=keep_lock)\n",
        "  File \"/home/ubuntu/anaconda/lib/python2.7/site-packages/Theano-0.6.0-py2.7.egg/theano/gof/cc.py\", line 1412, in cthunk_factory\n",
        "    key=key, lnk=self, keep_lock=keep_lock)\n",
        "  File \"/home/ubuntu/anaconda/lib/python2.7/site-packages/Theano-0.6.0-py2.7.egg/theano/gof/cmodule.py\", line 1056, in module_from_key\n",
        "    module = lnk.compile_cmodule(location)\n",
        "  File \"/home/ubuntu/anaconda/lib/python2.7/site-packages/Theano-0.6.0-py2.7.egg/theano/gof/cc.py\", line 1324, in compile_cmodule\n",
        "    preargs=preargs)\n",
        "  File \"/home/ubuntu/anaconda/lib/python2.7/site-packages/Theano-0.6.0-py2.7.egg/theano/gof/cmodule.py\", line 1931, in compile_str\n",
        "    p_out = output_subprocess_Popen(cmd)\n",
        "  File \"/home/ubuntu/anaconda/lib/python2.7/site-packages/Theano-0.6.0-py2.7.egg/theano/misc/windows.py\", line 73, in output_subprocess_Popen\n",
        "    p = subprocess_Popen(command, **params)\n",
        "  File \"/home/ubuntu/anaconda/lib/python2.7/site-packages/Theano-0.6.0-py2.7.egg/theano/misc/windows.py\", line 36, in subprocess_Popen\n",
        "    proc = subprocess.Popen(command, startupinfo=startupinfo, **params)\n",
        "  File \"/home/ubuntu/anaconda/lib/python2.7/subprocess.py\", line 710, in __init__\n",
        "    errread, errwrite)\n",
        "  File \"/home/ubuntu/anaconda/lib/python2.7/subprocess.py\", line 1231, in _execute_child\n",
        "    self.pid = os.fork()\n",
        "OSError: [Errno 12] Cannot allocate memory\n",
        "\n"
       ]
      },
      {
       "output_type": "stream",
       "stream": "stderr",
       "text": [
        "ERROR:theano.gof.opt:Traceback (most recent call last):\n",
        "  File \"/home/ubuntu/anaconda/lib/python2.7/site-packages/Theano-0.6.0-py2.7.egg/theano/gof/opt.py\", line 1491, in process_node\n",
        "    replacements = lopt.transform(node)\n",
        "  File \"/home/ubuntu/anaconda/lib/python2.7/site-packages/Theano-0.6.0-py2.7.egg/theano/tensor/opt.py\", line 4639, in constant_folding\n",
        "    no_recycling=[])\n",
        "  File \"/home/ubuntu/anaconda/lib/python2.7/site-packages/Theano-0.6.0-py2.7.egg/theano/gof/op.py\", line 722, in make_thunk\n",
        "    output_storage=node_output_storage)\n",
        "  File \"/home/ubuntu/anaconda/lib/python2.7/site-packages/Theano-0.6.0-py2.7.egg/theano/gof/cc.py\", line 1043, in make_thunk\n",
        "    keep_lock=keep_lock)\n",
        "  File \"/home/ubuntu/anaconda/lib/python2.7/site-packages/Theano-0.6.0-py2.7.egg/theano/gof/cc.py\", line 985, in __compile__\n",
        "    keep_lock=keep_lock)\n",
        "  File \"/home/ubuntu/anaconda/lib/python2.7/site-packages/Theano-0.6.0-py2.7.egg/theano/gof/cc.py\", line 1412, in cthunk_factory\n",
        "    key=key, lnk=self, keep_lock=keep_lock)\n",
        "  File \"/home/ubuntu/anaconda/lib/python2.7/site-packages/Theano-0.6.0-py2.7.egg/theano/gof/cmodule.py\", line 1056, in module_from_key\n",
        "    module = lnk.compile_cmodule(location)\n",
        "  File \"/home/ubuntu/anaconda/lib/python2.7/site-packages/Theano-0.6.0-py2.7.egg/theano/gof/cc.py\", line 1324, in compile_cmodule\n",
        "    preargs=preargs)\n",
        "  File \"/home/ubuntu/anaconda/lib/python2.7/site-packages/Theano-0.6.0-py2.7.egg/theano/gof/cmodule.py\", line 1931, in compile_str\n",
        "    p_out = output_subprocess_Popen(cmd)\n",
        "  File \"/home/ubuntu/anaconda/lib/python2.7/site-packages/Theano-0.6.0-py2.7.egg/theano/misc/windows.py\", line 73, in output_subprocess_Popen\n",
        "    p = subprocess_Popen(command, **params)\n",
        "  File \"/home/ubuntu/anaconda/lib/python2.7/site-packages/Theano-0.6.0-py2.7.egg/theano/misc/windows.py\", line 36, in subprocess_Popen\n",
        "    proc = subprocess.Popen(command, startupinfo=startupinfo, **params)\n",
        "  File \"/home/ubuntu/anaconda/lib/python2.7/subprocess.py\", line 710, in __init__\n",
        "    errread, errwrite)\n",
        "  File \"/home/ubuntu/anaconda/lib/python2.7/subprocess.py\", line 1231, in _execute_child\n",
        "    self.pid = os.fork()\n",
        "OSError: [Errno 12] Cannot allocate memory\n",
        "\n"
       ]
      },
      {
       "output_type": "stream",
       "stream": "stderr",
       "text": [
        "Problem occurred during compilation with the command line below:\n",
        "/usr/bin/g++ -shared -g -O3 -fno-math-errno -Wno-unused-label -Wno-unused-variable -Wno-write-strings -D NPY_NO_DEPRECATED_API=NPY_1_7_API_VERSION -m64 -fPIC -I/home/ubuntu/anaconda/lib/python2.7/site-packages/numpy/core/include -I/home/ubuntu/anaconda/include/python2.7 -o /home/ubuntu/.theano/compiledir_Linux-3.13--generic-x86_64-with-debian-jessie-sid-x86_64-2.7.9-64/tmp0RBv_g/18d5a8a6a9092d5ba63e47774ced3130.so /home/ubuntu/.theano/compiledir_Linux-3.13--generic-x86_64-with-debian-jessie-sid-x86_64-2.7.9-64/tmp0RBv_g/mod.cpp -L/home/ubuntu/anaconda/lib -lpython2.7\n",
        "ERROR (theano.gof.cmodule): [Errno 12] Cannot allocate memory\n"
       ]
      },
      {
       "output_type": "stream",
       "stream": "stderr",
       "text": [
        "ERROR:theano.gof.cmodule:[Errno 12] Cannot allocate memory\n"
       ]
      },
      {
       "output_type": "stream",
       "stream": "stderr",
       "text": [
        "ERROR (theano.gof.opt): Optimization failure due to: constant_folding\n"
       ]
      },
      {
       "output_type": "stream",
       "stream": "stderr",
       "text": [
        "ERROR:theano.gof.opt:Optimization failure due to: constant_folding\n"
       ]
      },
      {
       "output_type": "stream",
       "stream": "stderr",
       "text": [
        "ERROR (theano.gof.opt): TRACEBACK:\n"
       ]
      },
      {
       "output_type": "stream",
       "stream": "stderr",
       "text": [
        "ERROR:theano.gof.opt:TRACEBACK:\n"
       ]
      },
      {
       "output_type": "stream",
       "stream": "stderr",
       "text": [
        "ERROR (theano.gof.opt): Traceback (most recent call last):\n",
        "  File \"/home/ubuntu/anaconda/lib/python2.7/site-packages/Theano-0.6.0-py2.7.egg/theano/gof/opt.py\", line 1491, in process_node\n",
        "    replacements = lopt.transform(node)\n",
        "  File \"/home/ubuntu/anaconda/lib/python2.7/site-packages/Theano-0.6.0-py2.7.egg/theano/tensor/opt.py\", line 4639, in constant_folding\n",
        "    no_recycling=[])\n",
        "  File \"/home/ubuntu/anaconda/lib/python2.7/site-packages/Theano-0.6.0-py2.7.egg/theano/gof/op.py\", line 722, in make_thunk\n",
        "    output_storage=node_output_storage)\n",
        "  File \"/home/ubuntu/anaconda/lib/python2.7/site-packages/Theano-0.6.0-py2.7.egg/theano/gof/cc.py\", line 1043, in make_thunk\n",
        "    keep_lock=keep_lock)\n",
        "  File \"/home/ubuntu/anaconda/lib/python2.7/site-packages/Theano-0.6.0-py2.7.egg/theano/gof/cc.py\", line 985, in __compile__\n",
        "    keep_lock=keep_lock)\n",
        "  File \"/home/ubuntu/anaconda/lib/python2.7/site-packages/Theano-0.6.0-py2.7.egg/theano/gof/cc.py\", line 1412, in cthunk_factory\n",
        "    key=key, lnk=self, keep_lock=keep_lock)\n",
        "  File \"/home/ubuntu/anaconda/lib/python2.7/site-packages/Theano-0.6.0-py2.7.egg/theano/gof/cmodule.py\", line 1056, in module_from_key\n",
        "    module = lnk.compile_cmodule(location)\n",
        "  File \"/home/ubuntu/anaconda/lib/python2.7/site-packages/Theano-0.6.0-py2.7.egg/theano/gof/cc.py\", line 1324, in compile_cmodule\n",
        "    preargs=preargs)\n",
        "  File \"/home/ubuntu/anaconda/lib/python2.7/site-packages/Theano-0.6.0-py2.7.egg/theano/gof/cmodule.py\", line 1931, in compile_str\n",
        "    p_out = output_subprocess_Popen(cmd)\n",
        "  File \"/home/ubuntu/anaconda/lib/python2.7/site-packages/Theano-0.6.0-py2.7.egg/theano/misc/windows.py\", line 73, in output_subprocess_Popen\n",
        "    p = subprocess_Popen(command, **params)\n",
        "  File \"/home/ubuntu/anaconda/lib/python2.7/site-packages/Theano-0.6.0-py2.7.egg/theano/misc/windows.py\", line 36, in subprocess_Popen\n",
        "    proc = subprocess.Popen(command, startupinfo=startupinfo, **params)\n",
        "  File \"/home/ubuntu/anaconda/lib/python2.7/subprocess.py\", line 710, in __init__\n",
        "    errread, errwrite)\n",
        "  File \"/home/ubuntu/anaconda/lib/python2.7/subprocess.py\", line 1231, in _execute_child\n",
        "    self.pid = os.fork()\n",
        "OSError: [Errno 12] Cannot allocate memory\n",
        "\n"
       ]
      },
      {
       "output_type": "stream",
       "stream": "stderr",
       "text": [
        "ERROR:theano.gof.opt:Traceback (most recent call last):\n",
        "  File \"/home/ubuntu/anaconda/lib/python2.7/site-packages/Theano-0.6.0-py2.7.egg/theano/gof/opt.py\", line 1491, in process_node\n",
        "    replacements = lopt.transform(node)\n",
        "  File \"/home/ubuntu/anaconda/lib/python2.7/site-packages/Theano-0.6.0-py2.7.egg/theano/tensor/opt.py\", line 4639, in constant_folding\n",
        "    no_recycling=[])\n",
        "  File \"/home/ubuntu/anaconda/lib/python2.7/site-packages/Theano-0.6.0-py2.7.egg/theano/gof/op.py\", line 722, in make_thunk\n",
        "    output_storage=node_output_storage)\n",
        "  File \"/home/ubuntu/anaconda/lib/python2.7/site-packages/Theano-0.6.0-py2.7.egg/theano/gof/cc.py\", line 1043, in make_thunk\n",
        "    keep_lock=keep_lock)\n",
        "  File \"/home/ubuntu/anaconda/lib/python2.7/site-packages/Theano-0.6.0-py2.7.egg/theano/gof/cc.py\", line 985, in __compile__\n",
        "    keep_lock=keep_lock)\n",
        "  File \"/home/ubuntu/anaconda/lib/python2.7/site-packages/Theano-0.6.0-py2.7.egg/theano/gof/cc.py\", line 1412, in cthunk_factory\n",
        "    key=key, lnk=self, keep_lock=keep_lock)\n",
        "  File \"/home/ubuntu/anaconda/lib/python2.7/site-packages/Theano-0.6.0-py2.7.egg/theano/gof/cmodule.py\", line 1056, in module_from_key\n",
        "    module = lnk.compile_cmodule(location)\n",
        "  File \"/home/ubuntu/anaconda/lib/python2.7/site-packages/Theano-0.6.0-py2.7.egg/theano/gof/cc.py\", line 1324, in compile_cmodule\n",
        "    preargs=preargs)\n",
        "  File \"/home/ubuntu/anaconda/lib/python2.7/site-packages/Theano-0.6.0-py2.7.egg/theano/gof/cmodule.py\", line 1931, in compile_str\n",
        "    p_out = output_subprocess_Popen(cmd)\n",
        "  File \"/home/ubuntu/anaconda/lib/python2.7/site-packages/Theano-0.6.0-py2.7.egg/theano/misc/windows.py\", line 73, in output_subprocess_Popen\n",
        "    p = subprocess_Popen(command, **params)\n",
        "  File \"/home/ubuntu/anaconda/lib/python2.7/site-packages/Theano-0.6.0-py2.7.egg/theano/misc/windows.py\", line 36, in subprocess_Popen\n",
        "    proc = subprocess.Popen(command, startupinfo=startupinfo, **params)\n",
        "  File \"/home/ubuntu/anaconda/lib/python2.7/subprocess.py\", line 710, in __init__\n",
        "    errread, errwrite)\n",
        "  File \"/home/ubuntu/anaconda/lib/python2.7/subprocess.py\", line 1231, in _execute_child\n",
        "    self.pid = os.fork()\n",
        "OSError: [Errno 12] Cannot allocate memory\n",
        "\n"
       ]
      },
      {
       "output_type": "stream",
       "stream": "stderr",
       "text": [
        "Problem occurred during compilation with the command line below:\n",
        "/usr/bin/g++ -shared -g -O3 -fno-math-errno -Wno-unused-label -Wno-unused-variable -Wno-write-strings -D NPY_NO_DEPRECATED_API=NPY_1_7_API_VERSION -m64 -fPIC -I/home/ubuntu/anaconda/lib/python2.7/site-packages/numpy/core/include -I/home/ubuntu/anaconda/include/python2.7 -o /home/ubuntu/.theano/compiledir_Linux-3.13--generic-x86_64-with-debian-jessie-sid-x86_64-2.7.9-64/tmp4mbygU/67dc962a2a760ba2842a1e0152c1387d.so /home/ubuntu/.theano/compiledir_Linux-3.13--generic-x86_64-with-debian-jessie-sid-x86_64-2.7.9-64/tmp4mbygU/mod.cpp -L/home/ubuntu/anaconda/lib -lpython2.7\n",
        "ERROR (theano.gof.cmodule): [Errno 12] Cannot allocate memory\n"
       ]
      },
      {
       "output_type": "stream",
       "stream": "stderr",
       "text": [
        "ERROR:theano.gof.cmodule:[Errno 12] Cannot allocate memory\n"
       ]
      },
      {
       "output_type": "stream",
       "stream": "stderr",
       "text": [
        "ERROR (theano.gof.opt): Optimization failure due to: constant_folding\n"
       ]
      },
      {
       "output_type": "stream",
       "stream": "stderr",
       "text": [
        "ERROR:theano.gof.opt:Optimization failure due to: constant_folding\n"
       ]
      },
      {
       "output_type": "stream",
       "stream": "stderr",
       "text": [
        "ERROR (theano.gof.opt): TRACEBACK:\n"
       ]
      },
      {
       "output_type": "stream",
       "stream": "stderr",
       "text": [
        "ERROR:theano.gof.opt:TRACEBACK:\n"
       ]
      },
      {
       "output_type": "stream",
       "stream": "stderr",
       "text": [
        "ERROR (theano.gof.opt): Traceback (most recent call last):\n",
        "  File \"/home/ubuntu/anaconda/lib/python2.7/site-packages/Theano-0.6.0-py2.7.egg/theano/gof/opt.py\", line 1491, in process_node\n",
        "    replacements = lopt.transform(node)\n",
        "  File \"/home/ubuntu/anaconda/lib/python2.7/site-packages/Theano-0.6.0-py2.7.egg/theano/tensor/opt.py\", line 4639, in constant_folding\n",
        "    no_recycling=[])\n",
        "  File \"/home/ubuntu/anaconda/lib/python2.7/site-packages/Theano-0.6.0-py2.7.egg/theano/gof/op.py\", line 722, in make_thunk\n",
        "    output_storage=node_output_storage)\n",
        "  File \"/home/ubuntu/anaconda/lib/python2.7/site-packages/Theano-0.6.0-py2.7.egg/theano/gof/cc.py\", line 1043, in make_thunk\n",
        "    keep_lock=keep_lock)\n",
        "  File \"/home/ubuntu/anaconda/lib/python2.7/site-packages/Theano-0.6.0-py2.7.egg/theano/gof/cc.py\", line 985, in __compile__\n",
        "    keep_lock=keep_lock)\n",
        "  File \"/home/ubuntu/anaconda/lib/python2.7/site-packages/Theano-0.6.0-py2.7.egg/theano/gof/cc.py\", line 1412, in cthunk_factory\n",
        "    key=key, lnk=self, keep_lock=keep_lock)\n",
        "  File \"/home/ubuntu/anaconda/lib/python2.7/site-packages/Theano-0.6.0-py2.7.egg/theano/gof/cmodule.py\", line 1056, in module_from_key\n",
        "    module = lnk.compile_cmodule(location)\n",
        "  File \"/home/ubuntu/anaconda/lib/python2.7/site-packages/Theano-0.6.0-py2.7.egg/theano/gof/cc.py\", line 1324, in compile_cmodule\n",
        "    preargs=preargs)\n",
        "  File \"/home/ubuntu/anaconda/lib/python2.7/site-packages/Theano-0.6.0-py2.7.egg/theano/gof/cmodule.py\", line 1931, in compile_str\n",
        "    p_out = output_subprocess_Popen(cmd)\n",
        "  File \"/home/ubuntu/anaconda/lib/python2.7/site-packages/Theano-0.6.0-py2.7.egg/theano/misc/windows.py\", line 73, in output_subprocess_Popen\n",
        "    p = subprocess_Popen(command, **params)\n",
        "  File \"/home/ubuntu/anaconda/lib/python2.7/site-packages/Theano-0.6.0-py2.7.egg/theano/misc/windows.py\", line 36, in subprocess_Popen\n",
        "    proc = subprocess.Popen(command, startupinfo=startupinfo, **params)\n",
        "  File \"/home/ubuntu/anaconda/lib/python2.7/subprocess.py\", line 710, in __init__\n",
        "    errread, errwrite)\n",
        "  File \"/home/ubuntu/anaconda/lib/python2.7/subprocess.py\", line 1231, in _execute_child\n",
        "    self.pid = os.fork()\n",
        "OSError: [Errno 12] Cannot allocate memory\n",
        "\n"
       ]
      },
      {
       "output_type": "stream",
       "stream": "stderr",
       "text": [
        "ERROR:theano.gof.opt:Traceback (most recent call last):\n",
        "  File \"/home/ubuntu/anaconda/lib/python2.7/site-packages/Theano-0.6.0-py2.7.egg/theano/gof/opt.py\", line 1491, in process_node\n",
        "    replacements = lopt.transform(node)\n",
        "  File \"/home/ubuntu/anaconda/lib/python2.7/site-packages/Theano-0.6.0-py2.7.egg/theano/tensor/opt.py\", line 4639, in constant_folding\n",
        "    no_recycling=[])\n",
        "  File \"/home/ubuntu/anaconda/lib/python2.7/site-packages/Theano-0.6.0-py2.7.egg/theano/gof/op.py\", line 722, in make_thunk\n",
        "    output_storage=node_output_storage)\n",
        "  File \"/home/ubuntu/anaconda/lib/python2.7/site-packages/Theano-0.6.0-py2.7.egg/theano/gof/cc.py\", line 1043, in make_thunk\n",
        "    keep_lock=keep_lock)\n",
        "  File \"/home/ubuntu/anaconda/lib/python2.7/site-packages/Theano-0.6.0-py2.7.egg/theano/gof/cc.py\", line 985, in __compile__\n",
        "    keep_lock=keep_lock)\n",
        "  File \"/home/ubuntu/anaconda/lib/python2.7/site-packages/Theano-0.6.0-py2.7.egg/theano/gof/cc.py\", line 1412, in cthunk_factory\n",
        "    key=key, lnk=self, keep_lock=keep_lock)\n",
        "  File \"/home/ubuntu/anaconda/lib/python2.7/site-packages/Theano-0.6.0-py2.7.egg/theano/gof/cmodule.py\", line 1056, in module_from_key\n",
        "    module = lnk.compile_cmodule(location)\n",
        "  File \"/home/ubuntu/anaconda/lib/python2.7/site-packages/Theano-0.6.0-py2.7.egg/theano/gof/cc.py\", line 1324, in compile_cmodule\n",
        "    preargs=preargs)\n",
        "  File \"/home/ubuntu/anaconda/lib/python2.7/site-packages/Theano-0.6.0-py2.7.egg/theano/gof/cmodule.py\", line 1931, in compile_str\n",
        "    p_out = output_subprocess_Popen(cmd)\n",
        "  File \"/home/ubuntu/anaconda/lib/python2.7/site-packages/Theano-0.6.0-py2.7.egg/theano/misc/windows.py\", line 73, in output_subprocess_Popen\n",
        "    p = subprocess_Popen(command, **params)\n",
        "  File \"/home/ubuntu/anaconda/lib/python2.7/site-packages/Theano-0.6.0-py2.7.egg/theano/misc/windows.py\", line 36, in subprocess_Popen\n",
        "    proc = subprocess.Popen(command, startupinfo=startupinfo, **params)\n",
        "  File \"/home/ubuntu/anaconda/lib/python2.7/subprocess.py\", line 710, in __init__\n",
        "    errread, errwrite)\n",
        "  File \"/home/ubuntu/anaconda/lib/python2.7/subprocess.py\", line 1231, in _execute_child\n",
        "    self.pid = os.fork()\n",
        "OSError: [Errno 12] Cannot allocate memory\n",
        "\n"
       ]
      },
      {
       "output_type": "stream",
       "stream": "stderr",
       "text": [
        "Problem occurred during compilation with the command line below:\n",
        "/usr/bin/g++ -shared -g -O3 -fno-math-errno -Wno-unused-label -Wno-unused-variable -Wno-write-strings -D NPY_NO_DEPRECATED_API=NPY_1_7_API_VERSION -m64 -fPIC -I/home/ubuntu/anaconda/lib/python2.7/site-packages/numpy/core/include -I/home/ubuntu/anaconda/include/python2.7 -o /home/ubuntu/.theano/compiledir_Linux-3.13--generic-x86_64-with-debian-jessie-sid-x86_64-2.7.9-64/tmpomTkp_/e0b28ec03e051f80e055d0173c808bbb.so /home/ubuntu/.theano/compiledir_Linux-3.13--generic-x86_64-with-debian-jessie-sid-x86_64-2.7.9-64/tmpomTkp_/mod.cpp -L/home/ubuntu/anaconda/lib -lpython2.7\n",
        "ERROR (theano.gof.cmodule): [Errno 12] Cannot allocate memory\n"
       ]
      },
      {
       "output_type": "stream",
       "stream": "stderr",
       "text": [
        "ERROR:theano.gof.cmodule:[Errno 12] Cannot allocate memory\n"
       ]
      },
      {
       "output_type": "stream",
       "stream": "stderr",
       "text": [
        "ERROR (theano.gof.opt): Optimization failure due to: constant_folding\n"
       ]
      },
      {
       "output_type": "stream",
       "stream": "stderr",
       "text": [
        "ERROR:theano.gof.opt:Optimization failure due to: constant_folding\n"
       ]
      },
      {
       "output_type": "stream",
       "stream": "stderr",
       "text": [
        "ERROR (theano.gof.opt): TRACEBACK:\n"
       ]
      },
      {
       "output_type": "stream",
       "stream": "stderr",
       "text": [
        "ERROR:theano.gof.opt:TRACEBACK:\n"
       ]
      },
      {
       "output_type": "stream",
       "stream": "stderr",
       "text": [
        "ERROR (theano.gof.opt): Traceback (most recent call last):\n",
        "  File \"/home/ubuntu/anaconda/lib/python2.7/site-packages/Theano-0.6.0-py2.7.egg/theano/gof/opt.py\", line 1491, in process_node\n",
        "    replacements = lopt.transform(node)\n",
        "  File \"/home/ubuntu/anaconda/lib/python2.7/site-packages/Theano-0.6.0-py2.7.egg/theano/tensor/opt.py\", line 4639, in constant_folding\n",
        "    no_recycling=[])\n",
        "  File \"/home/ubuntu/anaconda/lib/python2.7/site-packages/Theano-0.6.0-py2.7.egg/theano/gof/op.py\", line 722, in make_thunk\n",
        "    output_storage=node_output_storage)\n",
        "  File \"/home/ubuntu/anaconda/lib/python2.7/site-packages/Theano-0.6.0-py2.7.egg/theano/gof/cc.py\", line 1043, in make_thunk\n",
        "    keep_lock=keep_lock)\n",
        "  File \"/home/ubuntu/anaconda/lib/python2.7/site-packages/Theano-0.6.0-py2.7.egg/theano/gof/cc.py\", line 985, in __compile__\n",
        "    keep_lock=keep_lock)\n",
        "  File \"/home/ubuntu/anaconda/lib/python2.7/site-packages/Theano-0.6.0-py2.7.egg/theano/gof/cc.py\", line 1412, in cthunk_factory\n",
        "    key=key, lnk=self, keep_lock=keep_lock)\n",
        "  File \"/home/ubuntu/anaconda/lib/python2.7/site-packages/Theano-0.6.0-py2.7.egg/theano/gof/cmodule.py\", line 1056, in module_from_key\n",
        "    module = lnk.compile_cmodule(location)\n",
        "  File \"/home/ubuntu/anaconda/lib/python2.7/site-packages/Theano-0.6.0-py2.7.egg/theano/gof/cc.py\", line 1324, in compile_cmodule\n",
        "    preargs=preargs)\n",
        "  File \"/home/ubuntu/anaconda/lib/python2.7/site-packages/Theano-0.6.0-py2.7.egg/theano/gof/cmodule.py\", line 1931, in compile_str\n",
        "    p_out = output_subprocess_Popen(cmd)\n",
        "  File \"/home/ubuntu/anaconda/lib/python2.7/site-packages/Theano-0.6.0-py2.7.egg/theano/misc/windows.py\", line 73, in output_subprocess_Popen\n",
        "    p = subprocess_Popen(command, **params)\n",
        "  File \"/home/ubuntu/anaconda/lib/python2.7/site-packages/Theano-0.6.0-py2.7.egg/theano/misc/windows.py\", line 36, in subprocess_Popen\n",
        "    proc = subprocess.Popen(command, startupinfo=startupinfo, **params)\n",
        "  File \"/home/ubuntu/anaconda/lib/python2.7/subprocess.py\", line 710, in __init__\n",
        "    errread, errwrite)\n",
        "  File \"/home/ubuntu/anaconda/lib/python2.7/subprocess.py\", line 1231, in _execute_child\n",
        "    self.pid = os.fork()\n",
        "OSError: [Errno 12] Cannot allocate memory\n",
        "\n"
       ]
      },
      {
       "output_type": "stream",
       "stream": "stderr",
       "text": [
        "ERROR:theano.gof.opt:Traceback (most recent call last):\n",
        "  File \"/home/ubuntu/anaconda/lib/python2.7/site-packages/Theano-0.6.0-py2.7.egg/theano/gof/opt.py\", line 1491, in process_node\n",
        "    replacements = lopt.transform(node)\n",
        "  File \"/home/ubuntu/anaconda/lib/python2.7/site-packages/Theano-0.6.0-py2.7.egg/theano/tensor/opt.py\", line 4639, in constant_folding\n",
        "    no_recycling=[])\n",
        "  File \"/home/ubuntu/anaconda/lib/python2.7/site-packages/Theano-0.6.0-py2.7.egg/theano/gof/op.py\", line 722, in make_thunk\n",
        "    output_storage=node_output_storage)\n",
        "  File \"/home/ubuntu/anaconda/lib/python2.7/site-packages/Theano-0.6.0-py2.7.egg/theano/gof/cc.py\", line 1043, in make_thunk\n",
        "    keep_lock=keep_lock)\n",
        "  File \"/home/ubuntu/anaconda/lib/python2.7/site-packages/Theano-0.6.0-py2.7.egg/theano/gof/cc.py\", line 985, in __compile__\n",
        "    keep_lock=keep_lock)\n",
        "  File \"/home/ubuntu/anaconda/lib/python2.7/site-packages/Theano-0.6.0-py2.7.egg/theano/gof/cc.py\", line 1412, in cthunk_factory\n",
        "    key=key, lnk=self, keep_lock=keep_lock)\n",
        "  File \"/home/ubuntu/anaconda/lib/python2.7/site-packages/Theano-0.6.0-py2.7.egg/theano/gof/cmodule.py\", line 1056, in module_from_key\n",
        "    module = lnk.compile_cmodule(location)\n",
        "  File \"/home/ubuntu/anaconda/lib/python2.7/site-packages/Theano-0.6.0-py2.7.egg/theano/gof/cc.py\", line 1324, in compile_cmodule\n",
        "    preargs=preargs)\n",
        "  File \"/home/ubuntu/anaconda/lib/python2.7/site-packages/Theano-0.6.0-py2.7.egg/theano/gof/cmodule.py\", line 1931, in compile_str\n",
        "    p_out = output_subprocess_Popen(cmd)\n",
        "  File \"/home/ubuntu/anaconda/lib/python2.7/site-packages/Theano-0.6.0-py2.7.egg/theano/misc/windows.py\", line 73, in output_subprocess_Popen\n",
        "    p = subprocess_Popen(command, **params)\n",
        "  File \"/home/ubuntu/anaconda/lib/python2.7/site-packages/Theano-0.6.0-py2.7.egg/theano/misc/windows.py\", line 36, in subprocess_Popen\n",
        "    proc = subprocess.Popen(command, startupinfo=startupinfo, **params)\n",
        "  File \"/home/ubuntu/anaconda/lib/python2.7/subprocess.py\", line 710, in __init__\n",
        "    errread, errwrite)\n",
        "  File \"/home/ubuntu/anaconda/lib/python2.7/subprocess.py\", line 1231, in _execute_child\n",
        "    self.pid = os.fork()\n",
        "OSError: [Errno 12] Cannot allocate memory\n",
        "\n"
       ]
      },
      {
       "output_type": "stream",
       "stream": "stderr",
       "text": [
        "Problem occurred during compilation with the command line below:\n",
        "/usr/bin/g++ -shared -g -O3 -fno-math-errno -Wno-unused-label -Wno-unused-variable -Wno-write-strings -D NPY_NO_DEPRECATED_API=NPY_1_7_API_VERSION -m64 -fPIC -I/home/ubuntu/anaconda/lib/python2.7/site-packages/numpy/core/include -I/home/ubuntu/anaconda/include/python2.7 -o /home/ubuntu/.theano/compiledir_Linux-3.13--generic-x86_64-with-debian-jessie-sid-x86_64-2.7.9-64/tmpDI0__3/18d5a8a6a9092d5ba63e47774ced3130.so /home/ubuntu/.theano/compiledir_Linux-3.13--generic-x86_64-with-debian-jessie-sid-x86_64-2.7.9-64/tmpDI0__3/mod.cpp -L/home/ubuntu/anaconda/lib -lpython2.7\n",
        "ERROR (theano.gof.cmodule): [Errno 12] Cannot allocate memory\n"
       ]
      },
      {
       "output_type": "stream",
       "stream": "stderr",
       "text": [
        "ERROR:theano.gof.cmodule:[Errno 12] Cannot allocate memory\n"
       ]
      },
      {
       "output_type": "stream",
       "stream": "stderr",
       "text": [
        "ERROR (theano.gof.opt): Optimization failure due to: constant_folding\n"
       ]
      },
      {
       "output_type": "stream",
       "stream": "stderr",
       "text": [
        "ERROR:theano.gof.opt:Optimization failure due to: constant_folding\n"
       ]
      },
      {
       "output_type": "stream",
       "stream": "stderr",
       "text": [
        "ERROR (theano.gof.opt): TRACEBACK:\n"
       ]
      },
      {
       "output_type": "stream",
       "stream": "stderr",
       "text": [
        "ERROR:theano.gof.opt:TRACEBACK:\n"
       ]
      },
      {
       "output_type": "stream",
       "stream": "stderr",
       "text": [
        "ERROR (theano.gof.opt): Traceback (most recent call last):\n",
        "  File \"/home/ubuntu/anaconda/lib/python2.7/site-packages/Theano-0.6.0-py2.7.egg/theano/gof/opt.py\", line 1491, in process_node\n",
        "    replacements = lopt.transform(node)\n",
        "  File \"/home/ubuntu/anaconda/lib/python2.7/site-packages/Theano-0.6.0-py2.7.egg/theano/tensor/opt.py\", line 4639, in constant_folding\n",
        "    no_recycling=[])\n",
        "  File \"/home/ubuntu/anaconda/lib/python2.7/site-packages/Theano-0.6.0-py2.7.egg/theano/gof/op.py\", line 722, in make_thunk\n",
        "    output_storage=node_output_storage)\n",
        "  File \"/home/ubuntu/anaconda/lib/python2.7/site-packages/Theano-0.6.0-py2.7.egg/theano/gof/cc.py\", line 1043, in make_thunk\n",
        "    keep_lock=keep_lock)\n",
        "  File \"/home/ubuntu/anaconda/lib/python2.7/site-packages/Theano-0.6.0-py2.7.egg/theano/gof/cc.py\", line 985, in __compile__\n",
        "    keep_lock=keep_lock)\n",
        "  File \"/home/ubuntu/anaconda/lib/python2.7/site-packages/Theano-0.6.0-py2.7.egg/theano/gof/cc.py\", line 1412, in cthunk_factory\n",
        "    key=key, lnk=self, keep_lock=keep_lock)\n",
        "  File \"/home/ubuntu/anaconda/lib/python2.7/site-packages/Theano-0.6.0-py2.7.egg/theano/gof/cmodule.py\", line 1056, in module_from_key\n",
        "    module = lnk.compile_cmodule(location)\n",
        "  File \"/home/ubuntu/anaconda/lib/python2.7/site-packages/Theano-0.6.0-py2.7.egg/theano/gof/cc.py\", line 1324, in compile_cmodule\n",
        "    preargs=preargs)\n",
        "  File \"/home/ubuntu/anaconda/lib/python2.7/site-packages/Theano-0.6.0-py2.7.egg/theano/gof/cmodule.py\", line 1931, in compile_str\n",
        "    p_out = output_subprocess_Popen(cmd)\n",
        "  File \"/home/ubuntu/anaconda/lib/python2.7/site-packages/Theano-0.6.0-py2.7.egg/theano/misc/windows.py\", line 73, in output_subprocess_Popen\n",
        "    p = subprocess_Popen(command, **params)\n",
        "  File \"/home/ubuntu/anaconda/lib/python2.7/site-packages/Theano-0.6.0-py2.7.egg/theano/misc/windows.py\", line 36, in subprocess_Popen\n",
        "    proc = subprocess.Popen(command, startupinfo=startupinfo, **params)\n",
        "  File \"/home/ubuntu/anaconda/lib/python2.7/subprocess.py\", line 710, in __init__\n",
        "    errread, errwrite)\n",
        "  File \"/home/ubuntu/anaconda/lib/python2.7/subprocess.py\", line 1231, in _execute_child\n",
        "    self.pid = os.fork()\n",
        "OSError: [Errno 12] Cannot allocate memory\n",
        "\n"
       ]
      },
      {
       "output_type": "stream",
       "stream": "stderr",
       "text": [
        "ERROR:theano.gof.opt:Traceback (most recent call last):\n",
        "  File \"/home/ubuntu/anaconda/lib/python2.7/site-packages/Theano-0.6.0-py2.7.egg/theano/gof/opt.py\", line 1491, in process_node\n",
        "    replacements = lopt.transform(node)\n",
        "  File \"/home/ubuntu/anaconda/lib/python2.7/site-packages/Theano-0.6.0-py2.7.egg/theano/tensor/opt.py\", line 4639, in constant_folding\n",
        "    no_recycling=[])\n",
        "  File \"/home/ubuntu/anaconda/lib/python2.7/site-packages/Theano-0.6.0-py2.7.egg/theano/gof/op.py\", line 722, in make_thunk\n",
        "    output_storage=node_output_storage)\n",
        "  File \"/home/ubuntu/anaconda/lib/python2.7/site-packages/Theano-0.6.0-py2.7.egg/theano/gof/cc.py\", line 1043, in make_thunk\n",
        "    keep_lock=keep_lock)\n",
        "  File \"/home/ubuntu/anaconda/lib/python2.7/site-packages/Theano-0.6.0-py2.7.egg/theano/gof/cc.py\", line 985, in __compile__\n",
        "    keep_lock=keep_lock)\n",
        "  File \"/home/ubuntu/anaconda/lib/python2.7/site-packages/Theano-0.6.0-py2.7.egg/theano/gof/cc.py\", line 1412, in cthunk_factory\n",
        "    key=key, lnk=self, keep_lock=keep_lock)\n",
        "  File \"/home/ubuntu/anaconda/lib/python2.7/site-packages/Theano-0.6.0-py2.7.egg/theano/gof/cmodule.py\", line 1056, in module_from_key\n",
        "    module = lnk.compile_cmodule(location)\n",
        "  File \"/home/ubuntu/anaconda/lib/python2.7/site-packages/Theano-0.6.0-py2.7.egg/theano/gof/cc.py\", line 1324, in compile_cmodule\n",
        "    preargs=preargs)\n",
        "  File \"/home/ubuntu/anaconda/lib/python2.7/site-packages/Theano-0.6.0-py2.7.egg/theano/gof/cmodule.py\", line 1931, in compile_str\n",
        "    p_out = output_subprocess_Popen(cmd)\n",
        "  File \"/home/ubuntu/anaconda/lib/python2.7/site-packages/Theano-0.6.0-py2.7.egg/theano/misc/windows.py\", line 73, in output_subprocess_Popen\n",
        "    p = subprocess_Popen(command, **params)\n",
        "  File \"/home/ubuntu/anaconda/lib/python2.7/site-packages/Theano-0.6.0-py2.7.egg/theano/misc/windows.py\", line 36, in subprocess_Popen\n",
        "    proc = subprocess.Popen(command, startupinfo=startupinfo, **params)\n",
        "  File \"/home/ubuntu/anaconda/lib/python2.7/subprocess.py\", line 710, in __init__\n",
        "    errread, errwrite)\n",
        "  File \"/home/ubuntu/anaconda/lib/python2.7/subprocess.py\", line 1231, in _execute_child\n",
        "    self.pid = os.fork()\n",
        "OSError: [Errno 12] Cannot allocate memory\n",
        "\n"
       ]
      },
      {
       "output_type": "stream",
       "stream": "stderr",
       "text": [
        "Problem occurred during compilation with the command line below:\n",
        "/usr/bin/g++ -shared -g -O3 -fno-math-errno -Wno-unused-label -Wno-unused-variable -Wno-write-strings -D NPY_NO_DEPRECATED_API=NPY_1_7_API_VERSION -m64 -fPIC -I/home/ubuntu/anaconda/lib/python2.7/site-packages/numpy/core/include -I/home/ubuntu/anaconda/include/python2.7 -o /home/ubuntu/.theano/compiledir_Linux-3.13--generic-x86_64-with-debian-jessie-sid-x86_64-2.7.9-64/tmp8wouQ2/67dc962a2a760ba2842a1e0152c1387d.so /home/ubuntu/.theano/compiledir_Linux-3.13--generic-x86_64-with-debian-jessie-sid-x86_64-2.7.9-64/tmp8wouQ2/mod.cpp -L/home/ubuntu/anaconda/lib -lpython2.7\n",
        "ERROR (theano.gof.cmodule): [Errno 12] Cannot allocate memory\n"
       ]
      },
      {
       "output_type": "stream",
       "stream": "stderr",
       "text": [
        "ERROR:theano.gof.cmodule:[Errno 12] Cannot allocate memory\n"
       ]
      },
      {
       "output_type": "stream",
       "stream": "stderr",
       "text": [
        "ERROR (theano.gof.opt): Optimization failure due to: constant_folding\n"
       ]
      },
      {
       "output_type": "stream",
       "stream": "stderr",
       "text": [
        "ERROR:theano.gof.opt:Optimization failure due to: constant_folding\n"
       ]
      },
      {
       "output_type": "stream",
       "stream": "stderr",
       "text": [
        "ERROR (theano.gof.opt): TRACEBACK:\n"
       ]
      },
      {
       "output_type": "stream",
       "stream": "stderr",
       "text": [
        "ERROR:theano.gof.opt:TRACEBACK:\n"
       ]
      },
      {
       "output_type": "stream",
       "stream": "stderr",
       "text": [
        "ERROR (theano.gof.opt): Traceback (most recent call last):\n",
        "  File \"/home/ubuntu/anaconda/lib/python2.7/site-packages/Theano-0.6.0-py2.7.egg/theano/gof/opt.py\", line 1491, in process_node\n",
        "    replacements = lopt.transform(node)\n",
        "  File \"/home/ubuntu/anaconda/lib/python2.7/site-packages/Theano-0.6.0-py2.7.egg/theano/tensor/opt.py\", line 4639, in constant_folding\n",
        "    no_recycling=[])\n",
        "  File \"/home/ubuntu/anaconda/lib/python2.7/site-packages/Theano-0.6.0-py2.7.egg/theano/gof/op.py\", line 722, in make_thunk\n",
        "    output_storage=node_output_storage)\n",
        "  File \"/home/ubuntu/anaconda/lib/python2.7/site-packages/Theano-0.6.0-py2.7.egg/theano/gof/cc.py\", line 1043, in make_thunk\n",
        "    keep_lock=keep_lock)\n",
        "  File \"/home/ubuntu/anaconda/lib/python2.7/site-packages/Theano-0.6.0-py2.7.egg/theano/gof/cc.py\", line 985, in __compile__\n",
        "    keep_lock=keep_lock)\n",
        "  File \"/home/ubuntu/anaconda/lib/python2.7/site-packages/Theano-0.6.0-py2.7.egg/theano/gof/cc.py\", line 1412, in cthunk_factory\n",
        "    key=key, lnk=self, keep_lock=keep_lock)\n",
        "  File \"/home/ubuntu/anaconda/lib/python2.7/site-packages/Theano-0.6.0-py2.7.egg/theano/gof/cmodule.py\", line 1056, in module_from_key\n",
        "    module = lnk.compile_cmodule(location)\n",
        "  File \"/home/ubuntu/anaconda/lib/python2.7/site-packages/Theano-0.6.0-py2.7.egg/theano/gof/cc.py\", line 1324, in compile_cmodule\n",
        "    preargs=preargs)\n",
        "  File \"/home/ubuntu/anaconda/lib/python2.7/site-packages/Theano-0.6.0-py2.7.egg/theano/gof/cmodule.py\", line 1931, in compile_str\n",
        "    p_out = output_subprocess_Popen(cmd)\n",
        "  File \"/home/ubuntu/anaconda/lib/python2.7/site-packages/Theano-0.6.0-py2.7.egg/theano/misc/windows.py\", line 73, in output_subprocess_Popen\n",
        "    p = subprocess_Popen(command, **params)\n",
        "  File \"/home/ubuntu/anaconda/lib/python2.7/site-packages/Theano-0.6.0-py2.7.egg/theano/misc/windows.py\", line 36, in subprocess_Popen\n",
        "    proc = subprocess.Popen(command, startupinfo=startupinfo, **params)\n",
        "  File \"/home/ubuntu/anaconda/lib/python2.7/subprocess.py\", line 710, in __init__\n",
        "    errread, errwrite)\n",
        "  File \"/home/ubuntu/anaconda/lib/python2.7/subprocess.py\", line 1231, in _execute_child\n",
        "    self.pid = os.fork()\n",
        "OSError: [Errno 12] Cannot allocate memory\n",
        "\n"
       ]
      },
      {
       "output_type": "stream",
       "stream": "stderr",
       "text": [
        "ERROR:theano.gof.opt:Traceback (most recent call last):\n",
        "  File \"/home/ubuntu/anaconda/lib/python2.7/site-packages/Theano-0.6.0-py2.7.egg/theano/gof/opt.py\", line 1491, in process_node\n",
        "    replacements = lopt.transform(node)\n",
        "  File \"/home/ubuntu/anaconda/lib/python2.7/site-packages/Theano-0.6.0-py2.7.egg/theano/tensor/opt.py\", line 4639, in constant_folding\n",
        "    no_recycling=[])\n",
        "  File \"/home/ubuntu/anaconda/lib/python2.7/site-packages/Theano-0.6.0-py2.7.egg/theano/gof/op.py\", line 722, in make_thunk\n",
        "    output_storage=node_output_storage)\n",
        "  File \"/home/ubuntu/anaconda/lib/python2.7/site-packages/Theano-0.6.0-py2.7.egg/theano/gof/cc.py\", line 1043, in make_thunk\n",
        "    keep_lock=keep_lock)\n",
        "  File \"/home/ubuntu/anaconda/lib/python2.7/site-packages/Theano-0.6.0-py2.7.egg/theano/gof/cc.py\", line 985, in __compile__\n",
        "    keep_lock=keep_lock)\n",
        "  File \"/home/ubuntu/anaconda/lib/python2.7/site-packages/Theano-0.6.0-py2.7.egg/theano/gof/cc.py\", line 1412, in cthunk_factory\n",
        "    key=key, lnk=self, keep_lock=keep_lock)\n",
        "  File \"/home/ubuntu/anaconda/lib/python2.7/site-packages/Theano-0.6.0-py2.7.egg/theano/gof/cmodule.py\", line 1056, in module_from_key\n",
        "    module = lnk.compile_cmodule(location)\n",
        "  File \"/home/ubuntu/anaconda/lib/python2.7/site-packages/Theano-0.6.0-py2.7.egg/theano/gof/cc.py\", line 1324, in compile_cmodule\n",
        "    preargs=preargs)\n",
        "  File \"/home/ubuntu/anaconda/lib/python2.7/site-packages/Theano-0.6.0-py2.7.egg/theano/gof/cmodule.py\", line 1931, in compile_str\n",
        "    p_out = output_subprocess_Popen(cmd)\n",
        "  File \"/home/ubuntu/anaconda/lib/python2.7/site-packages/Theano-0.6.0-py2.7.egg/theano/misc/windows.py\", line 73, in output_subprocess_Popen\n",
        "    p = subprocess_Popen(command, **params)\n",
        "  File \"/home/ubuntu/anaconda/lib/python2.7/site-packages/Theano-0.6.0-py2.7.egg/theano/misc/windows.py\", line 36, in subprocess_Popen\n",
        "    proc = subprocess.Popen(command, startupinfo=startupinfo, **params)\n",
        "  File \"/home/ubuntu/anaconda/lib/python2.7/subprocess.py\", line 710, in __init__\n",
        "    errread, errwrite)\n",
        "  File \"/home/ubuntu/anaconda/lib/python2.7/subprocess.py\", line 1231, in _execute_child\n",
        "    self.pid = os.fork()\n",
        "OSError: [Errno 12] Cannot allocate memory\n",
        "\n"
       ]
      },
      {
       "output_type": "stream",
       "stream": "stderr",
       "text": [
        "Problem occurred during compilation with the command line below:\n",
        "/usr/bin/g++ -shared -g -O3 -fno-math-errno -Wno-unused-label -Wno-unused-variable -Wno-write-strings -D NPY_NO_DEPRECATED_API=NPY_1_7_API_VERSION -m64 -fPIC -I/home/ubuntu/anaconda/lib/python2.7/site-packages/numpy/core/include -I/home/ubuntu/anaconda/include/python2.7 -o /home/ubuntu/.theano/compiledir_Linux-3.13--generic-x86_64-with-debian-jessie-sid-x86_64-2.7.9-64/tmpkDy20M/e0b28ec03e051f80e055d0173c808bbb.so /home/ubuntu/.theano/compiledir_Linux-3.13--generic-x86_64-with-debian-jessie-sid-x86_64-2.7.9-64/tmpkDy20M/mod.cpp -L/home/ubuntu/anaconda/lib -lpython2.7\n",
        "ERROR (theano.gof.cmodule): [Errno 12] Cannot allocate memory\n"
       ]
      },
      {
       "output_type": "stream",
       "stream": "stderr",
       "text": [
        "ERROR:theano.gof.cmodule:[Errno 12] Cannot allocate memory\n"
       ]
      },
      {
       "output_type": "stream",
       "stream": "stderr",
       "text": [
        "ERROR (theano.gof.opt): Optimization failure due to: constant_folding\n"
       ]
      },
      {
       "output_type": "stream",
       "stream": "stderr",
       "text": [
        "ERROR:theano.gof.opt:Optimization failure due to: constant_folding\n"
       ]
      },
      {
       "output_type": "stream",
       "stream": "stderr",
       "text": [
        "ERROR (theano.gof.opt): TRACEBACK:\n"
       ]
      },
      {
       "output_type": "stream",
       "stream": "stderr",
       "text": [
        "ERROR:theano.gof.opt:TRACEBACK:\n"
       ]
      },
      {
       "output_type": "stream",
       "stream": "stderr",
       "text": [
        "ERROR (theano.gof.opt): Traceback (most recent call last):\n",
        "  File \"/home/ubuntu/anaconda/lib/python2.7/site-packages/Theano-0.6.0-py2.7.egg/theano/gof/opt.py\", line 1491, in process_node\n",
        "    replacements = lopt.transform(node)\n",
        "  File \"/home/ubuntu/anaconda/lib/python2.7/site-packages/Theano-0.6.0-py2.7.egg/theano/tensor/opt.py\", line 4639, in constant_folding\n",
        "    no_recycling=[])\n",
        "  File \"/home/ubuntu/anaconda/lib/python2.7/site-packages/Theano-0.6.0-py2.7.egg/theano/gof/op.py\", line 722, in make_thunk\n",
        "    output_storage=node_output_storage)\n",
        "  File \"/home/ubuntu/anaconda/lib/python2.7/site-packages/Theano-0.6.0-py2.7.egg/theano/gof/cc.py\", line 1043, in make_thunk\n",
        "    keep_lock=keep_lock)\n",
        "  File \"/home/ubuntu/anaconda/lib/python2.7/site-packages/Theano-0.6.0-py2.7.egg/theano/gof/cc.py\", line 985, in __compile__\n",
        "    keep_lock=keep_lock)\n",
        "  File \"/home/ubuntu/anaconda/lib/python2.7/site-packages/Theano-0.6.0-py2.7.egg/theano/gof/cc.py\", line 1412, in cthunk_factory\n",
        "    key=key, lnk=self, keep_lock=keep_lock)\n",
        "  File \"/home/ubuntu/anaconda/lib/python2.7/site-packages/Theano-0.6.0-py2.7.egg/theano/gof/cmodule.py\", line 1056, in module_from_key\n",
        "    module = lnk.compile_cmodule(location)\n",
        "  File \"/home/ubuntu/anaconda/lib/python2.7/site-packages/Theano-0.6.0-py2.7.egg/theano/gof/cc.py\", line 1324, in compile_cmodule\n",
        "    preargs=preargs)\n",
        "  File \"/home/ubuntu/anaconda/lib/python2.7/site-packages/Theano-0.6.0-py2.7.egg/theano/gof/cmodule.py\", line 1931, in compile_str\n",
        "    p_out = output_subprocess_Popen(cmd)\n",
        "  File \"/home/ubuntu/anaconda/lib/python2.7/site-packages/Theano-0.6.0-py2.7.egg/theano/misc/windows.py\", line 73, in output_subprocess_Popen\n",
        "    p = subprocess_Popen(command, **params)\n",
        "  File \"/home/ubuntu/anaconda/lib/python2.7/site-packages/Theano-0.6.0-py2.7.egg/theano/misc/windows.py\", line 36, in subprocess_Popen\n",
        "    proc = subprocess.Popen(command, startupinfo=startupinfo, **params)\n",
        "  File \"/home/ubuntu/anaconda/lib/python2.7/subprocess.py\", line 710, in __init__\n",
        "    errread, errwrite)\n",
        "  File \"/home/ubuntu/anaconda/lib/python2.7/subprocess.py\", line 1231, in _execute_child\n",
        "    self.pid = os.fork()\n",
        "OSError: [Errno 12] Cannot allocate memory\n",
        "\n"
       ]
      },
      {
       "output_type": "stream",
       "stream": "stderr",
       "text": [
        "ERROR:theano.gof.opt:Traceback (most recent call last):\n",
        "  File \"/home/ubuntu/anaconda/lib/python2.7/site-packages/Theano-0.6.0-py2.7.egg/theano/gof/opt.py\", line 1491, in process_node\n",
        "    replacements = lopt.transform(node)\n",
        "  File \"/home/ubuntu/anaconda/lib/python2.7/site-packages/Theano-0.6.0-py2.7.egg/theano/tensor/opt.py\", line 4639, in constant_folding\n",
        "    no_recycling=[])\n",
        "  File \"/home/ubuntu/anaconda/lib/python2.7/site-packages/Theano-0.6.0-py2.7.egg/theano/gof/op.py\", line 722, in make_thunk\n",
        "    output_storage=node_output_storage)\n",
        "  File \"/home/ubuntu/anaconda/lib/python2.7/site-packages/Theano-0.6.0-py2.7.egg/theano/gof/cc.py\", line 1043, in make_thunk\n",
        "    keep_lock=keep_lock)\n",
        "  File \"/home/ubuntu/anaconda/lib/python2.7/site-packages/Theano-0.6.0-py2.7.egg/theano/gof/cc.py\", line 985, in __compile__\n",
        "    keep_lock=keep_lock)\n",
        "  File \"/home/ubuntu/anaconda/lib/python2.7/site-packages/Theano-0.6.0-py2.7.egg/theano/gof/cc.py\", line 1412, in cthunk_factory\n",
        "    key=key, lnk=self, keep_lock=keep_lock)\n",
        "  File \"/home/ubuntu/anaconda/lib/python2.7/site-packages/Theano-0.6.0-py2.7.egg/theano/gof/cmodule.py\", line 1056, in module_from_key\n",
        "    module = lnk.compile_cmodule(location)\n",
        "  File \"/home/ubuntu/anaconda/lib/python2.7/site-packages/Theano-0.6.0-py2.7.egg/theano/gof/cc.py\", line 1324, in compile_cmodule\n",
        "    preargs=preargs)\n",
        "  File \"/home/ubuntu/anaconda/lib/python2.7/site-packages/Theano-0.6.0-py2.7.egg/theano/gof/cmodule.py\", line 1931, in compile_str\n",
        "    p_out = output_subprocess_Popen(cmd)\n",
        "  File \"/home/ubuntu/anaconda/lib/python2.7/site-packages/Theano-0.6.0-py2.7.egg/theano/misc/windows.py\", line 73, in output_subprocess_Popen\n",
        "    p = subprocess_Popen(command, **params)\n",
        "  File \"/home/ubuntu/anaconda/lib/python2.7/site-packages/Theano-0.6.0-py2.7.egg/theano/misc/windows.py\", line 36, in subprocess_Popen\n",
        "    proc = subprocess.Popen(command, startupinfo=startupinfo, **params)\n",
        "  File \"/home/ubuntu/anaconda/lib/python2.7/subprocess.py\", line 710, in __init__\n",
        "    errread, errwrite)\n",
        "  File \"/home/ubuntu/anaconda/lib/python2.7/subprocess.py\", line 1231, in _execute_child\n",
        "    self.pid = os.fork()\n",
        "OSError: [Errno 12] Cannot allocate memory\n",
        "\n"
       ]
      },
      {
       "output_type": "stream",
       "stream": "stderr",
       "text": [
        "Problem occurred during compilation with the command line below:\n",
        "/usr/bin/g++ -shared -g -O3 -fno-math-errno -Wno-unused-label -Wno-unused-variable -Wno-write-strings -D NPY_NO_DEPRECATED_API=NPY_1_7_API_VERSION -m64 -fPIC -I/home/ubuntu/anaconda/lib/python2.7/site-packages/numpy/core/include -I/home/ubuntu/anaconda/include/python2.7 -o /home/ubuntu/.theano/compiledir_Linux-3.13--generic-x86_64-with-debian-jessie-sid-x86_64-2.7.9-64/tmphX8F9X/e0b28ec03e051f80e055d0173c808bbb.so /home/ubuntu/.theano/compiledir_Linux-3.13--generic-x86_64-with-debian-jessie-sid-x86_64-2.7.9-64/tmphX8F9X/mod.cpp -L/home/ubuntu/anaconda/lib -lpython2.7\n",
        "ERROR (theano.gof.cmodule): [Errno 12] Cannot allocate memory\n"
       ]
      },
      {
       "output_type": "stream",
       "stream": "stderr",
       "text": [
        "ERROR:theano.gof.cmodule:[Errno 12] Cannot allocate memory\n"
       ]
      },
      {
       "output_type": "stream",
       "stream": "stderr",
       "text": [
        "ERROR (theano.gof.opt): Optimization failure due to: constant_folding\n"
       ]
      },
      {
       "output_type": "stream",
       "stream": "stderr",
       "text": [
        "ERROR:theano.gof.opt:Optimization failure due to: constant_folding\n"
       ]
      },
      {
       "output_type": "stream",
       "stream": "stderr",
       "text": [
        "ERROR (theano.gof.opt): TRACEBACK:\n"
       ]
      },
      {
       "output_type": "stream",
       "stream": "stderr",
       "text": [
        "ERROR:theano.gof.opt:TRACEBACK:\n"
       ]
      },
      {
       "output_type": "stream",
       "stream": "stderr",
       "text": [
        "ERROR (theano.gof.opt): Traceback (most recent call last):\n",
        "  File \"/home/ubuntu/anaconda/lib/python2.7/site-packages/Theano-0.6.0-py2.7.egg/theano/gof/opt.py\", line 1491, in process_node\n",
        "    replacements = lopt.transform(node)\n",
        "  File \"/home/ubuntu/anaconda/lib/python2.7/site-packages/Theano-0.6.0-py2.7.egg/theano/tensor/opt.py\", line 4639, in constant_folding\n",
        "    no_recycling=[])\n",
        "  File \"/home/ubuntu/anaconda/lib/python2.7/site-packages/Theano-0.6.0-py2.7.egg/theano/gof/op.py\", line 722, in make_thunk\n",
        "    output_storage=node_output_storage)\n",
        "  File \"/home/ubuntu/anaconda/lib/python2.7/site-packages/Theano-0.6.0-py2.7.egg/theano/gof/cc.py\", line 1043, in make_thunk\n",
        "    keep_lock=keep_lock)\n",
        "  File \"/home/ubuntu/anaconda/lib/python2.7/site-packages/Theano-0.6.0-py2.7.egg/theano/gof/cc.py\", line 985, in __compile__\n",
        "    keep_lock=keep_lock)\n",
        "  File \"/home/ubuntu/anaconda/lib/python2.7/site-packages/Theano-0.6.0-py2.7.egg/theano/gof/cc.py\", line 1412, in cthunk_factory\n",
        "    key=key, lnk=self, keep_lock=keep_lock)\n",
        "  File \"/home/ubuntu/anaconda/lib/python2.7/site-packages/Theano-0.6.0-py2.7.egg/theano/gof/cmodule.py\", line 1056, in module_from_key\n",
        "    module = lnk.compile_cmodule(location)\n",
        "  File \"/home/ubuntu/anaconda/lib/python2.7/site-packages/Theano-0.6.0-py2.7.egg/theano/gof/cc.py\", line 1324, in compile_cmodule\n",
        "    preargs=preargs)\n",
        "  File \"/home/ubuntu/anaconda/lib/python2.7/site-packages/Theano-0.6.0-py2.7.egg/theano/gof/cmodule.py\", line 1931, in compile_str\n",
        "    p_out = output_subprocess_Popen(cmd)\n",
        "  File \"/home/ubuntu/anaconda/lib/python2.7/site-packages/Theano-0.6.0-py2.7.egg/theano/misc/windows.py\", line 73, in output_subprocess_Popen\n",
        "    p = subprocess_Popen(command, **params)\n",
        "  File \"/home/ubuntu/anaconda/lib/python2.7/site-packages/Theano-0.6.0-py2.7.egg/theano/misc/windows.py\", line 36, in subprocess_Popen\n",
        "    proc = subprocess.Popen(command, startupinfo=startupinfo, **params)\n",
        "  File \"/home/ubuntu/anaconda/lib/python2.7/subprocess.py\", line 710, in __init__\n",
        "    errread, errwrite)\n",
        "  File \"/home/ubuntu/anaconda/lib/python2.7/subprocess.py\", line 1231, in _execute_child\n",
        "    self.pid = os.fork()\n",
        "OSError: [Errno 12] Cannot allocate memory\n",
        "\n"
       ]
      },
      {
       "output_type": "stream",
       "stream": "stderr",
       "text": [
        "ERROR:theano.gof.opt:Traceback (most recent call last):\n",
        "  File \"/home/ubuntu/anaconda/lib/python2.7/site-packages/Theano-0.6.0-py2.7.egg/theano/gof/opt.py\", line 1491, in process_node\n",
        "    replacements = lopt.transform(node)\n",
        "  File \"/home/ubuntu/anaconda/lib/python2.7/site-packages/Theano-0.6.0-py2.7.egg/theano/tensor/opt.py\", line 4639, in constant_folding\n",
        "    no_recycling=[])\n",
        "  File \"/home/ubuntu/anaconda/lib/python2.7/site-packages/Theano-0.6.0-py2.7.egg/theano/gof/op.py\", line 722, in make_thunk\n",
        "    output_storage=node_output_storage)\n",
        "  File \"/home/ubuntu/anaconda/lib/python2.7/site-packages/Theano-0.6.0-py2.7.egg/theano/gof/cc.py\", line 1043, in make_thunk\n",
        "    keep_lock=keep_lock)\n",
        "  File \"/home/ubuntu/anaconda/lib/python2.7/site-packages/Theano-0.6.0-py2.7.egg/theano/gof/cc.py\", line 985, in __compile__\n",
        "    keep_lock=keep_lock)\n",
        "  File \"/home/ubuntu/anaconda/lib/python2.7/site-packages/Theano-0.6.0-py2.7.egg/theano/gof/cc.py\", line 1412, in cthunk_factory\n",
        "    key=key, lnk=self, keep_lock=keep_lock)\n",
        "  File \"/home/ubuntu/anaconda/lib/python2.7/site-packages/Theano-0.6.0-py2.7.egg/theano/gof/cmodule.py\", line 1056, in module_from_key\n",
        "    module = lnk.compile_cmodule(location)\n",
        "  File \"/home/ubuntu/anaconda/lib/python2.7/site-packages/Theano-0.6.0-py2.7.egg/theano/gof/cc.py\", line 1324, in compile_cmodule\n",
        "    preargs=preargs)\n",
        "  File \"/home/ubuntu/anaconda/lib/python2.7/site-packages/Theano-0.6.0-py2.7.egg/theano/gof/cmodule.py\", line 1931, in compile_str\n",
        "    p_out = output_subprocess_Popen(cmd)\n",
        "  File \"/home/ubuntu/anaconda/lib/python2.7/site-packages/Theano-0.6.0-py2.7.egg/theano/misc/windows.py\", line 73, in output_subprocess_Popen\n",
        "    p = subprocess_Popen(command, **params)\n",
        "  File \"/home/ubuntu/anaconda/lib/python2.7/site-packages/Theano-0.6.0-py2.7.egg/theano/misc/windows.py\", line 36, in subprocess_Popen\n",
        "    proc = subprocess.Popen(command, startupinfo=startupinfo, **params)\n",
        "  File \"/home/ubuntu/anaconda/lib/python2.7/subprocess.py\", line 710, in __init__\n",
        "    errread, errwrite)\n",
        "  File \"/home/ubuntu/anaconda/lib/python2.7/subprocess.py\", line 1231, in _execute_child\n",
        "    self.pid = os.fork()\n",
        "OSError: [Errno 12] Cannot allocate memory\n",
        "\n"
       ]
      },
      {
       "output_type": "stream",
       "stream": "stderr",
       "text": [
        "Problem occurred during compilation with the command line below:\n",
        "/usr/bin/g++ -shared -g -O3 -fno-math-errno -Wno-unused-label -Wno-unused-variable -Wno-write-strings -D NPY_NO_DEPRECATED_API=NPY_1_7_API_VERSION -m64 -fPIC -I/home/ubuntu/anaconda/lib/python2.7/site-packages/numpy/core/include -I/home/ubuntu/anaconda/include/python2.7 -o /home/ubuntu/.theano/compiledir_Linux-3.13--generic-x86_64-with-debian-jessie-sid-x86_64-2.7.9-64/tmpMqmf8X/67dc962a2a760ba2842a1e0152c1387d.so /home/ubuntu/.theano/compiledir_Linux-3.13--generic-x86_64-with-debian-jessie-sid-x86_64-2.7.9-64/tmpMqmf8X/mod.cpp -L/home/ubuntu/anaconda/lib -lpython2.7\n",
        "ERROR (theano.gof.cmodule): [Errno 12] Cannot allocate memory\n"
       ]
      },
      {
       "output_type": "stream",
       "stream": "stderr",
       "text": [
        "ERROR:theano.gof.cmodule:[Errno 12] Cannot allocate memory\n"
       ]
      },
      {
       "output_type": "stream",
       "stream": "stderr",
       "text": [
        "ERROR (theano.gof.opt): Optimization failure due to: constant_folding\n"
       ]
      },
      {
       "output_type": "stream",
       "stream": "stderr",
       "text": [
        "ERROR:theano.gof.opt:Optimization failure due to: constant_folding\n"
       ]
      },
      {
       "output_type": "stream",
       "stream": "stderr",
       "text": [
        "ERROR (theano.gof.opt): TRACEBACK:\n"
       ]
      },
      {
       "output_type": "stream",
       "stream": "stderr",
       "text": [
        "ERROR:theano.gof.opt:TRACEBACK:\n"
       ]
      },
      {
       "output_type": "stream",
       "stream": "stderr",
       "text": [
        "ERROR (theano.gof.opt): Traceback (most recent call last):\n",
        "  File \"/home/ubuntu/anaconda/lib/python2.7/site-packages/Theano-0.6.0-py2.7.egg/theano/gof/opt.py\", line 1491, in process_node\n",
        "    replacements = lopt.transform(node)\n",
        "  File \"/home/ubuntu/anaconda/lib/python2.7/site-packages/Theano-0.6.0-py2.7.egg/theano/tensor/opt.py\", line 4639, in constant_folding\n",
        "    no_recycling=[])\n",
        "  File \"/home/ubuntu/anaconda/lib/python2.7/site-packages/Theano-0.6.0-py2.7.egg/theano/gof/op.py\", line 722, in make_thunk\n",
        "    output_storage=node_output_storage)\n",
        "  File \"/home/ubuntu/anaconda/lib/python2.7/site-packages/Theano-0.6.0-py2.7.egg/theano/gof/cc.py\", line 1043, in make_thunk\n",
        "    keep_lock=keep_lock)\n",
        "  File \"/home/ubuntu/anaconda/lib/python2.7/site-packages/Theano-0.6.0-py2.7.egg/theano/gof/cc.py\", line 985, in __compile__\n",
        "    keep_lock=keep_lock)\n",
        "  File \"/home/ubuntu/anaconda/lib/python2.7/site-packages/Theano-0.6.0-py2.7.egg/theano/gof/cc.py\", line 1412, in cthunk_factory\n",
        "    key=key, lnk=self, keep_lock=keep_lock)\n",
        "  File \"/home/ubuntu/anaconda/lib/python2.7/site-packages/Theano-0.6.0-py2.7.egg/theano/gof/cmodule.py\", line 1056, in module_from_key\n",
        "    module = lnk.compile_cmodule(location)\n",
        "  File \"/home/ubuntu/anaconda/lib/python2.7/site-packages/Theano-0.6.0-py2.7.egg/theano/gof/cc.py\", line 1324, in compile_cmodule\n",
        "    preargs=preargs)\n",
        "  File \"/home/ubuntu/anaconda/lib/python2.7/site-packages/Theano-0.6.0-py2.7.egg/theano/gof/cmodule.py\", line 1931, in compile_str\n",
        "    p_out = output_subprocess_Popen(cmd)\n",
        "  File \"/home/ubuntu/anaconda/lib/python2.7/site-packages/Theano-0.6.0-py2.7.egg/theano/misc/windows.py\", line 73, in output_subprocess_Popen\n",
        "    p = subprocess_Popen(command, **params)\n",
        "  File \"/home/ubuntu/anaconda/lib/python2.7/site-packages/Theano-0.6.0-py2.7.egg/theano/misc/windows.py\", line 36, in subprocess_Popen\n",
        "    proc = subprocess.Popen(command, startupinfo=startupinfo, **params)\n",
        "  File \"/home/ubuntu/anaconda/lib/python2.7/subprocess.py\", line 710, in __init__\n",
        "    errread, errwrite)\n",
        "  File \"/home/ubuntu/anaconda/lib/python2.7/subprocess.py\", line 1231, in _execute_child\n",
        "    self.pid = os.fork()\n",
        "OSError: [Errno 12] Cannot allocate memory\n",
        "\n"
       ]
      },
      {
       "output_type": "stream",
       "stream": "stderr",
       "text": [
        "ERROR:theano.gof.opt:Traceback (most recent call last):\n",
        "  File \"/home/ubuntu/anaconda/lib/python2.7/site-packages/Theano-0.6.0-py2.7.egg/theano/gof/opt.py\", line 1491, in process_node\n",
        "    replacements = lopt.transform(node)\n",
        "  File \"/home/ubuntu/anaconda/lib/python2.7/site-packages/Theano-0.6.0-py2.7.egg/theano/tensor/opt.py\", line 4639, in constant_folding\n",
        "    no_recycling=[])\n",
        "  File \"/home/ubuntu/anaconda/lib/python2.7/site-packages/Theano-0.6.0-py2.7.egg/theano/gof/op.py\", line 722, in make_thunk\n",
        "    output_storage=node_output_storage)\n",
        "  File \"/home/ubuntu/anaconda/lib/python2.7/site-packages/Theano-0.6.0-py2.7.egg/theano/gof/cc.py\", line 1043, in make_thunk\n",
        "    keep_lock=keep_lock)\n",
        "  File \"/home/ubuntu/anaconda/lib/python2.7/site-packages/Theano-0.6.0-py2.7.egg/theano/gof/cc.py\", line 985, in __compile__\n",
        "    keep_lock=keep_lock)\n",
        "  File \"/home/ubuntu/anaconda/lib/python2.7/site-packages/Theano-0.6.0-py2.7.egg/theano/gof/cc.py\", line 1412, in cthunk_factory\n",
        "    key=key, lnk=self, keep_lock=keep_lock)\n",
        "  File \"/home/ubuntu/anaconda/lib/python2.7/site-packages/Theano-0.6.0-py2.7.egg/theano/gof/cmodule.py\", line 1056, in module_from_key\n",
        "    module = lnk.compile_cmodule(location)\n",
        "  File \"/home/ubuntu/anaconda/lib/python2.7/site-packages/Theano-0.6.0-py2.7.egg/theano/gof/cc.py\", line 1324, in compile_cmodule\n",
        "    preargs=preargs)\n",
        "  File \"/home/ubuntu/anaconda/lib/python2.7/site-packages/Theano-0.6.0-py2.7.egg/theano/gof/cmodule.py\", line 1931, in compile_str\n",
        "    p_out = output_subprocess_Popen(cmd)\n",
        "  File \"/home/ubuntu/anaconda/lib/python2.7/site-packages/Theano-0.6.0-py2.7.egg/theano/misc/windows.py\", line 73, in output_subprocess_Popen\n",
        "    p = subprocess_Popen(command, **params)\n",
        "  File \"/home/ubuntu/anaconda/lib/python2.7/site-packages/Theano-0.6.0-py2.7.egg/theano/misc/windows.py\", line 36, in subprocess_Popen\n",
        "    proc = subprocess.Popen(command, startupinfo=startupinfo, **params)\n",
        "  File \"/home/ubuntu/anaconda/lib/python2.7/subprocess.py\", line 710, in __init__\n",
        "    errread, errwrite)\n",
        "  File \"/home/ubuntu/anaconda/lib/python2.7/subprocess.py\", line 1231, in _execute_child\n",
        "    self.pid = os.fork()\n",
        "OSError: [Errno 12] Cannot allocate memory\n",
        "\n"
       ]
      },
      {
       "output_type": "stream",
       "stream": "stderr",
       "text": [
        "Problem occurred during compilation with the command line below:\n",
        "/usr/bin/g++ -shared -g -O3 -fno-math-errno -Wno-unused-label -Wno-unused-variable -Wno-write-strings -D NPY_NO_DEPRECATED_API=NPY_1_7_API_VERSION -m64 -fPIC -I/home/ubuntu/anaconda/lib/python2.7/site-packages/numpy/core/include -I/home/ubuntu/anaconda/include/python2.7 -o /home/ubuntu/.theano/compiledir_Linux-3.13--generic-x86_64-with-debian-jessie-sid-x86_64-2.7.9-64/tmpl7iCpd/18d5a8a6a9092d5ba63e47774ced3130.so /home/ubuntu/.theano/compiledir_Linux-3.13--generic-x86_64-with-debian-jessie-sid-x86_64-2.7.9-64/tmpl7iCpd/mod.cpp -L/home/ubuntu/anaconda/lib -lpython2.7\n",
        "ERROR (theano.gof.cmodule): [Errno 12] Cannot allocate memory\n"
       ]
      },
      {
       "output_type": "stream",
       "stream": "stderr",
       "text": [
        "ERROR:theano.gof.cmodule:[Errno 12] Cannot allocate memory\n"
       ]
      },
      {
       "output_type": "stream",
       "stream": "stderr",
       "text": [
        "ERROR (theano.gof.opt): Optimization failure due to: constant_folding\n"
       ]
      },
      {
       "output_type": "stream",
       "stream": "stderr",
       "text": [
        "ERROR:theano.gof.opt:Optimization failure due to: constant_folding\n"
       ]
      },
      {
       "output_type": "stream",
       "stream": "stderr",
       "text": [
        "ERROR (theano.gof.opt): TRACEBACK:\n"
       ]
      },
      {
       "output_type": "stream",
       "stream": "stderr",
       "text": [
        "ERROR:theano.gof.opt:TRACEBACK:\n"
       ]
      },
      {
       "output_type": "stream",
       "stream": "stderr",
       "text": [
        "ERROR (theano.gof.opt): Traceback (most recent call last):\n",
        "  File \"/home/ubuntu/anaconda/lib/python2.7/site-packages/Theano-0.6.0-py2.7.egg/theano/gof/opt.py\", line 1491, in process_node\n",
        "    replacements = lopt.transform(node)\n",
        "  File \"/home/ubuntu/anaconda/lib/python2.7/site-packages/Theano-0.6.0-py2.7.egg/theano/tensor/opt.py\", line 4639, in constant_folding\n",
        "    no_recycling=[])\n",
        "  File \"/home/ubuntu/anaconda/lib/python2.7/site-packages/Theano-0.6.0-py2.7.egg/theano/gof/op.py\", line 722, in make_thunk\n",
        "    output_storage=node_output_storage)\n",
        "  File \"/home/ubuntu/anaconda/lib/python2.7/site-packages/Theano-0.6.0-py2.7.egg/theano/gof/cc.py\", line 1043, in make_thunk\n",
        "    keep_lock=keep_lock)\n",
        "  File \"/home/ubuntu/anaconda/lib/python2.7/site-packages/Theano-0.6.0-py2.7.egg/theano/gof/cc.py\", line 985, in __compile__\n",
        "    keep_lock=keep_lock)\n",
        "  File \"/home/ubuntu/anaconda/lib/python2.7/site-packages/Theano-0.6.0-py2.7.egg/theano/gof/cc.py\", line 1412, in cthunk_factory\n",
        "    key=key, lnk=self, keep_lock=keep_lock)\n",
        "  File \"/home/ubuntu/anaconda/lib/python2.7/site-packages/Theano-0.6.0-py2.7.egg/theano/gof/cmodule.py\", line 1056, in module_from_key\n",
        "    module = lnk.compile_cmodule(location)\n",
        "  File \"/home/ubuntu/anaconda/lib/python2.7/site-packages/Theano-0.6.0-py2.7.egg/theano/gof/cc.py\", line 1324, in compile_cmodule\n",
        "    preargs=preargs)\n",
        "  File \"/home/ubuntu/anaconda/lib/python2.7/site-packages/Theano-0.6.0-py2.7.egg/theano/gof/cmodule.py\", line 1931, in compile_str\n",
        "    p_out = output_subprocess_Popen(cmd)\n",
        "  File \"/home/ubuntu/anaconda/lib/python2.7/site-packages/Theano-0.6.0-py2.7.egg/theano/misc/windows.py\", line 73, in output_subprocess_Popen\n",
        "    p = subprocess_Popen(command, **params)\n",
        "  File \"/home/ubuntu/anaconda/lib/python2.7/site-packages/Theano-0.6.0-py2.7.egg/theano/misc/windows.py\", line 36, in subprocess_Popen\n",
        "    proc = subprocess.Popen(command, startupinfo=startupinfo, **params)\n",
        "  File \"/home/ubuntu/anaconda/lib/python2.7/subprocess.py\", line 710, in __init__\n",
        "    errread, errwrite)\n",
        "  File \"/home/ubuntu/anaconda/lib/python2.7/subprocess.py\", line 1231, in _execute_child\n",
        "    self.pid = os.fork()\n",
        "OSError: [Errno 12] Cannot allocate memory\n",
        "\n"
       ]
      },
      {
       "output_type": "stream",
       "stream": "stderr",
       "text": [
        "ERROR:theano.gof.opt:Traceback (most recent call last):\n",
        "  File \"/home/ubuntu/anaconda/lib/python2.7/site-packages/Theano-0.6.0-py2.7.egg/theano/gof/opt.py\", line 1491, in process_node\n",
        "    replacements = lopt.transform(node)\n",
        "  File \"/home/ubuntu/anaconda/lib/python2.7/site-packages/Theano-0.6.0-py2.7.egg/theano/tensor/opt.py\", line 4639, in constant_folding\n",
        "    no_recycling=[])\n",
        "  File \"/home/ubuntu/anaconda/lib/python2.7/site-packages/Theano-0.6.0-py2.7.egg/theano/gof/op.py\", line 722, in make_thunk\n",
        "    output_storage=node_output_storage)\n",
        "  File \"/home/ubuntu/anaconda/lib/python2.7/site-packages/Theano-0.6.0-py2.7.egg/theano/gof/cc.py\", line 1043, in make_thunk\n",
        "    keep_lock=keep_lock)\n",
        "  File \"/home/ubuntu/anaconda/lib/python2.7/site-packages/Theano-0.6.0-py2.7.egg/theano/gof/cc.py\", line 985, in __compile__\n",
        "    keep_lock=keep_lock)\n",
        "  File \"/home/ubuntu/anaconda/lib/python2.7/site-packages/Theano-0.6.0-py2.7.egg/theano/gof/cc.py\", line 1412, in cthunk_factory\n",
        "    key=key, lnk=self, keep_lock=keep_lock)\n",
        "  File \"/home/ubuntu/anaconda/lib/python2.7/site-packages/Theano-0.6.0-py2.7.egg/theano/gof/cmodule.py\", line 1056, in module_from_key\n",
        "    module = lnk.compile_cmodule(location)\n",
        "  File \"/home/ubuntu/anaconda/lib/python2.7/site-packages/Theano-0.6.0-py2.7.egg/theano/gof/cc.py\", line 1324, in compile_cmodule\n",
        "    preargs=preargs)\n",
        "  File \"/home/ubuntu/anaconda/lib/python2.7/site-packages/Theano-0.6.0-py2.7.egg/theano/gof/cmodule.py\", line 1931, in compile_str\n",
        "    p_out = output_subprocess_Popen(cmd)\n",
        "  File \"/home/ubuntu/anaconda/lib/python2.7/site-packages/Theano-0.6.0-py2.7.egg/theano/misc/windows.py\", line 73, in output_subprocess_Popen\n",
        "    p = subprocess_Popen(command, **params)\n",
        "  File \"/home/ubuntu/anaconda/lib/python2.7/site-packages/Theano-0.6.0-py2.7.egg/theano/misc/windows.py\", line 36, in subprocess_Popen\n",
        "    proc = subprocess.Popen(command, startupinfo=startupinfo, **params)\n",
        "  File \"/home/ubuntu/anaconda/lib/python2.7/subprocess.py\", line 710, in __init__\n",
        "    errread, errwrite)\n",
        "  File \"/home/ubuntu/anaconda/lib/python2.7/subprocess.py\", line 1231, in _execute_child\n",
        "    self.pid = os.fork()\n",
        "OSError: [Errno 12] Cannot allocate memory\n",
        "\n"
       ]
      },
      {
       "output_type": "stream",
       "stream": "stderr",
       "text": [
        "Problem occurred during compilation with the command line below:\n",
        "/usr/bin/g++ -shared -g -O3 -fno-math-errno -Wno-unused-label -Wno-unused-variable -Wno-write-strings -D NPY_NO_DEPRECATED_API=NPY_1_7_API_VERSION -m64 -fPIC -I/home/ubuntu/anaconda/lib/python2.7/site-packages/numpy/core/include -I/home/ubuntu/anaconda/include/python2.7 -o /home/ubuntu/.theano/compiledir_Linux-3.13--generic-x86_64-with-debian-jessie-sid-x86_64-2.7.9-64/tmpoIq5Zr/18d5a8a6a9092d5ba63e47774ced3130.so /home/ubuntu/.theano/compiledir_Linux-3.13--generic-x86_64-with-debian-jessie-sid-x86_64-2.7.9-64/tmpoIq5Zr/mod.cpp -L/home/ubuntu/anaconda/lib -lpython2.7\n",
        "ERROR (theano.gof.cmodule): [Errno 12] Cannot allocate memory\n"
       ]
      },
      {
       "output_type": "stream",
       "stream": "stderr",
       "text": [
        "ERROR:theano.gof.cmodule:[Errno 12] Cannot allocate memory\n"
       ]
      },
      {
       "output_type": "stream",
       "stream": "stderr",
       "text": [
        "ERROR (theano.gof.opt): Optimization failure due to: constant_folding\n"
       ]
      },
      {
       "output_type": "stream",
       "stream": "stderr",
       "text": [
        "ERROR:theano.gof.opt:Optimization failure due to: constant_folding\n"
       ]
      },
      {
       "output_type": "stream",
       "stream": "stderr",
       "text": [
        "ERROR (theano.gof.opt): TRACEBACK:\n"
       ]
      },
      {
       "output_type": "stream",
       "stream": "stderr",
       "text": [
        "ERROR:theano.gof.opt:TRACEBACK:\n"
       ]
      },
      {
       "output_type": "stream",
       "stream": "stderr",
       "text": [
        "ERROR (theano.gof.opt): Traceback (most recent call last):\n",
        "  File \"/home/ubuntu/anaconda/lib/python2.7/site-packages/Theano-0.6.0-py2.7.egg/theano/gof/opt.py\", line 1491, in process_node\n",
        "    replacements = lopt.transform(node)\n",
        "  File \"/home/ubuntu/anaconda/lib/python2.7/site-packages/Theano-0.6.0-py2.7.egg/theano/tensor/opt.py\", line 4639, in constant_folding\n",
        "    no_recycling=[])\n",
        "  File \"/home/ubuntu/anaconda/lib/python2.7/site-packages/Theano-0.6.0-py2.7.egg/theano/gof/op.py\", line 722, in make_thunk\n",
        "    output_storage=node_output_storage)\n",
        "  File \"/home/ubuntu/anaconda/lib/python2.7/site-packages/Theano-0.6.0-py2.7.egg/theano/gof/cc.py\", line 1043, in make_thunk\n",
        "    keep_lock=keep_lock)\n",
        "  File \"/home/ubuntu/anaconda/lib/python2.7/site-packages/Theano-0.6.0-py2.7.egg/theano/gof/cc.py\", line 985, in __compile__\n",
        "    keep_lock=keep_lock)\n",
        "  File \"/home/ubuntu/anaconda/lib/python2.7/site-packages/Theano-0.6.0-py2.7.egg/theano/gof/cc.py\", line 1412, in cthunk_factory\n",
        "    key=key, lnk=self, keep_lock=keep_lock)\n",
        "  File \"/home/ubuntu/anaconda/lib/python2.7/site-packages/Theano-0.6.0-py2.7.egg/theano/gof/cmodule.py\", line 1056, in module_from_key\n",
        "    module = lnk.compile_cmodule(location)\n",
        "  File \"/home/ubuntu/anaconda/lib/python2.7/site-packages/Theano-0.6.0-py2.7.egg/theano/gof/cc.py\", line 1324, in compile_cmodule\n",
        "    preargs=preargs)\n",
        "  File \"/home/ubuntu/anaconda/lib/python2.7/site-packages/Theano-0.6.0-py2.7.egg/theano/gof/cmodule.py\", line 1931, in compile_str\n",
        "    p_out = output_subprocess_Popen(cmd)\n",
        "  File \"/home/ubuntu/anaconda/lib/python2.7/site-packages/Theano-0.6.0-py2.7.egg/theano/misc/windows.py\", line 73, in output_subprocess_Popen\n",
        "    p = subprocess_Popen(command, **params)\n",
        "  File \"/home/ubuntu/anaconda/lib/python2.7/site-packages/Theano-0.6.0-py2.7.egg/theano/misc/windows.py\", line 36, in subprocess_Popen\n",
        "    proc = subprocess.Popen(command, startupinfo=startupinfo, **params)\n",
        "  File \"/home/ubuntu/anaconda/lib/python2.7/subprocess.py\", line 710, in __init__\n",
        "    errread, errwrite)\n",
        "  File \"/home/ubuntu/anaconda/lib/python2.7/subprocess.py\", line 1231, in _execute_child\n",
        "    self.pid = os.fork()\n",
        "OSError: [Errno 12] Cannot allocate memory\n",
        "\n"
       ]
      },
      {
       "output_type": "stream",
       "stream": "stderr",
       "text": [
        "ERROR:theano.gof.opt:Traceback (most recent call last):\n",
        "  File \"/home/ubuntu/anaconda/lib/python2.7/site-packages/Theano-0.6.0-py2.7.egg/theano/gof/opt.py\", line 1491, in process_node\n",
        "    replacements = lopt.transform(node)\n",
        "  File \"/home/ubuntu/anaconda/lib/python2.7/site-packages/Theano-0.6.0-py2.7.egg/theano/tensor/opt.py\", line 4639, in constant_folding\n",
        "    no_recycling=[])\n",
        "  File \"/home/ubuntu/anaconda/lib/python2.7/site-packages/Theano-0.6.0-py2.7.egg/theano/gof/op.py\", line 722, in make_thunk\n",
        "    output_storage=node_output_storage)\n",
        "  File \"/home/ubuntu/anaconda/lib/python2.7/site-packages/Theano-0.6.0-py2.7.egg/theano/gof/cc.py\", line 1043, in make_thunk\n",
        "    keep_lock=keep_lock)\n",
        "  File \"/home/ubuntu/anaconda/lib/python2.7/site-packages/Theano-0.6.0-py2.7.egg/theano/gof/cc.py\", line 985, in __compile__\n",
        "    keep_lock=keep_lock)\n",
        "  File \"/home/ubuntu/anaconda/lib/python2.7/site-packages/Theano-0.6.0-py2.7.egg/theano/gof/cc.py\", line 1412, in cthunk_factory\n",
        "    key=key, lnk=self, keep_lock=keep_lock)\n",
        "  File \"/home/ubuntu/anaconda/lib/python2.7/site-packages/Theano-0.6.0-py2.7.egg/theano/gof/cmodule.py\", line 1056, in module_from_key\n",
        "    module = lnk.compile_cmodule(location)\n",
        "  File \"/home/ubuntu/anaconda/lib/python2.7/site-packages/Theano-0.6.0-py2.7.egg/theano/gof/cc.py\", line 1324, in compile_cmodule\n",
        "    preargs=preargs)\n",
        "  File \"/home/ubuntu/anaconda/lib/python2.7/site-packages/Theano-0.6.0-py2.7.egg/theano/gof/cmodule.py\", line 1931, in compile_str\n",
        "    p_out = output_subprocess_Popen(cmd)\n",
        "  File \"/home/ubuntu/anaconda/lib/python2.7/site-packages/Theano-0.6.0-py2.7.egg/theano/misc/windows.py\", line 73, in output_subprocess_Popen\n",
        "    p = subprocess_Popen(command, **params)\n",
        "  File \"/home/ubuntu/anaconda/lib/python2.7/site-packages/Theano-0.6.0-py2.7.egg/theano/misc/windows.py\", line 36, in subprocess_Popen\n",
        "    proc = subprocess.Popen(command, startupinfo=startupinfo, **params)\n",
        "  File \"/home/ubuntu/anaconda/lib/python2.7/subprocess.py\", line 710, in __init__\n",
        "    errread, errwrite)\n",
        "  File \"/home/ubuntu/anaconda/lib/python2.7/subprocess.py\", line 1231, in _execute_child\n",
        "    self.pid = os.fork()\n",
        "OSError: [Errno 12] Cannot allocate memory\n",
        "\n"
       ]
      },
      {
       "output_type": "stream",
       "stream": "stderr",
       "text": [
        "Problem occurred during compilation with the command line below:\n",
        "/usr/bin/g++ -shared -g -O3 -fno-math-errno -Wno-unused-label -Wno-unused-variable -Wno-write-strings -D NPY_NO_DEPRECATED_API=NPY_1_7_API_VERSION -m64 -fPIC -I/home/ubuntu/anaconda/lib/python2.7/site-packages/numpy/core/include -I/home/ubuntu/anaconda/include/python2.7 -o /home/ubuntu/.theano/compiledir_Linux-3.13--generic-x86_64-with-debian-jessie-sid-x86_64-2.7.9-64/tmpGrzZAa/67dc962a2a760ba2842a1e0152c1387d.so /home/ubuntu/.theano/compiledir_Linux-3.13--generic-x86_64-with-debian-jessie-sid-x86_64-2.7.9-64/tmpGrzZAa/mod.cpp -L/home/ubuntu/anaconda/lib -lpython2.7\n",
        "ERROR (theano.gof.cmodule): [Errno 12] Cannot allocate memory\n"
       ]
      },
      {
       "output_type": "stream",
       "stream": "stderr",
       "text": [
        "ERROR:theano.gof.cmodule:[Errno 12] Cannot allocate memory\n"
       ]
      },
      {
       "output_type": "stream",
       "stream": "stderr",
       "text": [
        "ERROR (theano.gof.opt): Optimization failure due to: constant_folding\n"
       ]
      },
      {
       "output_type": "stream",
       "stream": "stderr",
       "text": [
        "ERROR:theano.gof.opt:Optimization failure due to: constant_folding\n"
       ]
      },
      {
       "output_type": "stream",
       "stream": "stderr",
       "text": [
        "ERROR (theano.gof.opt): TRACEBACK:\n"
       ]
      },
      {
       "output_type": "stream",
       "stream": "stderr",
       "text": [
        "ERROR:theano.gof.opt:TRACEBACK:\n"
       ]
      },
      {
       "output_type": "stream",
       "stream": "stderr",
       "text": [
        "ERROR (theano.gof.opt): Traceback (most recent call last):\n",
        "  File \"/home/ubuntu/anaconda/lib/python2.7/site-packages/Theano-0.6.0-py2.7.egg/theano/gof/opt.py\", line 1491, in process_node\n",
        "    replacements = lopt.transform(node)\n",
        "  File \"/home/ubuntu/anaconda/lib/python2.7/site-packages/Theano-0.6.0-py2.7.egg/theano/tensor/opt.py\", line 4639, in constant_folding\n",
        "    no_recycling=[])\n",
        "  File \"/home/ubuntu/anaconda/lib/python2.7/site-packages/Theano-0.6.0-py2.7.egg/theano/gof/op.py\", line 722, in make_thunk\n",
        "    output_storage=node_output_storage)\n",
        "  File \"/home/ubuntu/anaconda/lib/python2.7/site-packages/Theano-0.6.0-py2.7.egg/theano/gof/cc.py\", line 1043, in make_thunk\n",
        "    keep_lock=keep_lock)\n",
        "  File \"/home/ubuntu/anaconda/lib/python2.7/site-packages/Theano-0.6.0-py2.7.egg/theano/gof/cc.py\", line 985, in __compile__\n",
        "    keep_lock=keep_lock)\n",
        "  File \"/home/ubuntu/anaconda/lib/python2.7/site-packages/Theano-0.6.0-py2.7.egg/theano/gof/cc.py\", line 1412, in cthunk_factory\n",
        "    key=key, lnk=self, keep_lock=keep_lock)\n",
        "  File \"/home/ubuntu/anaconda/lib/python2.7/site-packages/Theano-0.6.0-py2.7.egg/theano/gof/cmodule.py\", line 1056, in module_from_key\n",
        "    module = lnk.compile_cmodule(location)\n",
        "  File \"/home/ubuntu/anaconda/lib/python2.7/site-packages/Theano-0.6.0-py2.7.egg/theano/gof/cc.py\", line 1324, in compile_cmodule\n",
        "    preargs=preargs)\n",
        "  File \"/home/ubuntu/anaconda/lib/python2.7/site-packages/Theano-0.6.0-py2.7.egg/theano/gof/cmodule.py\", line 1931, in compile_str\n",
        "    p_out = output_subprocess_Popen(cmd)\n",
        "  File \"/home/ubuntu/anaconda/lib/python2.7/site-packages/Theano-0.6.0-py2.7.egg/theano/misc/windows.py\", line 73, in output_subprocess_Popen\n",
        "    p = subprocess_Popen(command, **params)\n",
        "  File \"/home/ubuntu/anaconda/lib/python2.7/site-packages/Theano-0.6.0-py2.7.egg/theano/misc/windows.py\", line 36, in subprocess_Popen\n",
        "    proc = subprocess.Popen(command, startupinfo=startupinfo, **params)\n",
        "  File \"/home/ubuntu/anaconda/lib/python2.7/subprocess.py\", line 710, in __init__\n",
        "    errread, errwrite)\n",
        "  File \"/home/ubuntu/anaconda/lib/python2.7/subprocess.py\", line 1231, in _execute_child\n",
        "    self.pid = os.fork()\n",
        "OSError: [Errno 12] Cannot allocate memory\n",
        "\n"
       ]
      },
      {
       "output_type": "stream",
       "stream": "stderr",
       "text": [
        "ERROR:theano.gof.opt:Traceback (most recent call last):\n",
        "  File \"/home/ubuntu/anaconda/lib/python2.7/site-packages/Theano-0.6.0-py2.7.egg/theano/gof/opt.py\", line 1491, in process_node\n",
        "    replacements = lopt.transform(node)\n",
        "  File \"/home/ubuntu/anaconda/lib/python2.7/site-packages/Theano-0.6.0-py2.7.egg/theano/tensor/opt.py\", line 4639, in constant_folding\n",
        "    no_recycling=[])\n",
        "  File \"/home/ubuntu/anaconda/lib/python2.7/site-packages/Theano-0.6.0-py2.7.egg/theano/gof/op.py\", line 722, in make_thunk\n",
        "    output_storage=node_output_storage)\n",
        "  File \"/home/ubuntu/anaconda/lib/python2.7/site-packages/Theano-0.6.0-py2.7.egg/theano/gof/cc.py\", line 1043, in make_thunk\n",
        "    keep_lock=keep_lock)\n",
        "  File \"/home/ubuntu/anaconda/lib/python2.7/site-packages/Theano-0.6.0-py2.7.egg/theano/gof/cc.py\", line 985, in __compile__\n",
        "    keep_lock=keep_lock)\n",
        "  File \"/home/ubuntu/anaconda/lib/python2.7/site-packages/Theano-0.6.0-py2.7.egg/theano/gof/cc.py\", line 1412, in cthunk_factory\n",
        "    key=key, lnk=self, keep_lock=keep_lock)\n",
        "  File \"/home/ubuntu/anaconda/lib/python2.7/site-packages/Theano-0.6.0-py2.7.egg/theano/gof/cmodule.py\", line 1056, in module_from_key\n",
        "    module = lnk.compile_cmodule(location)\n",
        "  File \"/home/ubuntu/anaconda/lib/python2.7/site-packages/Theano-0.6.0-py2.7.egg/theano/gof/cc.py\", line 1324, in compile_cmodule\n",
        "    preargs=preargs)\n",
        "  File \"/home/ubuntu/anaconda/lib/python2.7/site-packages/Theano-0.6.0-py2.7.egg/theano/gof/cmodule.py\", line 1931, in compile_str\n",
        "    p_out = output_subprocess_Popen(cmd)\n",
        "  File \"/home/ubuntu/anaconda/lib/python2.7/site-packages/Theano-0.6.0-py2.7.egg/theano/misc/windows.py\", line 73, in output_subprocess_Popen\n",
        "    p = subprocess_Popen(command, **params)\n",
        "  File \"/home/ubuntu/anaconda/lib/python2.7/site-packages/Theano-0.6.0-py2.7.egg/theano/misc/windows.py\", line 36, in subprocess_Popen\n",
        "    proc = subprocess.Popen(command, startupinfo=startupinfo, **params)\n",
        "  File \"/home/ubuntu/anaconda/lib/python2.7/subprocess.py\", line 710, in __init__\n",
        "    errread, errwrite)\n",
        "  File \"/home/ubuntu/anaconda/lib/python2.7/subprocess.py\", line 1231, in _execute_child\n",
        "    self.pid = os.fork()\n",
        "OSError: [Errno 12] Cannot allocate memory\n",
        "\n"
       ]
      },
      {
       "output_type": "stream",
       "stream": "stderr",
       "text": [
        "Problem occurred during compilation with the command line below:\n",
        "/usr/bin/g++ -shared -g -O3 -fno-math-errno -Wno-unused-label -Wno-unused-variable -Wno-write-strings -D NPY_NO_DEPRECATED_API=NPY_1_7_API_VERSION -m64 -fPIC -I/home/ubuntu/anaconda/lib/python2.7/site-packages/numpy/core/include -I/home/ubuntu/anaconda/include/python2.7 -o /home/ubuntu/.theano/compiledir_Linux-3.13--generic-x86_64-with-debian-jessie-sid-x86_64-2.7.9-64/tmpgJYjBi/e0b28ec03e051f80e055d0173c808bbb.so /home/ubuntu/.theano/compiledir_Linux-3.13--generic-x86_64-with-debian-jessie-sid-x86_64-2.7.9-64/tmpgJYjBi/mod.cpp -L/home/ubuntu/anaconda/lib -lpython2.7\n",
        "ERROR (theano.gof.cmodule): [Errno 12] Cannot allocate memory\n"
       ]
      },
      {
       "output_type": "stream",
       "stream": "stderr",
       "text": [
        "ERROR:theano.gof.cmodule:[Errno 12] Cannot allocate memory\n"
       ]
      },
      {
       "output_type": "stream",
       "stream": "stderr",
       "text": [
        "ERROR (theano.gof.opt): Optimization failure due to: constant_folding\n"
       ]
      },
      {
       "output_type": "stream",
       "stream": "stderr",
       "text": [
        "ERROR:theano.gof.opt:Optimization failure due to: constant_folding\n"
       ]
      },
      {
       "output_type": "stream",
       "stream": "stderr",
       "text": [
        "ERROR (theano.gof.opt): TRACEBACK:\n"
       ]
      },
      {
       "output_type": "stream",
       "stream": "stderr",
       "text": [
        "ERROR:theano.gof.opt:TRACEBACK:\n"
       ]
      },
      {
       "output_type": "stream",
       "stream": "stderr",
       "text": [
        "ERROR (theano.gof.opt): Traceback (most recent call last):\n",
        "  File \"/home/ubuntu/anaconda/lib/python2.7/site-packages/Theano-0.6.0-py2.7.egg/theano/gof/opt.py\", line 1491, in process_node\n",
        "    replacements = lopt.transform(node)\n",
        "  File \"/home/ubuntu/anaconda/lib/python2.7/site-packages/Theano-0.6.0-py2.7.egg/theano/tensor/opt.py\", line 4639, in constant_folding\n",
        "    no_recycling=[])\n",
        "  File \"/home/ubuntu/anaconda/lib/python2.7/site-packages/Theano-0.6.0-py2.7.egg/theano/gof/op.py\", line 722, in make_thunk\n",
        "    output_storage=node_output_storage)\n",
        "  File \"/home/ubuntu/anaconda/lib/python2.7/site-packages/Theano-0.6.0-py2.7.egg/theano/gof/cc.py\", line 1043, in make_thunk\n",
        "    keep_lock=keep_lock)\n",
        "  File \"/home/ubuntu/anaconda/lib/python2.7/site-packages/Theano-0.6.0-py2.7.egg/theano/gof/cc.py\", line 985, in __compile__\n",
        "    keep_lock=keep_lock)\n",
        "  File \"/home/ubuntu/anaconda/lib/python2.7/site-packages/Theano-0.6.0-py2.7.egg/theano/gof/cc.py\", line 1412, in cthunk_factory\n",
        "    key=key, lnk=self, keep_lock=keep_lock)\n",
        "  File \"/home/ubuntu/anaconda/lib/python2.7/site-packages/Theano-0.6.0-py2.7.egg/theano/gof/cmodule.py\", line 1056, in module_from_key\n",
        "    module = lnk.compile_cmodule(location)\n",
        "  File \"/home/ubuntu/anaconda/lib/python2.7/site-packages/Theano-0.6.0-py2.7.egg/theano/gof/cc.py\", line 1324, in compile_cmodule\n",
        "    preargs=preargs)\n",
        "  File \"/home/ubuntu/anaconda/lib/python2.7/site-packages/Theano-0.6.0-py2.7.egg/theano/gof/cmodule.py\", line 1931, in compile_str\n",
        "    p_out = output_subprocess_Popen(cmd)\n",
        "  File \"/home/ubuntu/anaconda/lib/python2.7/site-packages/Theano-0.6.0-py2.7.egg/theano/misc/windows.py\", line 73, in output_subprocess_Popen\n",
        "    p = subprocess_Popen(command, **params)\n",
        "  File \"/home/ubuntu/anaconda/lib/python2.7/site-packages/Theano-0.6.0-py2.7.egg/theano/misc/windows.py\", line 36, in subprocess_Popen\n",
        "    proc = subprocess.Popen(command, startupinfo=startupinfo, **params)\n",
        "  File \"/home/ubuntu/anaconda/lib/python2.7/subprocess.py\", line 710, in __init__\n",
        "    errread, errwrite)\n",
        "  File \"/home/ubuntu/anaconda/lib/python2.7/subprocess.py\", line 1231, in _execute_child\n",
        "    self.pid = os.fork()\n",
        "OSError: [Errno 12] Cannot allocate memory\n",
        "\n"
       ]
      },
      {
       "output_type": "stream",
       "stream": "stderr",
       "text": [
        "ERROR:theano.gof.opt:Traceback (most recent call last):\n",
        "  File \"/home/ubuntu/anaconda/lib/python2.7/site-packages/Theano-0.6.0-py2.7.egg/theano/gof/opt.py\", line 1491, in process_node\n",
        "    replacements = lopt.transform(node)\n",
        "  File \"/home/ubuntu/anaconda/lib/python2.7/site-packages/Theano-0.6.0-py2.7.egg/theano/tensor/opt.py\", line 4639, in constant_folding\n",
        "    no_recycling=[])\n",
        "  File \"/home/ubuntu/anaconda/lib/python2.7/site-packages/Theano-0.6.0-py2.7.egg/theano/gof/op.py\", line 722, in make_thunk\n",
        "    output_storage=node_output_storage)\n",
        "  File \"/home/ubuntu/anaconda/lib/python2.7/site-packages/Theano-0.6.0-py2.7.egg/theano/gof/cc.py\", line 1043, in make_thunk\n",
        "    keep_lock=keep_lock)\n",
        "  File \"/home/ubuntu/anaconda/lib/python2.7/site-packages/Theano-0.6.0-py2.7.egg/theano/gof/cc.py\", line 985, in __compile__\n",
        "    keep_lock=keep_lock)\n",
        "  File \"/home/ubuntu/anaconda/lib/python2.7/site-packages/Theano-0.6.0-py2.7.egg/theano/gof/cc.py\", line 1412, in cthunk_factory\n",
        "    key=key, lnk=self, keep_lock=keep_lock)\n",
        "  File \"/home/ubuntu/anaconda/lib/python2.7/site-packages/Theano-0.6.0-py2.7.egg/theano/gof/cmodule.py\", line 1056, in module_from_key\n",
        "    module = lnk.compile_cmodule(location)\n",
        "  File \"/home/ubuntu/anaconda/lib/python2.7/site-packages/Theano-0.6.0-py2.7.egg/theano/gof/cc.py\", line 1324, in compile_cmodule\n",
        "    preargs=preargs)\n",
        "  File \"/home/ubuntu/anaconda/lib/python2.7/site-packages/Theano-0.6.0-py2.7.egg/theano/gof/cmodule.py\", line 1931, in compile_str\n",
        "    p_out = output_subprocess_Popen(cmd)\n",
        "  File \"/home/ubuntu/anaconda/lib/python2.7/site-packages/Theano-0.6.0-py2.7.egg/theano/misc/windows.py\", line 73, in output_subprocess_Popen\n",
        "    p = subprocess_Popen(command, **params)\n",
        "  File \"/home/ubuntu/anaconda/lib/python2.7/site-packages/Theano-0.6.0-py2.7.egg/theano/misc/windows.py\", line 36, in subprocess_Popen\n",
        "    proc = subprocess.Popen(command, startupinfo=startupinfo, **params)\n",
        "  File \"/home/ubuntu/anaconda/lib/python2.7/subprocess.py\", line 710, in __init__\n",
        "    errread, errwrite)\n",
        "  File \"/home/ubuntu/anaconda/lib/python2.7/subprocess.py\", line 1231, in _execute_child\n",
        "    self.pid = os.fork()\n",
        "OSError: [Errno 12] Cannot allocate memory\n",
        "\n"
       ]
      },
      {
       "output_type": "stream",
       "stream": "stderr",
       "text": [
        "Problem occurred during compilation with the command line below:\n",
        "/usr/bin/g++ -shared -g -O3 -fno-math-errno -Wno-unused-label -Wno-unused-variable -Wno-write-strings -D NPY_NO_DEPRECATED_API=NPY_1_7_API_VERSION -m64 -fPIC -I/home/ubuntu/anaconda/lib/python2.7/site-packages/numpy/core/include -I/home/ubuntu/anaconda/include/python2.7 -o /home/ubuntu/.theano/compiledir_Linux-3.13--generic-x86_64-with-debian-jessie-sid-x86_64-2.7.9-64/tmpXYiwa5/18d5a8a6a9092d5ba63e47774ced3130.so /home/ubuntu/.theano/compiledir_Linux-3.13--generic-x86_64-with-debian-jessie-sid-x86_64-2.7.9-64/tmpXYiwa5/mod.cpp -L/home/ubuntu/anaconda/lib -lpython2.7\n",
        "ERROR (theano.gof.cmodule): [Errno 12] Cannot allocate memory\n"
       ]
      },
      {
       "output_type": "stream",
       "stream": "stderr",
       "text": [
        "ERROR:theano.gof.cmodule:[Errno 12] Cannot allocate memory\n"
       ]
      },
      {
       "output_type": "stream",
       "stream": "stderr",
       "text": [
        "ERROR (theano.gof.opt): Optimization failure due to: constant_folding\n"
       ]
      },
      {
       "output_type": "stream",
       "stream": "stderr",
       "text": [
        "ERROR:theano.gof.opt:Optimization failure due to: constant_folding\n"
       ]
      },
      {
       "output_type": "stream",
       "stream": "stderr",
       "text": [
        "ERROR (theano.gof.opt): TRACEBACK:\n"
       ]
      },
      {
       "output_type": "stream",
       "stream": "stderr",
       "text": [
        "ERROR:theano.gof.opt:TRACEBACK:\n"
       ]
      },
      {
       "output_type": "stream",
       "stream": "stderr",
       "text": [
        "ERROR (theano.gof.opt): Traceback (most recent call last):\n",
        "  File \"/home/ubuntu/anaconda/lib/python2.7/site-packages/Theano-0.6.0-py2.7.egg/theano/gof/opt.py\", line 1491, in process_node\n",
        "    replacements = lopt.transform(node)\n",
        "  File \"/home/ubuntu/anaconda/lib/python2.7/site-packages/Theano-0.6.0-py2.7.egg/theano/tensor/opt.py\", line 4639, in constant_folding\n",
        "    no_recycling=[])\n",
        "  File \"/home/ubuntu/anaconda/lib/python2.7/site-packages/Theano-0.6.0-py2.7.egg/theano/gof/op.py\", line 722, in make_thunk\n",
        "    output_storage=node_output_storage)\n",
        "  File \"/home/ubuntu/anaconda/lib/python2.7/site-packages/Theano-0.6.0-py2.7.egg/theano/gof/cc.py\", line 1043, in make_thunk\n",
        "    keep_lock=keep_lock)\n",
        "  File \"/home/ubuntu/anaconda/lib/python2.7/site-packages/Theano-0.6.0-py2.7.egg/theano/gof/cc.py\", line 985, in __compile__\n",
        "    keep_lock=keep_lock)\n",
        "  File \"/home/ubuntu/anaconda/lib/python2.7/site-packages/Theano-0.6.0-py2.7.egg/theano/gof/cc.py\", line 1412, in cthunk_factory\n",
        "    key=key, lnk=self, keep_lock=keep_lock)\n",
        "  File \"/home/ubuntu/anaconda/lib/python2.7/site-packages/Theano-0.6.0-py2.7.egg/theano/gof/cmodule.py\", line 1056, in module_from_key\n",
        "    module = lnk.compile_cmodule(location)\n",
        "  File \"/home/ubuntu/anaconda/lib/python2.7/site-packages/Theano-0.6.0-py2.7.egg/theano/gof/cc.py\", line 1324, in compile_cmodule\n",
        "    preargs=preargs)\n",
        "  File \"/home/ubuntu/anaconda/lib/python2.7/site-packages/Theano-0.6.0-py2.7.egg/theano/gof/cmodule.py\", line 1931, in compile_str\n",
        "    p_out = output_subprocess_Popen(cmd)\n",
        "  File \"/home/ubuntu/anaconda/lib/python2.7/site-packages/Theano-0.6.0-py2.7.egg/theano/misc/windows.py\", line 73, in output_subprocess_Popen\n",
        "    p = subprocess_Popen(command, **params)\n",
        "  File \"/home/ubuntu/anaconda/lib/python2.7/site-packages/Theano-0.6.0-py2.7.egg/theano/misc/windows.py\", line 36, in subprocess_Popen\n",
        "    proc = subprocess.Popen(command, startupinfo=startupinfo, **params)\n",
        "  File \"/home/ubuntu/anaconda/lib/python2.7/subprocess.py\", line 710, in __init__\n",
        "    errread, errwrite)\n",
        "  File \"/home/ubuntu/anaconda/lib/python2.7/subprocess.py\", line 1231, in _execute_child\n",
        "    self.pid = os.fork()\n",
        "OSError: [Errno 12] Cannot allocate memory\n",
        "\n"
       ]
      },
      {
       "output_type": "stream",
       "stream": "stderr",
       "text": [
        "ERROR:theano.gof.opt:Traceback (most recent call last):\n",
        "  File \"/home/ubuntu/anaconda/lib/python2.7/site-packages/Theano-0.6.0-py2.7.egg/theano/gof/opt.py\", line 1491, in process_node\n",
        "    replacements = lopt.transform(node)\n",
        "  File \"/home/ubuntu/anaconda/lib/python2.7/site-packages/Theano-0.6.0-py2.7.egg/theano/tensor/opt.py\", line 4639, in constant_folding\n",
        "    no_recycling=[])\n",
        "  File \"/home/ubuntu/anaconda/lib/python2.7/site-packages/Theano-0.6.0-py2.7.egg/theano/gof/op.py\", line 722, in make_thunk\n",
        "    output_storage=node_output_storage)\n",
        "  File \"/home/ubuntu/anaconda/lib/python2.7/site-packages/Theano-0.6.0-py2.7.egg/theano/gof/cc.py\", line 1043, in make_thunk\n",
        "    keep_lock=keep_lock)\n",
        "  File \"/home/ubuntu/anaconda/lib/python2.7/site-packages/Theano-0.6.0-py2.7.egg/theano/gof/cc.py\", line 985, in __compile__\n",
        "    keep_lock=keep_lock)\n",
        "  File \"/home/ubuntu/anaconda/lib/python2.7/site-packages/Theano-0.6.0-py2.7.egg/theano/gof/cc.py\", line 1412, in cthunk_factory\n",
        "    key=key, lnk=self, keep_lock=keep_lock)\n",
        "  File \"/home/ubuntu/anaconda/lib/python2.7/site-packages/Theano-0.6.0-py2.7.egg/theano/gof/cmodule.py\", line 1056, in module_from_key\n",
        "    module = lnk.compile_cmodule(location)\n",
        "  File \"/home/ubuntu/anaconda/lib/python2.7/site-packages/Theano-0.6.0-py2.7.egg/theano/gof/cc.py\", line 1324, in compile_cmodule\n",
        "    preargs=preargs)\n",
        "  File \"/home/ubuntu/anaconda/lib/python2.7/site-packages/Theano-0.6.0-py2.7.egg/theano/gof/cmodule.py\", line 1931, in compile_str\n",
        "    p_out = output_subprocess_Popen(cmd)\n",
        "  File \"/home/ubuntu/anaconda/lib/python2.7/site-packages/Theano-0.6.0-py2.7.egg/theano/misc/windows.py\", line 73, in output_subprocess_Popen\n",
        "    p = subprocess_Popen(command, **params)\n",
        "  File \"/home/ubuntu/anaconda/lib/python2.7/site-packages/Theano-0.6.0-py2.7.egg/theano/misc/windows.py\", line 36, in subprocess_Popen\n",
        "    proc = subprocess.Popen(command, startupinfo=startupinfo, **params)\n",
        "  File \"/home/ubuntu/anaconda/lib/python2.7/subprocess.py\", line 710, in __init__\n",
        "    errread, errwrite)\n",
        "  File \"/home/ubuntu/anaconda/lib/python2.7/subprocess.py\", line 1231, in _execute_child\n",
        "    self.pid = os.fork()\n",
        "OSError: [Errno 12] Cannot allocate memory\n",
        "\n"
       ]
      },
      {
       "output_type": "stream",
       "stream": "stderr",
       "text": [
        "Problem occurred during compilation with the command line below:\n",
        "/usr/bin/g++ -shared -g -O3 -fno-math-errno -Wno-unused-label -Wno-unused-variable -Wno-write-strings -D NPY_NO_DEPRECATED_API=NPY_1_7_API_VERSION -m64 -fPIC -I/home/ubuntu/anaconda/lib/python2.7/site-packages/numpy/core/include -I/home/ubuntu/anaconda/include/python2.7 -o /home/ubuntu/.theano/compiledir_Linux-3.13--generic-x86_64-with-debian-jessie-sid-x86_64-2.7.9-64/tmp1sZkt7/67dc962a2a760ba2842a1e0152c1387d.so /home/ubuntu/.theano/compiledir_Linux-3.13--generic-x86_64-with-debian-jessie-sid-x86_64-2.7.9-64/tmp1sZkt7/mod.cpp -L/home/ubuntu/anaconda/lib -lpython2.7\n",
        "ERROR (theano.gof.cmodule): [Errno 12] Cannot allocate memory\n"
       ]
      },
      {
       "output_type": "stream",
       "stream": "stderr",
       "text": [
        "ERROR:theano.gof.cmodule:[Errno 12] Cannot allocate memory\n"
       ]
      },
      {
       "output_type": "stream",
       "stream": "stderr",
       "text": [
        "ERROR (theano.gof.opt): Optimization failure due to: constant_folding\n"
       ]
      },
      {
       "output_type": "stream",
       "stream": "stderr",
       "text": [
        "ERROR:theano.gof.opt:Optimization failure due to: constant_folding\n"
       ]
      },
      {
       "output_type": "stream",
       "stream": "stderr",
       "text": [
        "ERROR (theano.gof.opt): TRACEBACK:\n"
       ]
      },
      {
       "output_type": "stream",
       "stream": "stderr",
       "text": [
        "ERROR:theano.gof.opt:TRACEBACK:\n"
       ]
      },
      {
       "output_type": "stream",
       "stream": "stderr",
       "text": [
        "ERROR (theano.gof.opt): Traceback (most recent call last):\n",
        "  File \"/home/ubuntu/anaconda/lib/python2.7/site-packages/Theano-0.6.0-py2.7.egg/theano/gof/opt.py\", line 1491, in process_node\n",
        "    replacements = lopt.transform(node)\n",
        "  File \"/home/ubuntu/anaconda/lib/python2.7/site-packages/Theano-0.6.0-py2.7.egg/theano/tensor/opt.py\", line 4639, in constant_folding\n",
        "    no_recycling=[])\n",
        "  File \"/home/ubuntu/anaconda/lib/python2.7/site-packages/Theano-0.6.0-py2.7.egg/theano/gof/op.py\", line 722, in make_thunk\n",
        "    output_storage=node_output_storage)\n",
        "  File \"/home/ubuntu/anaconda/lib/python2.7/site-packages/Theano-0.6.0-py2.7.egg/theano/gof/cc.py\", line 1043, in make_thunk\n",
        "    keep_lock=keep_lock)\n",
        "  File \"/home/ubuntu/anaconda/lib/python2.7/site-packages/Theano-0.6.0-py2.7.egg/theano/gof/cc.py\", line 985, in __compile__\n",
        "    keep_lock=keep_lock)\n",
        "  File \"/home/ubuntu/anaconda/lib/python2.7/site-packages/Theano-0.6.0-py2.7.egg/theano/gof/cc.py\", line 1412, in cthunk_factory\n",
        "    key=key, lnk=self, keep_lock=keep_lock)\n",
        "  File \"/home/ubuntu/anaconda/lib/python2.7/site-packages/Theano-0.6.0-py2.7.egg/theano/gof/cmodule.py\", line 1056, in module_from_key\n",
        "    module = lnk.compile_cmodule(location)\n",
        "  File \"/home/ubuntu/anaconda/lib/python2.7/site-packages/Theano-0.6.0-py2.7.egg/theano/gof/cc.py\", line 1324, in compile_cmodule\n",
        "    preargs=preargs)\n",
        "  File \"/home/ubuntu/anaconda/lib/python2.7/site-packages/Theano-0.6.0-py2.7.egg/theano/gof/cmodule.py\", line 1931, in compile_str\n",
        "    p_out = output_subprocess_Popen(cmd)\n",
        "  File \"/home/ubuntu/anaconda/lib/python2.7/site-packages/Theano-0.6.0-py2.7.egg/theano/misc/windows.py\", line 73, in output_subprocess_Popen\n",
        "    p = subprocess_Popen(command, **params)\n",
        "  File \"/home/ubuntu/anaconda/lib/python2.7/site-packages/Theano-0.6.0-py2.7.egg/theano/misc/windows.py\", line 36, in subprocess_Popen\n",
        "    proc = subprocess.Popen(command, startupinfo=startupinfo, **params)\n",
        "  File \"/home/ubuntu/anaconda/lib/python2.7/subprocess.py\", line 710, in __init__\n",
        "    errread, errwrite)\n",
        "  File \"/home/ubuntu/anaconda/lib/python2.7/subprocess.py\", line 1231, in _execute_child\n",
        "    self.pid = os.fork()\n",
        "OSError: [Errno 12] Cannot allocate memory\n",
        "\n"
       ]
      },
      {
       "output_type": "stream",
       "stream": "stderr",
       "text": [
        "ERROR:theano.gof.opt:Traceback (most recent call last):\n",
        "  File \"/home/ubuntu/anaconda/lib/python2.7/site-packages/Theano-0.6.0-py2.7.egg/theano/gof/opt.py\", line 1491, in process_node\n",
        "    replacements = lopt.transform(node)\n",
        "  File \"/home/ubuntu/anaconda/lib/python2.7/site-packages/Theano-0.6.0-py2.7.egg/theano/tensor/opt.py\", line 4639, in constant_folding\n",
        "    no_recycling=[])\n",
        "  File \"/home/ubuntu/anaconda/lib/python2.7/site-packages/Theano-0.6.0-py2.7.egg/theano/gof/op.py\", line 722, in make_thunk\n",
        "    output_storage=node_output_storage)\n",
        "  File \"/home/ubuntu/anaconda/lib/python2.7/site-packages/Theano-0.6.0-py2.7.egg/theano/gof/cc.py\", line 1043, in make_thunk\n",
        "    keep_lock=keep_lock)\n",
        "  File \"/home/ubuntu/anaconda/lib/python2.7/site-packages/Theano-0.6.0-py2.7.egg/theano/gof/cc.py\", line 985, in __compile__\n",
        "    keep_lock=keep_lock)\n",
        "  File \"/home/ubuntu/anaconda/lib/python2.7/site-packages/Theano-0.6.0-py2.7.egg/theano/gof/cc.py\", line 1412, in cthunk_factory\n",
        "    key=key, lnk=self, keep_lock=keep_lock)\n",
        "  File \"/home/ubuntu/anaconda/lib/python2.7/site-packages/Theano-0.6.0-py2.7.egg/theano/gof/cmodule.py\", line 1056, in module_from_key\n",
        "    module = lnk.compile_cmodule(location)\n",
        "  File \"/home/ubuntu/anaconda/lib/python2.7/site-packages/Theano-0.6.0-py2.7.egg/theano/gof/cc.py\", line 1324, in compile_cmodule\n",
        "    preargs=preargs)\n",
        "  File \"/home/ubuntu/anaconda/lib/python2.7/site-packages/Theano-0.6.0-py2.7.egg/theano/gof/cmodule.py\", line 1931, in compile_str\n",
        "    p_out = output_subprocess_Popen(cmd)\n",
        "  File \"/home/ubuntu/anaconda/lib/python2.7/site-packages/Theano-0.6.0-py2.7.egg/theano/misc/windows.py\", line 73, in output_subprocess_Popen\n",
        "    p = subprocess_Popen(command, **params)\n",
        "  File \"/home/ubuntu/anaconda/lib/python2.7/site-packages/Theano-0.6.0-py2.7.egg/theano/misc/windows.py\", line 36, in subprocess_Popen\n",
        "    proc = subprocess.Popen(command, startupinfo=startupinfo, **params)\n",
        "  File \"/home/ubuntu/anaconda/lib/python2.7/subprocess.py\", line 710, in __init__\n",
        "    errread, errwrite)\n",
        "  File \"/home/ubuntu/anaconda/lib/python2.7/subprocess.py\", line 1231, in _execute_child\n",
        "    self.pid = os.fork()\n",
        "OSError: [Errno 12] Cannot allocate memory\n",
        "\n"
       ]
      },
      {
       "output_type": "stream",
       "stream": "stderr",
       "text": [
        "Problem occurred during compilation with the command line below:\n",
        "/usr/bin/g++ -shared -g -O3 -fno-math-errno -Wno-unused-label -Wno-unused-variable -Wno-write-strings -D NPY_NO_DEPRECATED_API=NPY_1_7_API_VERSION -m64 -fPIC -I/home/ubuntu/anaconda/lib/python2.7/site-packages/numpy/core/include -I/home/ubuntu/anaconda/include/python2.7 -o /home/ubuntu/.theano/compiledir_Linux-3.13--generic-x86_64-with-debian-jessie-sid-x86_64-2.7.9-64/tmpqwevsH/e0b28ec03e051f80e055d0173c808bbb.so /home/ubuntu/.theano/compiledir_Linux-3.13--generic-x86_64-with-debian-jessie-sid-x86_64-2.7.9-64/tmpqwevsH/mod.cpp -L/home/ubuntu/anaconda/lib -lpython2.7\n",
        "ERROR (theano.gof.cmodule): [Errno 12] Cannot allocate memory\n"
       ]
      },
      {
       "output_type": "stream",
       "stream": "stderr",
       "text": [
        "ERROR:theano.gof.cmodule:[Errno 12] Cannot allocate memory\n"
       ]
      },
      {
       "output_type": "stream",
       "stream": "stderr",
       "text": [
        "ERROR (theano.gof.opt): Optimization failure due to: constant_folding\n"
       ]
      },
      {
       "output_type": "stream",
       "stream": "stderr",
       "text": [
        "ERROR:theano.gof.opt:Optimization failure due to: constant_folding\n"
       ]
      },
      {
       "output_type": "stream",
       "stream": "stderr",
       "text": [
        "ERROR (theano.gof.opt): TRACEBACK:\n"
       ]
      },
      {
       "output_type": "stream",
       "stream": "stderr",
       "text": [
        "ERROR:theano.gof.opt:TRACEBACK:\n"
       ]
      },
      {
       "output_type": "stream",
       "stream": "stderr",
       "text": [
        "ERROR (theano.gof.opt): Traceback (most recent call last):\n",
        "  File \"/home/ubuntu/anaconda/lib/python2.7/site-packages/Theano-0.6.0-py2.7.egg/theano/gof/opt.py\", line 1491, in process_node\n",
        "    replacements = lopt.transform(node)\n",
        "  File \"/home/ubuntu/anaconda/lib/python2.7/site-packages/Theano-0.6.0-py2.7.egg/theano/tensor/opt.py\", line 4639, in constant_folding\n",
        "    no_recycling=[])\n",
        "  File \"/home/ubuntu/anaconda/lib/python2.7/site-packages/Theano-0.6.0-py2.7.egg/theano/gof/op.py\", line 722, in make_thunk\n",
        "    output_storage=node_output_storage)\n",
        "  File \"/home/ubuntu/anaconda/lib/python2.7/site-packages/Theano-0.6.0-py2.7.egg/theano/gof/cc.py\", line 1043, in make_thunk\n",
        "    keep_lock=keep_lock)\n",
        "  File \"/home/ubuntu/anaconda/lib/python2.7/site-packages/Theano-0.6.0-py2.7.egg/theano/gof/cc.py\", line 985, in __compile__\n",
        "    keep_lock=keep_lock)\n",
        "  File \"/home/ubuntu/anaconda/lib/python2.7/site-packages/Theano-0.6.0-py2.7.egg/theano/gof/cc.py\", line 1412, in cthunk_factory\n",
        "    key=key, lnk=self, keep_lock=keep_lock)\n",
        "  File \"/home/ubuntu/anaconda/lib/python2.7/site-packages/Theano-0.6.0-py2.7.egg/theano/gof/cmodule.py\", line 1056, in module_from_key\n",
        "    module = lnk.compile_cmodule(location)\n",
        "  File \"/home/ubuntu/anaconda/lib/python2.7/site-packages/Theano-0.6.0-py2.7.egg/theano/gof/cc.py\", line 1324, in compile_cmodule\n",
        "    preargs=preargs)\n",
        "  File \"/home/ubuntu/anaconda/lib/python2.7/site-packages/Theano-0.6.0-py2.7.egg/theano/gof/cmodule.py\", line 1931, in compile_str\n",
        "    p_out = output_subprocess_Popen(cmd)\n",
        "  File \"/home/ubuntu/anaconda/lib/python2.7/site-packages/Theano-0.6.0-py2.7.egg/theano/misc/windows.py\", line 73, in output_subprocess_Popen\n",
        "    p = subprocess_Popen(command, **params)\n",
        "  File \"/home/ubuntu/anaconda/lib/python2.7/site-packages/Theano-0.6.0-py2.7.egg/theano/misc/windows.py\", line 36, in subprocess_Popen\n",
        "    proc = subprocess.Popen(command, startupinfo=startupinfo, **params)\n",
        "  File \"/home/ubuntu/anaconda/lib/python2.7/subprocess.py\", line 710, in __init__\n",
        "    errread, errwrite)\n",
        "  File \"/home/ubuntu/anaconda/lib/python2.7/subprocess.py\", line 1231, in _execute_child\n",
        "    self.pid = os.fork()\n",
        "OSError: [Errno 12] Cannot allocate memory\n",
        "\n"
       ]
      },
      {
       "output_type": "stream",
       "stream": "stderr",
       "text": [
        "ERROR:theano.gof.opt:Traceback (most recent call last):\n",
        "  File \"/home/ubuntu/anaconda/lib/python2.7/site-packages/Theano-0.6.0-py2.7.egg/theano/gof/opt.py\", line 1491, in process_node\n",
        "    replacements = lopt.transform(node)\n",
        "  File \"/home/ubuntu/anaconda/lib/python2.7/site-packages/Theano-0.6.0-py2.7.egg/theano/tensor/opt.py\", line 4639, in constant_folding\n",
        "    no_recycling=[])\n",
        "  File \"/home/ubuntu/anaconda/lib/python2.7/site-packages/Theano-0.6.0-py2.7.egg/theano/gof/op.py\", line 722, in make_thunk\n",
        "    output_storage=node_output_storage)\n",
        "  File \"/home/ubuntu/anaconda/lib/python2.7/site-packages/Theano-0.6.0-py2.7.egg/theano/gof/cc.py\", line 1043, in make_thunk\n",
        "    keep_lock=keep_lock)\n",
        "  File \"/home/ubuntu/anaconda/lib/python2.7/site-packages/Theano-0.6.0-py2.7.egg/theano/gof/cc.py\", line 985, in __compile__\n",
        "    keep_lock=keep_lock)\n",
        "  File \"/home/ubuntu/anaconda/lib/python2.7/site-packages/Theano-0.6.0-py2.7.egg/theano/gof/cc.py\", line 1412, in cthunk_factory\n",
        "    key=key, lnk=self, keep_lock=keep_lock)\n",
        "  File \"/home/ubuntu/anaconda/lib/python2.7/site-packages/Theano-0.6.0-py2.7.egg/theano/gof/cmodule.py\", line 1056, in module_from_key\n",
        "    module = lnk.compile_cmodule(location)\n",
        "  File \"/home/ubuntu/anaconda/lib/python2.7/site-packages/Theano-0.6.0-py2.7.egg/theano/gof/cc.py\", line 1324, in compile_cmodule\n",
        "    preargs=preargs)\n",
        "  File \"/home/ubuntu/anaconda/lib/python2.7/site-packages/Theano-0.6.0-py2.7.egg/theano/gof/cmodule.py\", line 1931, in compile_str\n",
        "    p_out = output_subprocess_Popen(cmd)\n",
        "  File \"/home/ubuntu/anaconda/lib/python2.7/site-packages/Theano-0.6.0-py2.7.egg/theano/misc/windows.py\", line 73, in output_subprocess_Popen\n",
        "    p = subprocess_Popen(command, **params)\n",
        "  File \"/home/ubuntu/anaconda/lib/python2.7/site-packages/Theano-0.6.0-py2.7.egg/theano/misc/windows.py\", line 36, in subprocess_Popen\n",
        "    proc = subprocess.Popen(command, startupinfo=startupinfo, **params)\n",
        "  File \"/home/ubuntu/anaconda/lib/python2.7/subprocess.py\", line 710, in __init__\n",
        "    errread, errwrite)\n",
        "  File \"/home/ubuntu/anaconda/lib/python2.7/subprocess.py\", line 1231, in _execute_child\n",
        "    self.pid = os.fork()\n",
        "OSError: [Errno 12] Cannot allocate memory\n",
        "\n"
       ]
      },
      {
       "output_type": "stream",
       "stream": "stderr",
       "text": [
        "Problem occurred during compilation with the command line below:\n",
        "/usr/bin/g++ -shared -g -O3 -fno-math-errno -Wno-unused-label -Wno-unused-variable -Wno-write-strings -D NPY_NO_DEPRECATED_API=NPY_1_7_API_VERSION -m64 -fPIC -I/home/ubuntu/anaconda/lib/python2.7/site-packages/numpy/core/include -I/home/ubuntu/anaconda/include/python2.7 -o /home/ubuntu/.theano/compiledir_Linux-3.13--generic-x86_64-with-debian-jessie-sid-x86_64-2.7.9-64/tmpCWMVYi/18d5a8a6a9092d5ba63e47774ced3130.so /home/ubuntu/.theano/compiledir_Linux-3.13--generic-x86_64-with-debian-jessie-sid-x86_64-2.7.9-64/tmpCWMVYi/mod.cpp -L/home/ubuntu/anaconda/lib -lpython2.7\n",
        "ERROR (theano.gof.cmodule): [Errno 12] Cannot allocate memory\n"
       ]
      },
      {
       "output_type": "stream",
       "stream": "stderr",
       "text": [
        "ERROR:theano.gof.cmodule:[Errno 12] Cannot allocate memory\n"
       ]
      },
      {
       "output_type": "stream",
       "stream": "stderr",
       "text": [
        "ERROR (theano.gof.opt): Optimization failure due to: constant_folding\n"
       ]
      },
      {
       "output_type": "stream",
       "stream": "stderr",
       "text": [
        "ERROR:theano.gof.opt:Optimization failure due to: constant_folding\n"
       ]
      },
      {
       "output_type": "stream",
       "stream": "stderr",
       "text": [
        "ERROR (theano.gof.opt): TRACEBACK:\n"
       ]
      },
      {
       "output_type": "stream",
       "stream": "stderr",
       "text": [
        "ERROR:theano.gof.opt:TRACEBACK:\n"
       ]
      },
      {
       "output_type": "stream",
       "stream": "stderr",
       "text": [
        "ERROR (theano.gof.opt): Traceback (most recent call last):\n",
        "  File \"/home/ubuntu/anaconda/lib/python2.7/site-packages/Theano-0.6.0-py2.7.egg/theano/gof/opt.py\", line 1491, in process_node\n",
        "    replacements = lopt.transform(node)\n",
        "  File \"/home/ubuntu/anaconda/lib/python2.7/site-packages/Theano-0.6.0-py2.7.egg/theano/tensor/opt.py\", line 4639, in constant_folding\n",
        "    no_recycling=[])\n",
        "  File \"/home/ubuntu/anaconda/lib/python2.7/site-packages/Theano-0.6.0-py2.7.egg/theano/gof/op.py\", line 722, in make_thunk\n",
        "    output_storage=node_output_storage)\n",
        "  File \"/home/ubuntu/anaconda/lib/python2.7/site-packages/Theano-0.6.0-py2.7.egg/theano/gof/cc.py\", line 1043, in make_thunk\n",
        "    keep_lock=keep_lock)\n",
        "  File \"/home/ubuntu/anaconda/lib/python2.7/site-packages/Theano-0.6.0-py2.7.egg/theano/gof/cc.py\", line 985, in __compile__\n",
        "    keep_lock=keep_lock)\n",
        "  File \"/home/ubuntu/anaconda/lib/python2.7/site-packages/Theano-0.6.0-py2.7.egg/theano/gof/cc.py\", line 1412, in cthunk_factory\n",
        "    key=key, lnk=self, keep_lock=keep_lock)\n",
        "  File \"/home/ubuntu/anaconda/lib/python2.7/site-packages/Theano-0.6.0-py2.7.egg/theano/gof/cmodule.py\", line 1056, in module_from_key\n",
        "    module = lnk.compile_cmodule(location)\n",
        "  File \"/home/ubuntu/anaconda/lib/python2.7/site-packages/Theano-0.6.0-py2.7.egg/theano/gof/cc.py\", line 1324, in compile_cmodule\n",
        "    preargs=preargs)\n",
        "  File \"/home/ubuntu/anaconda/lib/python2.7/site-packages/Theano-0.6.0-py2.7.egg/theano/gof/cmodule.py\", line 1931, in compile_str\n",
        "    p_out = output_subprocess_Popen(cmd)\n",
        "  File \"/home/ubuntu/anaconda/lib/python2.7/site-packages/Theano-0.6.0-py2.7.egg/theano/misc/windows.py\", line 73, in output_subprocess_Popen\n",
        "    p = subprocess_Popen(command, **params)\n",
        "  File \"/home/ubuntu/anaconda/lib/python2.7/site-packages/Theano-0.6.0-py2.7.egg/theano/misc/windows.py\", line 36, in subprocess_Popen\n",
        "    proc = subprocess.Popen(command, startupinfo=startupinfo, **params)\n",
        "  File \"/home/ubuntu/anaconda/lib/python2.7/subprocess.py\", line 710, in __init__\n",
        "    errread, errwrite)\n",
        "  File \"/home/ubuntu/anaconda/lib/python2.7/subprocess.py\", line 1231, in _execute_child\n",
        "    self.pid = os.fork()\n",
        "OSError: [Errno 12] Cannot allocate memory\n",
        "\n"
       ]
      },
      {
       "output_type": "stream",
       "stream": "stderr",
       "text": [
        "ERROR:theano.gof.opt:Traceback (most recent call last):\n",
        "  File \"/home/ubuntu/anaconda/lib/python2.7/site-packages/Theano-0.6.0-py2.7.egg/theano/gof/opt.py\", line 1491, in process_node\n",
        "    replacements = lopt.transform(node)\n",
        "  File \"/home/ubuntu/anaconda/lib/python2.7/site-packages/Theano-0.6.0-py2.7.egg/theano/tensor/opt.py\", line 4639, in constant_folding\n",
        "    no_recycling=[])\n",
        "  File \"/home/ubuntu/anaconda/lib/python2.7/site-packages/Theano-0.6.0-py2.7.egg/theano/gof/op.py\", line 722, in make_thunk\n",
        "    output_storage=node_output_storage)\n",
        "  File \"/home/ubuntu/anaconda/lib/python2.7/site-packages/Theano-0.6.0-py2.7.egg/theano/gof/cc.py\", line 1043, in make_thunk\n",
        "    keep_lock=keep_lock)\n",
        "  File \"/home/ubuntu/anaconda/lib/python2.7/site-packages/Theano-0.6.0-py2.7.egg/theano/gof/cc.py\", line 985, in __compile__\n",
        "    keep_lock=keep_lock)\n",
        "  File \"/home/ubuntu/anaconda/lib/python2.7/site-packages/Theano-0.6.0-py2.7.egg/theano/gof/cc.py\", line 1412, in cthunk_factory\n",
        "    key=key, lnk=self, keep_lock=keep_lock)\n",
        "  File \"/home/ubuntu/anaconda/lib/python2.7/site-packages/Theano-0.6.0-py2.7.egg/theano/gof/cmodule.py\", line 1056, in module_from_key\n",
        "    module = lnk.compile_cmodule(location)\n",
        "  File \"/home/ubuntu/anaconda/lib/python2.7/site-packages/Theano-0.6.0-py2.7.egg/theano/gof/cc.py\", line 1324, in compile_cmodule\n",
        "    preargs=preargs)\n",
        "  File \"/home/ubuntu/anaconda/lib/python2.7/site-packages/Theano-0.6.0-py2.7.egg/theano/gof/cmodule.py\", line 1931, in compile_str\n",
        "    p_out = output_subprocess_Popen(cmd)\n",
        "  File \"/home/ubuntu/anaconda/lib/python2.7/site-packages/Theano-0.6.0-py2.7.egg/theano/misc/windows.py\", line 73, in output_subprocess_Popen\n",
        "    p = subprocess_Popen(command, **params)\n",
        "  File \"/home/ubuntu/anaconda/lib/python2.7/site-packages/Theano-0.6.0-py2.7.egg/theano/misc/windows.py\", line 36, in subprocess_Popen\n",
        "    proc = subprocess.Popen(command, startupinfo=startupinfo, **params)\n",
        "  File \"/home/ubuntu/anaconda/lib/python2.7/subprocess.py\", line 710, in __init__\n",
        "    errread, errwrite)\n",
        "  File \"/home/ubuntu/anaconda/lib/python2.7/subprocess.py\", line 1231, in _execute_child\n",
        "    self.pid = os.fork()\n",
        "OSError: [Errno 12] Cannot allocate memory\n",
        "\n"
       ]
      },
      {
       "output_type": "stream",
       "stream": "stderr",
       "text": [
        "Problem occurred during compilation with the command line below:\n",
        "/usr/bin/g++ -shared -g -O3 -fno-math-errno -Wno-unused-label -Wno-unused-variable -Wno-write-strings -D NPY_NO_DEPRECATED_API=NPY_1_7_API_VERSION -m64 -fPIC -I/home/ubuntu/anaconda/lib/python2.7/site-packages/numpy/core/include -I/home/ubuntu/anaconda/include/python2.7 -o /home/ubuntu/.theano/compiledir_Linux-3.13--generic-x86_64-with-debian-jessie-sid-x86_64-2.7.9-64/tmps3C9WY/67dc962a2a760ba2842a1e0152c1387d.so /home/ubuntu/.theano/compiledir_Linux-3.13--generic-x86_64-with-debian-jessie-sid-x86_64-2.7.9-64/tmps3C9WY/mod.cpp -L/home/ubuntu/anaconda/lib -lpython2.7\n",
        "ERROR (theano.gof.cmodule): [Errno 12] Cannot allocate memory\n"
       ]
      },
      {
       "output_type": "stream",
       "stream": "stderr",
       "text": [
        "ERROR:theano.gof.cmodule:[Errno 12] Cannot allocate memory\n"
       ]
      },
      {
       "output_type": "stream",
       "stream": "stderr",
       "text": [
        "ERROR (theano.gof.opt): Optimization failure due to: constant_folding\n"
       ]
      },
      {
       "output_type": "stream",
       "stream": "stderr",
       "text": [
        "ERROR:theano.gof.opt:Optimization failure due to: constant_folding\n"
       ]
      },
      {
       "output_type": "stream",
       "stream": "stderr",
       "text": [
        "ERROR (theano.gof.opt): TRACEBACK:\n"
       ]
      },
      {
       "output_type": "stream",
       "stream": "stderr",
       "text": [
        "ERROR:theano.gof.opt:TRACEBACK:\n"
       ]
      },
      {
       "output_type": "stream",
       "stream": "stderr",
       "text": [
        "ERROR (theano.gof.opt): Traceback (most recent call last):\n",
        "  File \"/home/ubuntu/anaconda/lib/python2.7/site-packages/Theano-0.6.0-py2.7.egg/theano/gof/opt.py\", line 1491, in process_node\n",
        "    replacements = lopt.transform(node)\n",
        "  File \"/home/ubuntu/anaconda/lib/python2.7/site-packages/Theano-0.6.0-py2.7.egg/theano/tensor/opt.py\", line 4639, in constant_folding\n",
        "    no_recycling=[])\n",
        "  File \"/home/ubuntu/anaconda/lib/python2.7/site-packages/Theano-0.6.0-py2.7.egg/theano/gof/op.py\", line 722, in make_thunk\n",
        "    output_storage=node_output_storage)\n",
        "  File \"/home/ubuntu/anaconda/lib/python2.7/site-packages/Theano-0.6.0-py2.7.egg/theano/gof/cc.py\", line 1043, in make_thunk\n",
        "    keep_lock=keep_lock)\n",
        "  File \"/home/ubuntu/anaconda/lib/python2.7/site-packages/Theano-0.6.0-py2.7.egg/theano/gof/cc.py\", line 985, in __compile__\n",
        "    keep_lock=keep_lock)\n",
        "  File \"/home/ubuntu/anaconda/lib/python2.7/site-packages/Theano-0.6.0-py2.7.egg/theano/gof/cc.py\", line 1412, in cthunk_factory\n",
        "    key=key, lnk=self, keep_lock=keep_lock)\n",
        "  File \"/home/ubuntu/anaconda/lib/python2.7/site-packages/Theano-0.6.0-py2.7.egg/theano/gof/cmodule.py\", line 1056, in module_from_key\n",
        "    module = lnk.compile_cmodule(location)\n",
        "  File \"/home/ubuntu/anaconda/lib/python2.7/site-packages/Theano-0.6.0-py2.7.egg/theano/gof/cc.py\", line 1324, in compile_cmodule\n",
        "    preargs=preargs)\n",
        "  File \"/home/ubuntu/anaconda/lib/python2.7/site-packages/Theano-0.6.0-py2.7.egg/theano/gof/cmodule.py\", line 1931, in compile_str\n",
        "    p_out = output_subprocess_Popen(cmd)\n",
        "  File \"/home/ubuntu/anaconda/lib/python2.7/site-packages/Theano-0.6.0-py2.7.egg/theano/misc/windows.py\", line 73, in output_subprocess_Popen\n",
        "    p = subprocess_Popen(command, **params)\n",
        "  File \"/home/ubuntu/anaconda/lib/python2.7/site-packages/Theano-0.6.0-py2.7.egg/theano/misc/windows.py\", line 36, in subprocess_Popen\n",
        "    proc = subprocess.Popen(command, startupinfo=startupinfo, **params)\n",
        "  File \"/home/ubuntu/anaconda/lib/python2.7/subprocess.py\", line 710, in __init__\n",
        "    errread, errwrite)\n",
        "  File \"/home/ubuntu/anaconda/lib/python2.7/subprocess.py\", line 1231, in _execute_child\n",
        "    self.pid = os.fork()\n",
        "OSError: [Errno 12] Cannot allocate memory\n",
        "\n"
       ]
      },
      {
       "output_type": "stream",
       "stream": "stderr",
       "text": [
        "ERROR:theano.gof.opt:Traceback (most recent call last):\n",
        "  File \"/home/ubuntu/anaconda/lib/python2.7/site-packages/Theano-0.6.0-py2.7.egg/theano/gof/opt.py\", line 1491, in process_node\n",
        "    replacements = lopt.transform(node)\n",
        "  File \"/home/ubuntu/anaconda/lib/python2.7/site-packages/Theano-0.6.0-py2.7.egg/theano/tensor/opt.py\", line 4639, in constant_folding\n",
        "    no_recycling=[])\n",
        "  File \"/home/ubuntu/anaconda/lib/python2.7/site-packages/Theano-0.6.0-py2.7.egg/theano/gof/op.py\", line 722, in make_thunk\n",
        "    output_storage=node_output_storage)\n",
        "  File \"/home/ubuntu/anaconda/lib/python2.7/site-packages/Theano-0.6.0-py2.7.egg/theano/gof/cc.py\", line 1043, in make_thunk\n",
        "    keep_lock=keep_lock)\n",
        "  File \"/home/ubuntu/anaconda/lib/python2.7/site-packages/Theano-0.6.0-py2.7.egg/theano/gof/cc.py\", line 985, in __compile__\n",
        "    keep_lock=keep_lock)\n",
        "  File \"/home/ubuntu/anaconda/lib/python2.7/site-packages/Theano-0.6.0-py2.7.egg/theano/gof/cc.py\", line 1412, in cthunk_factory\n",
        "    key=key, lnk=self, keep_lock=keep_lock)\n",
        "  File \"/home/ubuntu/anaconda/lib/python2.7/site-packages/Theano-0.6.0-py2.7.egg/theano/gof/cmodule.py\", line 1056, in module_from_key\n",
        "    module = lnk.compile_cmodule(location)\n",
        "  File \"/home/ubuntu/anaconda/lib/python2.7/site-packages/Theano-0.6.0-py2.7.egg/theano/gof/cc.py\", line 1324, in compile_cmodule\n",
        "    preargs=preargs)\n",
        "  File \"/home/ubuntu/anaconda/lib/python2.7/site-packages/Theano-0.6.0-py2.7.egg/theano/gof/cmodule.py\", line 1931, in compile_str\n",
        "    p_out = output_subprocess_Popen(cmd)\n",
        "  File \"/home/ubuntu/anaconda/lib/python2.7/site-packages/Theano-0.6.0-py2.7.egg/theano/misc/windows.py\", line 73, in output_subprocess_Popen\n",
        "    p = subprocess_Popen(command, **params)\n",
        "  File \"/home/ubuntu/anaconda/lib/python2.7/site-packages/Theano-0.6.0-py2.7.egg/theano/misc/windows.py\", line 36, in subprocess_Popen\n",
        "    proc = subprocess.Popen(command, startupinfo=startupinfo, **params)\n",
        "  File \"/home/ubuntu/anaconda/lib/python2.7/subprocess.py\", line 710, in __init__\n",
        "    errread, errwrite)\n",
        "  File \"/home/ubuntu/anaconda/lib/python2.7/subprocess.py\", line 1231, in _execute_child\n",
        "    self.pid = os.fork()\n",
        "OSError: [Errno 12] Cannot allocate memory\n",
        "\n"
       ]
      },
      {
       "output_type": "stream",
       "stream": "stderr",
       "text": [
        "Problem occurred during compilation with the command line below:\n",
        "/usr/bin/g++ -shared -g -O3 -fno-math-errno -Wno-unused-label -Wno-unused-variable -Wno-write-strings -D NPY_NO_DEPRECATED_API=NPY_1_7_API_VERSION -m64 -fPIC -I/home/ubuntu/anaconda/lib/python2.7/site-packages/numpy/core/include -I/home/ubuntu/anaconda/include/python2.7 -o /home/ubuntu/.theano/compiledir_Linux-3.13--generic-x86_64-with-debian-jessie-sid-x86_64-2.7.9-64/tmpa3sWUW/e0b28ec03e051f80e055d0173c808bbb.so /home/ubuntu/.theano/compiledir_Linux-3.13--generic-x86_64-with-debian-jessie-sid-x86_64-2.7.9-64/tmpa3sWUW/mod.cpp -L/home/ubuntu/anaconda/lib -lpython2.7\n",
        "ERROR (theano.gof.cmodule): [Errno 12] Cannot allocate memory\n"
       ]
      },
      {
       "output_type": "stream",
       "stream": "stderr",
       "text": [
        "ERROR:theano.gof.cmodule:[Errno 12] Cannot allocate memory\n"
       ]
      },
      {
       "output_type": "stream",
       "stream": "stderr",
       "text": [
        "ERROR (theano.gof.opt): Optimization failure due to: constant_folding\n"
       ]
      },
      {
       "output_type": "stream",
       "stream": "stderr",
       "text": [
        "ERROR:theano.gof.opt:Optimization failure due to: constant_folding\n"
       ]
      },
      {
       "output_type": "stream",
       "stream": "stderr",
       "text": [
        "ERROR (theano.gof.opt): TRACEBACK:\n"
       ]
      },
      {
       "output_type": "stream",
       "stream": "stderr",
       "text": [
        "ERROR:theano.gof.opt:TRACEBACK:\n"
       ]
      },
      {
       "output_type": "stream",
       "stream": "stderr",
       "text": [
        "ERROR (theano.gof.opt): Traceback (most recent call last):\n",
        "  File \"/home/ubuntu/anaconda/lib/python2.7/site-packages/Theano-0.6.0-py2.7.egg/theano/gof/opt.py\", line 1491, in process_node\n",
        "    replacements = lopt.transform(node)\n",
        "  File \"/home/ubuntu/anaconda/lib/python2.7/site-packages/Theano-0.6.0-py2.7.egg/theano/tensor/opt.py\", line 4639, in constant_folding\n",
        "    no_recycling=[])\n",
        "  File \"/home/ubuntu/anaconda/lib/python2.7/site-packages/Theano-0.6.0-py2.7.egg/theano/gof/op.py\", line 722, in make_thunk\n",
        "    output_storage=node_output_storage)\n",
        "  File \"/home/ubuntu/anaconda/lib/python2.7/site-packages/Theano-0.6.0-py2.7.egg/theano/gof/cc.py\", line 1043, in make_thunk\n",
        "    keep_lock=keep_lock)\n",
        "  File \"/home/ubuntu/anaconda/lib/python2.7/site-packages/Theano-0.6.0-py2.7.egg/theano/gof/cc.py\", line 985, in __compile__\n",
        "    keep_lock=keep_lock)\n",
        "  File \"/home/ubuntu/anaconda/lib/python2.7/site-packages/Theano-0.6.0-py2.7.egg/theano/gof/cc.py\", line 1412, in cthunk_factory\n",
        "    key=key, lnk=self, keep_lock=keep_lock)\n",
        "  File \"/home/ubuntu/anaconda/lib/python2.7/site-packages/Theano-0.6.0-py2.7.egg/theano/gof/cmodule.py\", line 1056, in module_from_key\n",
        "    module = lnk.compile_cmodule(location)\n",
        "  File \"/home/ubuntu/anaconda/lib/python2.7/site-packages/Theano-0.6.0-py2.7.egg/theano/gof/cc.py\", line 1324, in compile_cmodule\n",
        "    preargs=preargs)\n",
        "  File \"/home/ubuntu/anaconda/lib/python2.7/site-packages/Theano-0.6.0-py2.7.egg/theano/gof/cmodule.py\", line 1931, in compile_str\n",
        "    p_out = output_subprocess_Popen(cmd)\n",
        "  File \"/home/ubuntu/anaconda/lib/python2.7/site-packages/Theano-0.6.0-py2.7.egg/theano/misc/windows.py\", line 73, in output_subprocess_Popen\n",
        "    p = subprocess_Popen(command, **params)\n",
        "  File \"/home/ubuntu/anaconda/lib/python2.7/site-packages/Theano-0.6.0-py2.7.egg/theano/misc/windows.py\", line 36, in subprocess_Popen\n",
        "    proc = subprocess.Popen(command, startupinfo=startupinfo, **params)\n",
        "  File \"/home/ubuntu/anaconda/lib/python2.7/subprocess.py\", line 710, in __init__\n",
        "    errread, errwrite)\n",
        "  File \"/home/ubuntu/anaconda/lib/python2.7/subprocess.py\", line 1231, in _execute_child\n",
        "    self.pid = os.fork()\n",
        "OSError: [Errno 12] Cannot allocate memory\n",
        "\n"
       ]
      },
      {
       "output_type": "stream",
       "stream": "stderr",
       "text": [
        "ERROR:theano.gof.opt:Traceback (most recent call last):\n",
        "  File \"/home/ubuntu/anaconda/lib/python2.7/site-packages/Theano-0.6.0-py2.7.egg/theano/gof/opt.py\", line 1491, in process_node\n",
        "    replacements = lopt.transform(node)\n",
        "  File \"/home/ubuntu/anaconda/lib/python2.7/site-packages/Theano-0.6.0-py2.7.egg/theano/tensor/opt.py\", line 4639, in constant_folding\n",
        "    no_recycling=[])\n",
        "  File \"/home/ubuntu/anaconda/lib/python2.7/site-packages/Theano-0.6.0-py2.7.egg/theano/gof/op.py\", line 722, in make_thunk\n",
        "    output_storage=node_output_storage)\n",
        "  File \"/home/ubuntu/anaconda/lib/python2.7/site-packages/Theano-0.6.0-py2.7.egg/theano/gof/cc.py\", line 1043, in make_thunk\n",
        "    keep_lock=keep_lock)\n",
        "  File \"/home/ubuntu/anaconda/lib/python2.7/site-packages/Theano-0.6.0-py2.7.egg/theano/gof/cc.py\", line 985, in __compile__\n",
        "    keep_lock=keep_lock)\n",
        "  File \"/home/ubuntu/anaconda/lib/python2.7/site-packages/Theano-0.6.0-py2.7.egg/theano/gof/cc.py\", line 1412, in cthunk_factory\n",
        "    key=key, lnk=self, keep_lock=keep_lock)\n",
        "  File \"/home/ubuntu/anaconda/lib/python2.7/site-packages/Theano-0.6.0-py2.7.egg/theano/gof/cmodule.py\", line 1056, in module_from_key\n",
        "    module = lnk.compile_cmodule(location)\n",
        "  File \"/home/ubuntu/anaconda/lib/python2.7/site-packages/Theano-0.6.0-py2.7.egg/theano/gof/cc.py\", line 1324, in compile_cmodule\n",
        "    preargs=preargs)\n",
        "  File \"/home/ubuntu/anaconda/lib/python2.7/site-packages/Theano-0.6.0-py2.7.egg/theano/gof/cmodule.py\", line 1931, in compile_str\n",
        "    p_out = output_subprocess_Popen(cmd)\n",
        "  File \"/home/ubuntu/anaconda/lib/python2.7/site-packages/Theano-0.6.0-py2.7.egg/theano/misc/windows.py\", line 73, in output_subprocess_Popen\n",
        "    p = subprocess_Popen(command, **params)\n",
        "  File \"/home/ubuntu/anaconda/lib/python2.7/site-packages/Theano-0.6.0-py2.7.egg/theano/misc/windows.py\", line 36, in subprocess_Popen\n",
        "    proc = subprocess.Popen(command, startupinfo=startupinfo, **params)\n",
        "  File \"/home/ubuntu/anaconda/lib/python2.7/subprocess.py\", line 710, in __init__\n",
        "    errread, errwrite)\n",
        "  File \"/home/ubuntu/anaconda/lib/python2.7/subprocess.py\", line 1231, in _execute_child\n",
        "    self.pid = os.fork()\n",
        "OSError: [Errno 12] Cannot allocate memory\n",
        "\n"
       ]
      },
      {
       "output_type": "stream",
       "stream": "stderr",
       "text": [
        "Problem occurred during compilation with the command line below:\n",
        "/usr/bin/g++ -shared -g -O3 -fno-math-errno -Wno-unused-label -Wno-unused-variable -Wno-write-strings -D NPY_NO_DEPRECATED_API=NPY_1_7_API_VERSION -m64 -fPIC -I/home/ubuntu/anaconda/lib/python2.7/site-packages/numpy/core/include -I/home/ubuntu/anaconda/include/python2.7 -o /home/ubuntu/.theano/compiledir_Linux-3.13--generic-x86_64-with-debian-jessie-sid-x86_64-2.7.9-64/tmpiZqi4d/18d5a8a6a9092d5ba63e47774ced3130.so /home/ubuntu/.theano/compiledir_Linux-3.13--generic-x86_64-with-debian-jessie-sid-x86_64-2.7.9-64/tmpiZqi4d/mod.cpp -L/home/ubuntu/anaconda/lib -lpython2.7\n",
        "ERROR (theano.gof.cmodule): [Errno 12] Cannot allocate memory\n"
       ]
      },
      {
       "output_type": "stream",
       "stream": "stderr",
       "text": [
        "ERROR:theano.gof.cmodule:[Errno 12] Cannot allocate memory\n"
       ]
      },
      {
       "output_type": "stream",
       "stream": "stderr",
       "text": [
        "ERROR (theano.gof.opt): Optimization failure due to: constant_folding\n"
       ]
      },
      {
       "output_type": "stream",
       "stream": "stderr",
       "text": [
        "ERROR:theano.gof.opt:Optimization failure due to: constant_folding\n"
       ]
      },
      {
       "output_type": "stream",
       "stream": "stderr",
       "text": [
        "ERROR (theano.gof.opt): TRACEBACK:\n"
       ]
      },
      {
       "output_type": "stream",
       "stream": "stderr",
       "text": [
        "ERROR:theano.gof.opt:TRACEBACK:\n"
       ]
      },
      {
       "output_type": "stream",
       "stream": "stderr",
       "text": [
        "ERROR (theano.gof.opt): Traceback (most recent call last):\n",
        "  File \"/home/ubuntu/anaconda/lib/python2.7/site-packages/Theano-0.6.0-py2.7.egg/theano/gof/opt.py\", line 1491, in process_node\n",
        "    replacements = lopt.transform(node)\n",
        "  File \"/home/ubuntu/anaconda/lib/python2.7/site-packages/Theano-0.6.0-py2.7.egg/theano/tensor/opt.py\", line 4639, in constant_folding\n",
        "    no_recycling=[])\n",
        "  File \"/home/ubuntu/anaconda/lib/python2.7/site-packages/Theano-0.6.0-py2.7.egg/theano/gof/op.py\", line 722, in make_thunk\n",
        "    output_storage=node_output_storage)\n",
        "  File \"/home/ubuntu/anaconda/lib/python2.7/site-packages/Theano-0.6.0-py2.7.egg/theano/gof/cc.py\", line 1043, in make_thunk\n",
        "    keep_lock=keep_lock)\n",
        "  File \"/home/ubuntu/anaconda/lib/python2.7/site-packages/Theano-0.6.0-py2.7.egg/theano/gof/cc.py\", line 985, in __compile__\n",
        "    keep_lock=keep_lock)\n",
        "  File \"/home/ubuntu/anaconda/lib/python2.7/site-packages/Theano-0.6.0-py2.7.egg/theano/gof/cc.py\", line 1412, in cthunk_factory\n",
        "    key=key, lnk=self, keep_lock=keep_lock)\n",
        "  File \"/home/ubuntu/anaconda/lib/python2.7/site-packages/Theano-0.6.0-py2.7.egg/theano/gof/cmodule.py\", line 1056, in module_from_key\n",
        "    module = lnk.compile_cmodule(location)\n",
        "  File \"/home/ubuntu/anaconda/lib/python2.7/site-packages/Theano-0.6.0-py2.7.egg/theano/gof/cc.py\", line 1324, in compile_cmodule\n",
        "    preargs=preargs)\n",
        "  File \"/home/ubuntu/anaconda/lib/python2.7/site-packages/Theano-0.6.0-py2.7.egg/theano/gof/cmodule.py\", line 1931, in compile_str\n",
        "    p_out = output_subprocess_Popen(cmd)\n",
        "  File \"/home/ubuntu/anaconda/lib/python2.7/site-packages/Theano-0.6.0-py2.7.egg/theano/misc/windows.py\", line 73, in output_subprocess_Popen\n",
        "    p = subprocess_Popen(command, **params)\n",
        "  File \"/home/ubuntu/anaconda/lib/python2.7/site-packages/Theano-0.6.0-py2.7.egg/theano/misc/windows.py\", line 36, in subprocess_Popen\n",
        "    proc = subprocess.Popen(command, startupinfo=startupinfo, **params)\n",
        "  File \"/home/ubuntu/anaconda/lib/python2.7/subprocess.py\", line 710, in __init__\n",
        "    errread, errwrite)\n",
        "  File \"/home/ubuntu/anaconda/lib/python2.7/subprocess.py\", line 1231, in _execute_child\n",
        "    self.pid = os.fork()\n",
        "OSError: [Errno 12] Cannot allocate memory\n",
        "\n"
       ]
      },
      {
       "output_type": "stream",
       "stream": "stderr",
       "text": [
        "ERROR:theano.gof.opt:Traceback (most recent call last):\n",
        "  File \"/home/ubuntu/anaconda/lib/python2.7/site-packages/Theano-0.6.0-py2.7.egg/theano/gof/opt.py\", line 1491, in process_node\n",
        "    replacements = lopt.transform(node)\n",
        "  File \"/home/ubuntu/anaconda/lib/python2.7/site-packages/Theano-0.6.0-py2.7.egg/theano/tensor/opt.py\", line 4639, in constant_folding\n",
        "    no_recycling=[])\n",
        "  File \"/home/ubuntu/anaconda/lib/python2.7/site-packages/Theano-0.6.0-py2.7.egg/theano/gof/op.py\", line 722, in make_thunk\n",
        "    output_storage=node_output_storage)\n",
        "  File \"/home/ubuntu/anaconda/lib/python2.7/site-packages/Theano-0.6.0-py2.7.egg/theano/gof/cc.py\", line 1043, in make_thunk\n",
        "    keep_lock=keep_lock)\n",
        "  File \"/home/ubuntu/anaconda/lib/python2.7/site-packages/Theano-0.6.0-py2.7.egg/theano/gof/cc.py\", line 985, in __compile__\n",
        "    keep_lock=keep_lock)\n",
        "  File \"/home/ubuntu/anaconda/lib/python2.7/site-packages/Theano-0.6.0-py2.7.egg/theano/gof/cc.py\", line 1412, in cthunk_factory\n",
        "    key=key, lnk=self, keep_lock=keep_lock)\n",
        "  File \"/home/ubuntu/anaconda/lib/python2.7/site-packages/Theano-0.6.0-py2.7.egg/theano/gof/cmodule.py\", line 1056, in module_from_key\n",
        "    module = lnk.compile_cmodule(location)\n",
        "  File \"/home/ubuntu/anaconda/lib/python2.7/site-packages/Theano-0.6.0-py2.7.egg/theano/gof/cc.py\", line 1324, in compile_cmodule\n",
        "    preargs=preargs)\n",
        "  File \"/home/ubuntu/anaconda/lib/python2.7/site-packages/Theano-0.6.0-py2.7.egg/theano/gof/cmodule.py\", line 1931, in compile_str\n",
        "    p_out = output_subprocess_Popen(cmd)\n",
        "  File \"/home/ubuntu/anaconda/lib/python2.7/site-packages/Theano-0.6.0-py2.7.egg/theano/misc/windows.py\", line 73, in output_subprocess_Popen\n",
        "    p = subprocess_Popen(command, **params)\n",
        "  File \"/home/ubuntu/anaconda/lib/python2.7/site-packages/Theano-0.6.0-py2.7.egg/theano/misc/windows.py\", line 36, in subprocess_Popen\n",
        "    proc = subprocess.Popen(command, startupinfo=startupinfo, **params)\n",
        "  File \"/home/ubuntu/anaconda/lib/python2.7/subprocess.py\", line 710, in __init__\n",
        "    errread, errwrite)\n",
        "  File \"/home/ubuntu/anaconda/lib/python2.7/subprocess.py\", line 1231, in _execute_child\n",
        "    self.pid = os.fork()\n",
        "OSError: [Errno 12] Cannot allocate memory\n",
        "\n"
       ]
      },
      {
       "output_type": "stream",
       "stream": "stderr",
       "text": [
        "Problem occurred during compilation with the command line below:\n",
        "/usr/bin/g++ -shared -g -O3 -fno-math-errno -Wno-unused-label -Wno-unused-variable -Wno-write-strings -D NPY_NO_DEPRECATED_API=NPY_1_7_API_VERSION -m64 -fPIC -I/home/ubuntu/anaconda/lib/python2.7/site-packages/numpy/core/include -I/home/ubuntu/anaconda/include/python2.7 -o /home/ubuntu/.theano/compiledir_Linux-3.13--generic-x86_64-with-debian-jessie-sid-x86_64-2.7.9-64/tmpwH9hnm/67dc962a2a760ba2842a1e0152c1387d.so /home/ubuntu/.theano/compiledir_Linux-3.13--generic-x86_64-with-debian-jessie-sid-x86_64-2.7.9-64/tmpwH9hnm/mod.cpp -L/home/ubuntu/anaconda/lib -lpython2.7\n",
        "ERROR (theano.gof.cmodule): [Errno 12] Cannot allocate memory\n"
       ]
      },
      {
       "output_type": "stream",
       "stream": "stderr",
       "text": [
        "ERROR:theano.gof.cmodule:[Errno 12] Cannot allocate memory\n"
       ]
      },
      {
       "output_type": "stream",
       "stream": "stderr",
       "text": [
        "ERROR (theano.gof.opt): Optimization failure due to: constant_folding\n"
       ]
      },
      {
       "output_type": "stream",
       "stream": "stderr",
       "text": [
        "ERROR:theano.gof.opt:Optimization failure due to: constant_folding\n"
       ]
      },
      {
       "output_type": "stream",
       "stream": "stderr",
       "text": [
        "ERROR (theano.gof.opt): TRACEBACK:\n"
       ]
      },
      {
       "output_type": "stream",
       "stream": "stderr",
       "text": [
        "ERROR:theano.gof.opt:TRACEBACK:\n"
       ]
      },
      {
       "output_type": "stream",
       "stream": "stderr",
       "text": [
        "ERROR (theano.gof.opt): Traceback (most recent call last):\n",
        "  File \"/home/ubuntu/anaconda/lib/python2.7/site-packages/Theano-0.6.0-py2.7.egg/theano/gof/opt.py\", line 1491, in process_node\n",
        "    replacements = lopt.transform(node)\n",
        "  File \"/home/ubuntu/anaconda/lib/python2.7/site-packages/Theano-0.6.0-py2.7.egg/theano/tensor/opt.py\", line 4639, in constant_folding\n",
        "    no_recycling=[])\n",
        "  File \"/home/ubuntu/anaconda/lib/python2.7/site-packages/Theano-0.6.0-py2.7.egg/theano/gof/op.py\", line 722, in make_thunk\n",
        "    output_storage=node_output_storage)\n",
        "  File \"/home/ubuntu/anaconda/lib/python2.7/site-packages/Theano-0.6.0-py2.7.egg/theano/gof/cc.py\", line 1043, in make_thunk\n",
        "    keep_lock=keep_lock)\n",
        "  File \"/home/ubuntu/anaconda/lib/python2.7/site-packages/Theano-0.6.0-py2.7.egg/theano/gof/cc.py\", line 985, in __compile__\n",
        "    keep_lock=keep_lock)\n",
        "  File \"/home/ubuntu/anaconda/lib/python2.7/site-packages/Theano-0.6.0-py2.7.egg/theano/gof/cc.py\", line 1412, in cthunk_factory\n",
        "    key=key, lnk=self, keep_lock=keep_lock)\n",
        "  File \"/home/ubuntu/anaconda/lib/python2.7/site-packages/Theano-0.6.0-py2.7.egg/theano/gof/cmodule.py\", line 1056, in module_from_key\n",
        "    module = lnk.compile_cmodule(location)\n",
        "  File \"/home/ubuntu/anaconda/lib/python2.7/site-packages/Theano-0.6.0-py2.7.egg/theano/gof/cc.py\", line 1324, in compile_cmodule\n",
        "    preargs=preargs)\n",
        "  File \"/home/ubuntu/anaconda/lib/python2.7/site-packages/Theano-0.6.0-py2.7.egg/theano/gof/cmodule.py\", line 1931, in compile_str\n",
        "    p_out = output_subprocess_Popen(cmd)\n",
        "  File \"/home/ubuntu/anaconda/lib/python2.7/site-packages/Theano-0.6.0-py2.7.egg/theano/misc/windows.py\", line 73, in output_subprocess_Popen\n",
        "    p = subprocess_Popen(command, **params)\n",
        "  File \"/home/ubuntu/anaconda/lib/python2.7/site-packages/Theano-0.6.0-py2.7.egg/theano/misc/windows.py\", line 36, in subprocess_Popen\n",
        "    proc = subprocess.Popen(command, startupinfo=startupinfo, **params)\n",
        "  File \"/home/ubuntu/anaconda/lib/python2.7/subprocess.py\", line 710, in __init__\n",
        "    errread, errwrite)\n",
        "  File \"/home/ubuntu/anaconda/lib/python2.7/subprocess.py\", line 1231, in _execute_child\n",
        "    self.pid = os.fork()\n",
        "OSError: [Errno 12] Cannot allocate memory\n",
        "\n"
       ]
      },
      {
       "output_type": "stream",
       "stream": "stderr",
       "text": [
        "ERROR:theano.gof.opt:Traceback (most recent call last):\n",
        "  File \"/home/ubuntu/anaconda/lib/python2.7/site-packages/Theano-0.6.0-py2.7.egg/theano/gof/opt.py\", line 1491, in process_node\n",
        "    replacements = lopt.transform(node)\n",
        "  File \"/home/ubuntu/anaconda/lib/python2.7/site-packages/Theano-0.6.0-py2.7.egg/theano/tensor/opt.py\", line 4639, in constant_folding\n",
        "    no_recycling=[])\n",
        "  File \"/home/ubuntu/anaconda/lib/python2.7/site-packages/Theano-0.6.0-py2.7.egg/theano/gof/op.py\", line 722, in make_thunk\n",
        "    output_storage=node_output_storage)\n",
        "  File \"/home/ubuntu/anaconda/lib/python2.7/site-packages/Theano-0.6.0-py2.7.egg/theano/gof/cc.py\", line 1043, in make_thunk\n",
        "    keep_lock=keep_lock)\n",
        "  File \"/home/ubuntu/anaconda/lib/python2.7/site-packages/Theano-0.6.0-py2.7.egg/theano/gof/cc.py\", line 985, in __compile__\n",
        "    keep_lock=keep_lock)\n",
        "  File \"/home/ubuntu/anaconda/lib/python2.7/site-packages/Theano-0.6.0-py2.7.egg/theano/gof/cc.py\", line 1412, in cthunk_factory\n",
        "    key=key, lnk=self, keep_lock=keep_lock)\n",
        "  File \"/home/ubuntu/anaconda/lib/python2.7/site-packages/Theano-0.6.0-py2.7.egg/theano/gof/cmodule.py\", line 1056, in module_from_key\n",
        "    module = lnk.compile_cmodule(location)\n",
        "  File \"/home/ubuntu/anaconda/lib/python2.7/site-packages/Theano-0.6.0-py2.7.egg/theano/gof/cc.py\", line 1324, in compile_cmodule\n",
        "    preargs=preargs)\n",
        "  File \"/home/ubuntu/anaconda/lib/python2.7/site-packages/Theano-0.6.0-py2.7.egg/theano/gof/cmodule.py\", line 1931, in compile_str\n",
        "    p_out = output_subprocess_Popen(cmd)\n",
        "  File \"/home/ubuntu/anaconda/lib/python2.7/site-packages/Theano-0.6.0-py2.7.egg/theano/misc/windows.py\", line 73, in output_subprocess_Popen\n",
        "    p = subprocess_Popen(command, **params)\n",
        "  File \"/home/ubuntu/anaconda/lib/python2.7/site-packages/Theano-0.6.0-py2.7.egg/theano/misc/windows.py\", line 36, in subprocess_Popen\n",
        "    proc = subprocess.Popen(command, startupinfo=startupinfo, **params)\n",
        "  File \"/home/ubuntu/anaconda/lib/python2.7/subprocess.py\", line 710, in __init__\n",
        "    errread, errwrite)\n",
        "  File \"/home/ubuntu/anaconda/lib/python2.7/subprocess.py\", line 1231, in _execute_child\n",
        "    self.pid = os.fork()\n",
        "OSError: [Errno 12] Cannot allocate memory\n",
        "\n"
       ]
      },
      {
       "output_type": "stream",
       "stream": "stderr",
       "text": [
        "Problem occurred during compilation with the command line below:\n",
        "/usr/bin/g++ -shared -g -O3 -fno-math-errno -Wno-unused-label -Wno-unused-variable -Wno-write-strings -D NPY_NO_DEPRECATED_API=NPY_1_7_API_VERSION -m64 -fPIC -I/home/ubuntu/anaconda/lib/python2.7/site-packages/numpy/core/include -I/home/ubuntu/anaconda/include/python2.7 -o /home/ubuntu/.theano/compiledir_Linux-3.13--generic-x86_64-with-debian-jessie-sid-x86_64-2.7.9-64/tmpqI6v5k/e0b28ec03e051f80e055d0173c808bbb.so /home/ubuntu/.theano/compiledir_Linux-3.13--generic-x86_64-with-debian-jessie-sid-x86_64-2.7.9-64/tmpqI6v5k/mod.cpp -L/home/ubuntu/anaconda/lib -lpython2.7\n",
        "ERROR (theano.gof.cmodule): [Errno 12] Cannot allocate memory\n"
       ]
      },
      {
       "output_type": "stream",
       "stream": "stderr",
       "text": [
        "ERROR:theano.gof.cmodule:[Errno 12] Cannot allocate memory\n"
       ]
      },
      {
       "output_type": "stream",
       "stream": "stderr",
       "text": [
        "ERROR (theano.gof.opt): Optimization failure due to: constant_folding\n"
       ]
      },
      {
       "output_type": "stream",
       "stream": "stderr",
       "text": [
        "ERROR:theano.gof.opt:Optimization failure due to: constant_folding\n"
       ]
      },
      {
       "output_type": "stream",
       "stream": "stderr",
       "text": [
        "ERROR (theano.gof.opt): TRACEBACK:\n"
       ]
      },
      {
       "output_type": "stream",
       "stream": "stderr",
       "text": [
        "ERROR:theano.gof.opt:TRACEBACK:\n"
       ]
      },
      {
       "output_type": "stream",
       "stream": "stderr",
       "text": [
        "ERROR (theano.gof.opt): Traceback (most recent call last):\n",
        "  File \"/home/ubuntu/anaconda/lib/python2.7/site-packages/Theano-0.6.0-py2.7.egg/theano/gof/opt.py\", line 1491, in process_node\n",
        "    replacements = lopt.transform(node)\n",
        "  File \"/home/ubuntu/anaconda/lib/python2.7/site-packages/Theano-0.6.0-py2.7.egg/theano/tensor/opt.py\", line 4639, in constant_folding\n",
        "    no_recycling=[])\n",
        "  File \"/home/ubuntu/anaconda/lib/python2.7/site-packages/Theano-0.6.0-py2.7.egg/theano/gof/op.py\", line 722, in make_thunk\n",
        "    output_storage=node_output_storage)\n",
        "  File \"/home/ubuntu/anaconda/lib/python2.7/site-packages/Theano-0.6.0-py2.7.egg/theano/gof/cc.py\", line 1043, in make_thunk\n",
        "    keep_lock=keep_lock)\n",
        "  File \"/home/ubuntu/anaconda/lib/python2.7/site-packages/Theano-0.6.0-py2.7.egg/theano/gof/cc.py\", line 985, in __compile__\n",
        "    keep_lock=keep_lock)\n",
        "  File \"/home/ubuntu/anaconda/lib/python2.7/site-packages/Theano-0.6.0-py2.7.egg/theano/gof/cc.py\", line 1412, in cthunk_factory\n",
        "    key=key, lnk=self, keep_lock=keep_lock)\n",
        "  File \"/home/ubuntu/anaconda/lib/python2.7/site-packages/Theano-0.6.0-py2.7.egg/theano/gof/cmodule.py\", line 1056, in module_from_key\n",
        "    module = lnk.compile_cmodule(location)\n",
        "  File \"/home/ubuntu/anaconda/lib/python2.7/site-packages/Theano-0.6.0-py2.7.egg/theano/gof/cc.py\", line 1324, in compile_cmodule\n",
        "    preargs=preargs)\n",
        "  File \"/home/ubuntu/anaconda/lib/python2.7/site-packages/Theano-0.6.0-py2.7.egg/theano/gof/cmodule.py\", line 1931, in compile_str\n",
        "    p_out = output_subprocess_Popen(cmd)\n",
        "  File \"/home/ubuntu/anaconda/lib/python2.7/site-packages/Theano-0.6.0-py2.7.egg/theano/misc/windows.py\", line 73, in output_subprocess_Popen\n",
        "    p = subprocess_Popen(command, **params)\n",
        "  File \"/home/ubuntu/anaconda/lib/python2.7/site-packages/Theano-0.6.0-py2.7.egg/theano/misc/windows.py\", line 36, in subprocess_Popen\n",
        "    proc = subprocess.Popen(command, startupinfo=startupinfo, **params)\n",
        "  File \"/home/ubuntu/anaconda/lib/python2.7/subprocess.py\", line 710, in __init__\n",
        "    errread, errwrite)\n",
        "  File \"/home/ubuntu/anaconda/lib/python2.7/subprocess.py\", line 1231, in _execute_child\n",
        "    self.pid = os.fork()\n",
        "OSError: [Errno 12] Cannot allocate memory\n",
        "\n"
       ]
      },
      {
       "output_type": "stream",
       "stream": "stderr",
       "text": [
        "ERROR:theano.gof.opt:Traceback (most recent call last):\n",
        "  File \"/home/ubuntu/anaconda/lib/python2.7/site-packages/Theano-0.6.0-py2.7.egg/theano/gof/opt.py\", line 1491, in process_node\n",
        "    replacements = lopt.transform(node)\n",
        "  File \"/home/ubuntu/anaconda/lib/python2.7/site-packages/Theano-0.6.0-py2.7.egg/theano/tensor/opt.py\", line 4639, in constant_folding\n",
        "    no_recycling=[])\n",
        "  File \"/home/ubuntu/anaconda/lib/python2.7/site-packages/Theano-0.6.0-py2.7.egg/theano/gof/op.py\", line 722, in make_thunk\n",
        "    output_storage=node_output_storage)\n",
        "  File \"/home/ubuntu/anaconda/lib/python2.7/site-packages/Theano-0.6.0-py2.7.egg/theano/gof/cc.py\", line 1043, in make_thunk\n",
        "    keep_lock=keep_lock)\n",
        "  File \"/home/ubuntu/anaconda/lib/python2.7/site-packages/Theano-0.6.0-py2.7.egg/theano/gof/cc.py\", line 985, in __compile__\n",
        "    keep_lock=keep_lock)\n",
        "  File \"/home/ubuntu/anaconda/lib/python2.7/site-packages/Theano-0.6.0-py2.7.egg/theano/gof/cc.py\", line 1412, in cthunk_factory\n",
        "    key=key, lnk=self, keep_lock=keep_lock)\n",
        "  File \"/home/ubuntu/anaconda/lib/python2.7/site-packages/Theano-0.6.0-py2.7.egg/theano/gof/cmodule.py\", line 1056, in module_from_key\n",
        "    module = lnk.compile_cmodule(location)\n",
        "  File \"/home/ubuntu/anaconda/lib/python2.7/site-packages/Theano-0.6.0-py2.7.egg/theano/gof/cc.py\", line 1324, in compile_cmodule\n",
        "    preargs=preargs)\n",
        "  File \"/home/ubuntu/anaconda/lib/python2.7/site-packages/Theano-0.6.0-py2.7.egg/theano/gof/cmodule.py\", line 1931, in compile_str\n",
        "    p_out = output_subprocess_Popen(cmd)\n",
        "  File \"/home/ubuntu/anaconda/lib/python2.7/site-packages/Theano-0.6.0-py2.7.egg/theano/misc/windows.py\", line 73, in output_subprocess_Popen\n",
        "    p = subprocess_Popen(command, **params)\n",
        "  File \"/home/ubuntu/anaconda/lib/python2.7/site-packages/Theano-0.6.0-py2.7.egg/theano/misc/windows.py\", line 36, in subprocess_Popen\n",
        "    proc = subprocess.Popen(command, startupinfo=startupinfo, **params)\n",
        "  File \"/home/ubuntu/anaconda/lib/python2.7/subprocess.py\", line 710, in __init__\n",
        "    errread, errwrite)\n",
        "  File \"/home/ubuntu/anaconda/lib/python2.7/subprocess.py\", line 1231, in _execute_child\n",
        "    self.pid = os.fork()\n",
        "OSError: [Errno 12] Cannot allocate memory\n",
        "\n"
       ]
      },
      {
       "output_type": "stream",
       "stream": "stderr",
       "text": [
        "Problem occurred during compilation with the command line below:\n",
        "/usr/bin/g++ -shared -g -O3 -fno-math-errno -Wno-unused-label -Wno-unused-variable -Wno-write-strings -D NPY_NO_DEPRECATED_API=NPY_1_7_API_VERSION -m64 -fPIC -I/home/ubuntu/anaconda/lib/python2.7/site-packages/numpy/core/include -I/home/ubuntu/anaconda/include/python2.7 -o /home/ubuntu/.theano/compiledir_Linux-3.13--generic-x86_64-with-debian-jessie-sid-x86_64-2.7.9-64/tmpkH3iQ1/18d5a8a6a9092d5ba63e47774ced3130.so /home/ubuntu/.theano/compiledir_Linux-3.13--generic-x86_64-with-debian-jessie-sid-x86_64-2.7.9-64/tmpkH3iQ1/mod.cpp -L/home/ubuntu/anaconda/lib -lpython2.7\n",
        "ERROR (theano.gof.cmodule): [Errno 12] Cannot allocate memory\n"
       ]
      },
      {
       "output_type": "stream",
       "stream": "stderr",
       "text": [
        "ERROR:theano.gof.cmodule:[Errno 12] Cannot allocate memory\n"
       ]
      },
      {
       "output_type": "stream",
       "stream": "stderr",
       "text": [
        "ERROR (theano.gof.opt): Optimization failure due to: constant_folding\n"
       ]
      },
      {
       "output_type": "stream",
       "stream": "stderr",
       "text": [
        "ERROR:theano.gof.opt:Optimization failure due to: constant_folding\n"
       ]
      },
      {
       "output_type": "stream",
       "stream": "stderr",
       "text": [
        "ERROR (theano.gof.opt): TRACEBACK:\n"
       ]
      },
      {
       "output_type": "stream",
       "stream": "stderr",
       "text": [
        "ERROR:theano.gof.opt:TRACEBACK:\n"
       ]
      },
      {
       "output_type": "stream",
       "stream": "stderr",
       "text": [
        "ERROR (theano.gof.opt): Traceback (most recent call last):\n",
        "  File \"/home/ubuntu/anaconda/lib/python2.7/site-packages/Theano-0.6.0-py2.7.egg/theano/gof/opt.py\", line 1491, in process_node\n",
        "    replacements = lopt.transform(node)\n",
        "  File \"/home/ubuntu/anaconda/lib/python2.7/site-packages/Theano-0.6.0-py2.7.egg/theano/tensor/opt.py\", line 4639, in constant_folding\n",
        "    no_recycling=[])\n",
        "  File \"/home/ubuntu/anaconda/lib/python2.7/site-packages/Theano-0.6.0-py2.7.egg/theano/gof/op.py\", line 722, in make_thunk\n",
        "    output_storage=node_output_storage)\n",
        "  File \"/home/ubuntu/anaconda/lib/python2.7/site-packages/Theano-0.6.0-py2.7.egg/theano/gof/cc.py\", line 1043, in make_thunk\n",
        "    keep_lock=keep_lock)\n",
        "  File \"/home/ubuntu/anaconda/lib/python2.7/site-packages/Theano-0.6.0-py2.7.egg/theano/gof/cc.py\", line 985, in __compile__\n",
        "    keep_lock=keep_lock)\n",
        "  File \"/home/ubuntu/anaconda/lib/python2.7/site-packages/Theano-0.6.0-py2.7.egg/theano/gof/cc.py\", line 1412, in cthunk_factory\n",
        "    key=key, lnk=self, keep_lock=keep_lock)\n",
        "  File \"/home/ubuntu/anaconda/lib/python2.7/site-packages/Theano-0.6.0-py2.7.egg/theano/gof/cmodule.py\", line 1056, in module_from_key\n",
        "    module = lnk.compile_cmodule(location)\n",
        "  File \"/home/ubuntu/anaconda/lib/python2.7/site-packages/Theano-0.6.0-py2.7.egg/theano/gof/cc.py\", line 1324, in compile_cmodule\n",
        "    preargs=preargs)\n",
        "  File \"/home/ubuntu/anaconda/lib/python2.7/site-packages/Theano-0.6.0-py2.7.egg/theano/gof/cmodule.py\", line 1931, in compile_str\n",
        "    p_out = output_subprocess_Popen(cmd)\n",
        "  File \"/home/ubuntu/anaconda/lib/python2.7/site-packages/Theano-0.6.0-py2.7.egg/theano/misc/windows.py\", line 73, in output_subprocess_Popen\n",
        "    p = subprocess_Popen(command, **params)\n",
        "  File \"/home/ubuntu/anaconda/lib/python2.7/site-packages/Theano-0.6.0-py2.7.egg/theano/misc/windows.py\", line 36, in subprocess_Popen\n",
        "    proc = subprocess.Popen(command, startupinfo=startupinfo, **params)\n",
        "  File \"/home/ubuntu/anaconda/lib/python2.7/subprocess.py\", line 710, in __init__\n",
        "    errread, errwrite)\n",
        "  File \"/home/ubuntu/anaconda/lib/python2.7/subprocess.py\", line 1231, in _execute_child\n",
        "    self.pid = os.fork()\n",
        "OSError: [Errno 12] Cannot allocate memory\n",
        "\n"
       ]
      },
      {
       "output_type": "stream",
       "stream": "stderr",
       "text": [
        "ERROR:theano.gof.opt:Traceback (most recent call last):\n",
        "  File \"/home/ubuntu/anaconda/lib/python2.7/site-packages/Theano-0.6.0-py2.7.egg/theano/gof/opt.py\", line 1491, in process_node\n",
        "    replacements = lopt.transform(node)\n",
        "  File \"/home/ubuntu/anaconda/lib/python2.7/site-packages/Theano-0.6.0-py2.7.egg/theano/tensor/opt.py\", line 4639, in constant_folding\n",
        "    no_recycling=[])\n",
        "  File \"/home/ubuntu/anaconda/lib/python2.7/site-packages/Theano-0.6.0-py2.7.egg/theano/gof/op.py\", line 722, in make_thunk\n",
        "    output_storage=node_output_storage)\n",
        "  File \"/home/ubuntu/anaconda/lib/python2.7/site-packages/Theano-0.6.0-py2.7.egg/theano/gof/cc.py\", line 1043, in make_thunk\n",
        "    keep_lock=keep_lock)\n",
        "  File \"/home/ubuntu/anaconda/lib/python2.7/site-packages/Theano-0.6.0-py2.7.egg/theano/gof/cc.py\", line 985, in __compile__\n",
        "    keep_lock=keep_lock)\n",
        "  File \"/home/ubuntu/anaconda/lib/python2.7/site-packages/Theano-0.6.0-py2.7.egg/theano/gof/cc.py\", line 1412, in cthunk_factory\n",
        "    key=key, lnk=self, keep_lock=keep_lock)\n",
        "  File \"/home/ubuntu/anaconda/lib/python2.7/site-packages/Theano-0.6.0-py2.7.egg/theano/gof/cmodule.py\", line 1056, in module_from_key\n",
        "    module = lnk.compile_cmodule(location)\n",
        "  File \"/home/ubuntu/anaconda/lib/python2.7/site-packages/Theano-0.6.0-py2.7.egg/theano/gof/cc.py\", line 1324, in compile_cmodule\n",
        "    preargs=preargs)\n",
        "  File \"/home/ubuntu/anaconda/lib/python2.7/site-packages/Theano-0.6.0-py2.7.egg/theano/gof/cmodule.py\", line 1931, in compile_str\n",
        "    p_out = output_subprocess_Popen(cmd)\n",
        "  File \"/home/ubuntu/anaconda/lib/python2.7/site-packages/Theano-0.6.0-py2.7.egg/theano/misc/windows.py\", line 73, in output_subprocess_Popen\n",
        "    p = subprocess_Popen(command, **params)\n",
        "  File \"/home/ubuntu/anaconda/lib/python2.7/site-packages/Theano-0.6.0-py2.7.egg/theano/misc/windows.py\", line 36, in subprocess_Popen\n",
        "    proc = subprocess.Popen(command, startupinfo=startupinfo, **params)\n",
        "  File \"/home/ubuntu/anaconda/lib/python2.7/subprocess.py\", line 710, in __init__\n",
        "    errread, errwrite)\n",
        "  File \"/home/ubuntu/anaconda/lib/python2.7/subprocess.py\", line 1231, in _execute_child\n",
        "    self.pid = os.fork()\n",
        "OSError: [Errno 12] Cannot allocate memory\n",
        "\n"
       ]
      },
      {
       "output_type": "stream",
       "stream": "stderr",
       "text": [
        "Problem occurred during compilation with the command line below:\n",
        "/usr/bin/g++ -shared -g -O3 -fno-math-errno -Wno-unused-label -Wno-unused-variable -Wno-write-strings -D NPY_NO_DEPRECATED_API=NPY_1_7_API_VERSION -m64 -fPIC -I/home/ubuntu/anaconda/lib/python2.7/site-packages/numpy/core/include -I/home/ubuntu/anaconda/include/python2.7 -o /home/ubuntu/.theano/compiledir_Linux-3.13--generic-x86_64-with-debian-jessie-sid-x86_64-2.7.9-64/tmpyjzG8X/e0b28ec03e051f80e055d0173c808bbb.so /home/ubuntu/.theano/compiledir_Linux-3.13--generic-x86_64-with-debian-jessie-sid-x86_64-2.7.9-64/tmpyjzG8X/mod.cpp -L/home/ubuntu/anaconda/lib -lpython2.7\n",
        "ERROR (theano.gof.cmodule): [Errno 12] Cannot allocate memory\n"
       ]
      },
      {
       "output_type": "stream",
       "stream": "stderr",
       "text": [
        "ERROR:theano.gof.cmodule:[Errno 12] Cannot allocate memory\n"
       ]
      },
      {
       "output_type": "stream",
       "stream": "stderr",
       "text": [
        "ERROR (theano.gof.opt): Optimization failure due to: constant_folding\n"
       ]
      },
      {
       "output_type": "stream",
       "stream": "stderr",
       "text": [
        "ERROR:theano.gof.opt:Optimization failure due to: constant_folding\n"
       ]
      },
      {
       "output_type": "stream",
       "stream": "stderr",
       "text": [
        "ERROR (theano.gof.opt): TRACEBACK:\n"
       ]
      },
      {
       "output_type": "stream",
       "stream": "stderr",
       "text": [
        "ERROR:theano.gof.opt:TRACEBACK:\n"
       ]
      },
      {
       "output_type": "stream",
       "stream": "stderr",
       "text": [
        "ERROR (theano.gof.opt): Traceback (most recent call last):\n",
        "  File \"/home/ubuntu/anaconda/lib/python2.7/site-packages/Theano-0.6.0-py2.7.egg/theano/gof/opt.py\", line 1491, in process_node\n",
        "    replacements = lopt.transform(node)\n",
        "  File \"/home/ubuntu/anaconda/lib/python2.7/site-packages/Theano-0.6.0-py2.7.egg/theano/tensor/opt.py\", line 4639, in constant_folding\n",
        "    no_recycling=[])\n",
        "  File \"/home/ubuntu/anaconda/lib/python2.7/site-packages/Theano-0.6.0-py2.7.egg/theano/gof/op.py\", line 722, in make_thunk\n",
        "    output_storage=node_output_storage)\n",
        "  File \"/home/ubuntu/anaconda/lib/python2.7/site-packages/Theano-0.6.0-py2.7.egg/theano/gof/cc.py\", line 1043, in make_thunk\n",
        "    keep_lock=keep_lock)\n",
        "  File \"/home/ubuntu/anaconda/lib/python2.7/site-packages/Theano-0.6.0-py2.7.egg/theano/gof/cc.py\", line 985, in __compile__\n",
        "    keep_lock=keep_lock)\n",
        "  File \"/home/ubuntu/anaconda/lib/python2.7/site-packages/Theano-0.6.0-py2.7.egg/theano/gof/cc.py\", line 1412, in cthunk_factory\n",
        "    key=key, lnk=self, keep_lock=keep_lock)\n",
        "  File \"/home/ubuntu/anaconda/lib/python2.7/site-packages/Theano-0.6.0-py2.7.egg/theano/gof/cmodule.py\", line 1056, in module_from_key\n",
        "    module = lnk.compile_cmodule(location)\n",
        "  File \"/home/ubuntu/anaconda/lib/python2.7/site-packages/Theano-0.6.0-py2.7.egg/theano/gof/cc.py\", line 1324, in compile_cmodule\n",
        "    preargs=preargs)\n",
        "  File \"/home/ubuntu/anaconda/lib/python2.7/site-packages/Theano-0.6.0-py2.7.egg/theano/gof/cmodule.py\", line 1931, in compile_str\n",
        "    p_out = output_subprocess_Popen(cmd)\n",
        "  File \"/home/ubuntu/anaconda/lib/python2.7/site-packages/Theano-0.6.0-py2.7.egg/theano/misc/windows.py\", line 73, in output_subprocess_Popen\n",
        "    p = subprocess_Popen(command, **params)\n",
        "  File \"/home/ubuntu/anaconda/lib/python2.7/site-packages/Theano-0.6.0-py2.7.egg/theano/misc/windows.py\", line 36, in subprocess_Popen\n",
        "    proc = subprocess.Popen(command, startupinfo=startupinfo, **params)\n",
        "  File \"/home/ubuntu/anaconda/lib/python2.7/subprocess.py\", line 710, in __init__\n",
        "    errread, errwrite)\n",
        "  File \"/home/ubuntu/anaconda/lib/python2.7/subprocess.py\", line 1231, in _execute_child\n",
        "    self.pid = os.fork()\n",
        "OSError: [Errno 12] Cannot allocate memory\n",
        "\n"
       ]
      },
      {
       "output_type": "stream",
       "stream": "stderr",
       "text": [
        "ERROR:theano.gof.opt:Traceback (most recent call last):\n",
        "  File \"/home/ubuntu/anaconda/lib/python2.7/site-packages/Theano-0.6.0-py2.7.egg/theano/gof/opt.py\", line 1491, in process_node\n",
        "    replacements = lopt.transform(node)\n",
        "  File \"/home/ubuntu/anaconda/lib/python2.7/site-packages/Theano-0.6.0-py2.7.egg/theano/tensor/opt.py\", line 4639, in constant_folding\n",
        "    no_recycling=[])\n",
        "  File \"/home/ubuntu/anaconda/lib/python2.7/site-packages/Theano-0.6.0-py2.7.egg/theano/gof/op.py\", line 722, in make_thunk\n",
        "    output_storage=node_output_storage)\n",
        "  File \"/home/ubuntu/anaconda/lib/python2.7/site-packages/Theano-0.6.0-py2.7.egg/theano/gof/cc.py\", line 1043, in make_thunk\n",
        "    keep_lock=keep_lock)\n",
        "  File \"/home/ubuntu/anaconda/lib/python2.7/site-packages/Theano-0.6.0-py2.7.egg/theano/gof/cc.py\", line 985, in __compile__\n",
        "    keep_lock=keep_lock)\n",
        "  File \"/home/ubuntu/anaconda/lib/python2.7/site-packages/Theano-0.6.0-py2.7.egg/theano/gof/cc.py\", line 1412, in cthunk_factory\n",
        "    key=key, lnk=self, keep_lock=keep_lock)\n",
        "  File \"/home/ubuntu/anaconda/lib/python2.7/site-packages/Theano-0.6.0-py2.7.egg/theano/gof/cmodule.py\", line 1056, in module_from_key\n",
        "    module = lnk.compile_cmodule(location)\n",
        "  File \"/home/ubuntu/anaconda/lib/python2.7/site-packages/Theano-0.6.0-py2.7.egg/theano/gof/cc.py\", line 1324, in compile_cmodule\n",
        "    preargs=preargs)\n",
        "  File \"/home/ubuntu/anaconda/lib/python2.7/site-packages/Theano-0.6.0-py2.7.egg/theano/gof/cmodule.py\", line 1931, in compile_str\n",
        "    p_out = output_subprocess_Popen(cmd)\n",
        "  File \"/home/ubuntu/anaconda/lib/python2.7/site-packages/Theano-0.6.0-py2.7.egg/theano/misc/windows.py\", line 73, in output_subprocess_Popen\n",
        "    p = subprocess_Popen(command, **params)\n",
        "  File \"/home/ubuntu/anaconda/lib/python2.7/site-packages/Theano-0.6.0-py2.7.egg/theano/misc/windows.py\", line 36, in subprocess_Popen\n",
        "    proc = subprocess.Popen(command, startupinfo=startupinfo, **params)\n",
        "  File \"/home/ubuntu/anaconda/lib/python2.7/subprocess.py\", line 710, in __init__\n",
        "    errread, errwrite)\n",
        "  File \"/home/ubuntu/anaconda/lib/python2.7/subprocess.py\", line 1231, in _execute_child\n",
        "    self.pid = os.fork()\n",
        "OSError: [Errno 12] Cannot allocate memory\n",
        "\n"
       ]
      },
      {
       "output_type": "stream",
       "stream": "stderr",
       "text": [
        "Problem occurred during compilation with the command line below:\n",
        "/usr/bin/g++ -shared -g -O3 -fno-math-errno -Wno-unused-label -Wno-unused-variable -Wno-write-strings -D NPY_NO_DEPRECATED_API=NPY_1_7_API_VERSION -m64 -fPIC -I/home/ubuntu/anaconda/lib/python2.7/site-packages/numpy/core/include -I/home/ubuntu/anaconda/include/python2.7 -o /home/ubuntu/.theano/compiledir_Linux-3.13--generic-x86_64-with-debian-jessie-sid-x86_64-2.7.9-64/tmpioE7iW/18d5a8a6a9092d5ba63e47774ced3130.so /home/ubuntu/.theano/compiledir_Linux-3.13--generic-x86_64-with-debian-jessie-sid-x86_64-2.7.9-64/tmpioE7iW/mod.cpp -L/home/ubuntu/anaconda/lib -lpython2.7\n",
        "ERROR (theano.gof.cmodule): [Errno 12] Cannot allocate memory\n"
       ]
      },
      {
       "output_type": "stream",
       "stream": "stderr",
       "text": [
        "ERROR:theano.gof.cmodule:[Errno 12] Cannot allocate memory\n"
       ]
      },
      {
       "output_type": "stream",
       "stream": "stderr",
       "text": [
        "ERROR (theano.gof.opt): Optimization failure due to: constant_folding\n"
       ]
      },
      {
       "output_type": "stream",
       "stream": "stderr",
       "text": [
        "ERROR:theano.gof.opt:Optimization failure due to: constant_folding\n"
       ]
      },
      {
       "output_type": "stream",
       "stream": "stderr",
       "text": [
        "ERROR (theano.gof.opt): TRACEBACK:\n"
       ]
      },
      {
       "output_type": "stream",
       "stream": "stderr",
       "text": [
        "ERROR:theano.gof.opt:TRACEBACK:\n"
       ]
      },
      {
       "output_type": "stream",
       "stream": "stderr",
       "text": [
        "ERROR (theano.gof.opt): Traceback (most recent call last):\n",
        "  File \"/home/ubuntu/anaconda/lib/python2.7/site-packages/Theano-0.6.0-py2.7.egg/theano/gof/opt.py\", line 1491, in process_node\n",
        "    replacements = lopt.transform(node)\n",
        "  File \"/home/ubuntu/anaconda/lib/python2.7/site-packages/Theano-0.6.0-py2.7.egg/theano/tensor/opt.py\", line 4639, in constant_folding\n",
        "    no_recycling=[])\n",
        "  File \"/home/ubuntu/anaconda/lib/python2.7/site-packages/Theano-0.6.0-py2.7.egg/theano/gof/op.py\", line 722, in make_thunk\n",
        "    output_storage=node_output_storage)\n",
        "  File \"/home/ubuntu/anaconda/lib/python2.7/site-packages/Theano-0.6.0-py2.7.egg/theano/gof/cc.py\", line 1043, in make_thunk\n",
        "    keep_lock=keep_lock)\n",
        "  File \"/home/ubuntu/anaconda/lib/python2.7/site-packages/Theano-0.6.0-py2.7.egg/theano/gof/cc.py\", line 985, in __compile__\n",
        "    keep_lock=keep_lock)\n",
        "  File \"/home/ubuntu/anaconda/lib/python2.7/site-packages/Theano-0.6.0-py2.7.egg/theano/gof/cc.py\", line 1412, in cthunk_factory\n",
        "    key=key, lnk=self, keep_lock=keep_lock)\n",
        "  File \"/home/ubuntu/anaconda/lib/python2.7/site-packages/Theano-0.6.0-py2.7.egg/theano/gof/cmodule.py\", line 1056, in module_from_key\n",
        "    module = lnk.compile_cmodule(location)\n",
        "  File \"/home/ubuntu/anaconda/lib/python2.7/site-packages/Theano-0.6.0-py2.7.egg/theano/gof/cc.py\", line 1324, in compile_cmodule\n",
        "    preargs=preargs)\n",
        "  File \"/home/ubuntu/anaconda/lib/python2.7/site-packages/Theano-0.6.0-py2.7.egg/theano/gof/cmodule.py\", line 1931, in compile_str\n",
        "    p_out = output_subprocess_Popen(cmd)\n",
        "  File \"/home/ubuntu/anaconda/lib/python2.7/site-packages/Theano-0.6.0-py2.7.egg/theano/misc/windows.py\", line 73, in output_subprocess_Popen\n",
        "    p = subprocess_Popen(command, **params)\n",
        "  File \"/home/ubuntu/anaconda/lib/python2.7/site-packages/Theano-0.6.0-py2.7.egg/theano/misc/windows.py\", line 36, in subprocess_Popen\n",
        "    proc = subprocess.Popen(command, startupinfo=startupinfo, **params)\n",
        "  File \"/home/ubuntu/anaconda/lib/python2.7/subprocess.py\", line 710, in __init__\n",
        "    errread, errwrite)\n",
        "  File \"/home/ubuntu/anaconda/lib/python2.7/subprocess.py\", line 1231, in _execute_child\n",
        "    self.pid = os.fork()\n",
        "OSError: [Errno 12] Cannot allocate memory\n",
        "\n"
       ]
      },
      {
       "output_type": "stream",
       "stream": "stderr",
       "text": [
        "ERROR:theano.gof.opt:Traceback (most recent call last):\n",
        "  File \"/home/ubuntu/anaconda/lib/python2.7/site-packages/Theano-0.6.0-py2.7.egg/theano/gof/opt.py\", line 1491, in process_node\n",
        "    replacements = lopt.transform(node)\n",
        "  File \"/home/ubuntu/anaconda/lib/python2.7/site-packages/Theano-0.6.0-py2.7.egg/theano/tensor/opt.py\", line 4639, in constant_folding\n",
        "    no_recycling=[])\n",
        "  File \"/home/ubuntu/anaconda/lib/python2.7/site-packages/Theano-0.6.0-py2.7.egg/theano/gof/op.py\", line 722, in make_thunk\n",
        "    output_storage=node_output_storage)\n",
        "  File \"/home/ubuntu/anaconda/lib/python2.7/site-packages/Theano-0.6.0-py2.7.egg/theano/gof/cc.py\", line 1043, in make_thunk\n",
        "    keep_lock=keep_lock)\n",
        "  File \"/home/ubuntu/anaconda/lib/python2.7/site-packages/Theano-0.6.0-py2.7.egg/theano/gof/cc.py\", line 985, in __compile__\n",
        "    keep_lock=keep_lock)\n",
        "  File \"/home/ubuntu/anaconda/lib/python2.7/site-packages/Theano-0.6.0-py2.7.egg/theano/gof/cc.py\", line 1412, in cthunk_factory\n",
        "    key=key, lnk=self, keep_lock=keep_lock)\n",
        "  File \"/home/ubuntu/anaconda/lib/python2.7/site-packages/Theano-0.6.0-py2.7.egg/theano/gof/cmodule.py\", line 1056, in module_from_key\n",
        "    module = lnk.compile_cmodule(location)\n",
        "  File \"/home/ubuntu/anaconda/lib/python2.7/site-packages/Theano-0.6.0-py2.7.egg/theano/gof/cc.py\", line 1324, in compile_cmodule\n",
        "    preargs=preargs)\n",
        "  File \"/home/ubuntu/anaconda/lib/python2.7/site-packages/Theano-0.6.0-py2.7.egg/theano/gof/cmodule.py\", line 1931, in compile_str\n",
        "    p_out = output_subprocess_Popen(cmd)\n",
        "  File \"/home/ubuntu/anaconda/lib/python2.7/site-packages/Theano-0.6.0-py2.7.egg/theano/misc/windows.py\", line 73, in output_subprocess_Popen\n",
        "    p = subprocess_Popen(command, **params)\n",
        "  File \"/home/ubuntu/anaconda/lib/python2.7/site-packages/Theano-0.6.0-py2.7.egg/theano/misc/windows.py\", line 36, in subprocess_Popen\n",
        "    proc = subprocess.Popen(command, startupinfo=startupinfo, **params)\n",
        "  File \"/home/ubuntu/anaconda/lib/python2.7/subprocess.py\", line 710, in __init__\n",
        "    errread, errwrite)\n",
        "  File \"/home/ubuntu/anaconda/lib/python2.7/subprocess.py\", line 1231, in _execute_child\n",
        "    self.pid = os.fork()\n",
        "OSError: [Errno 12] Cannot allocate memory\n",
        "\n"
       ]
      },
      {
       "output_type": "stream",
       "stream": "stderr",
       "text": [
        "Problem occurred during compilation with the command line below:\n",
        "/usr/bin/g++ -shared -g -O3 -fno-math-errno -Wno-unused-label -Wno-unused-variable -Wno-write-strings -D NPY_NO_DEPRECATED_API=NPY_1_7_API_VERSION -m64 -fPIC -I/home/ubuntu/anaconda/lib/python2.7/site-packages/numpy/core/include -I/home/ubuntu/anaconda/include/python2.7 -o /home/ubuntu/.theano/compiledir_Linux-3.13--generic-x86_64-with-debian-jessie-sid-x86_64-2.7.9-64/tmpTrGwTN/e0b28ec03e051f80e055d0173c808bbb.so /home/ubuntu/.theano/compiledir_Linux-3.13--generic-x86_64-with-debian-jessie-sid-x86_64-2.7.9-64/tmpTrGwTN/mod.cpp -L/home/ubuntu/anaconda/lib -lpython2.7\n",
        "ERROR (theano.gof.cmodule): [Errno 12] Cannot allocate memory\n"
       ]
      },
      {
       "output_type": "stream",
       "stream": "stderr",
       "text": [
        "ERROR:theano.gof.cmodule:[Errno 12] Cannot allocate memory\n"
       ]
      },
      {
       "output_type": "stream",
       "stream": "stderr",
       "text": [
        "ERROR (theano.gof.opt): Optimization failure due to: constant_folding\n"
       ]
      },
      {
       "output_type": "stream",
       "stream": "stderr",
       "text": [
        "ERROR:theano.gof.opt:Optimization failure due to: constant_folding\n"
       ]
      },
      {
       "output_type": "stream",
       "stream": "stderr",
       "text": [
        "ERROR (theano.gof.opt): TRACEBACK:\n"
       ]
      },
      {
       "output_type": "stream",
       "stream": "stderr",
       "text": [
        "ERROR:theano.gof.opt:TRACEBACK:\n"
       ]
      },
      {
       "output_type": "stream",
       "stream": "stderr",
       "text": [
        "ERROR (theano.gof.opt): Traceback (most recent call last):\n",
        "  File \"/home/ubuntu/anaconda/lib/python2.7/site-packages/Theano-0.6.0-py2.7.egg/theano/gof/opt.py\", line 1491, in process_node\n",
        "    replacements = lopt.transform(node)\n",
        "  File \"/home/ubuntu/anaconda/lib/python2.7/site-packages/Theano-0.6.0-py2.7.egg/theano/tensor/opt.py\", line 4639, in constant_folding\n",
        "    no_recycling=[])\n",
        "  File \"/home/ubuntu/anaconda/lib/python2.7/site-packages/Theano-0.6.0-py2.7.egg/theano/gof/op.py\", line 722, in make_thunk\n",
        "    output_storage=node_output_storage)\n",
        "  File \"/home/ubuntu/anaconda/lib/python2.7/site-packages/Theano-0.6.0-py2.7.egg/theano/gof/cc.py\", line 1043, in make_thunk\n",
        "    keep_lock=keep_lock)\n",
        "  File \"/home/ubuntu/anaconda/lib/python2.7/site-packages/Theano-0.6.0-py2.7.egg/theano/gof/cc.py\", line 985, in __compile__\n",
        "    keep_lock=keep_lock)\n",
        "  File \"/home/ubuntu/anaconda/lib/python2.7/site-packages/Theano-0.6.0-py2.7.egg/theano/gof/cc.py\", line 1412, in cthunk_factory\n",
        "    key=key, lnk=self, keep_lock=keep_lock)\n",
        "  File \"/home/ubuntu/anaconda/lib/python2.7/site-packages/Theano-0.6.0-py2.7.egg/theano/gof/cmodule.py\", line 1056, in module_from_key\n",
        "    module = lnk.compile_cmodule(location)\n",
        "  File \"/home/ubuntu/anaconda/lib/python2.7/site-packages/Theano-0.6.0-py2.7.egg/theano/gof/cc.py\", line 1324, in compile_cmodule\n",
        "    preargs=preargs)\n",
        "  File \"/home/ubuntu/anaconda/lib/python2.7/site-packages/Theano-0.6.0-py2.7.egg/theano/gof/cmodule.py\", line 1931, in compile_str\n",
        "    p_out = output_subprocess_Popen(cmd)\n",
        "  File \"/home/ubuntu/anaconda/lib/python2.7/site-packages/Theano-0.6.0-py2.7.egg/theano/misc/windows.py\", line 73, in output_subprocess_Popen\n",
        "    p = subprocess_Popen(command, **params)\n",
        "  File \"/home/ubuntu/anaconda/lib/python2.7/site-packages/Theano-0.6.0-py2.7.egg/theano/misc/windows.py\", line 36, in subprocess_Popen\n",
        "    proc = subprocess.Popen(command, startupinfo=startupinfo, **params)\n",
        "  File \"/home/ubuntu/anaconda/lib/python2.7/subprocess.py\", line 710, in __init__\n",
        "    errread, errwrite)\n",
        "  File \"/home/ubuntu/anaconda/lib/python2.7/subprocess.py\", line 1231, in _execute_child\n",
        "    self.pid = os.fork()\n",
        "OSError: [Errno 12] Cannot allocate memory\n",
        "\n"
       ]
      },
      {
       "output_type": "stream",
       "stream": "stderr",
       "text": [
        "ERROR:theano.gof.opt:Traceback (most recent call last):\n",
        "  File \"/home/ubuntu/anaconda/lib/python2.7/site-packages/Theano-0.6.0-py2.7.egg/theano/gof/opt.py\", line 1491, in process_node\n",
        "    replacements = lopt.transform(node)\n",
        "  File \"/home/ubuntu/anaconda/lib/python2.7/site-packages/Theano-0.6.0-py2.7.egg/theano/tensor/opt.py\", line 4639, in constant_folding\n",
        "    no_recycling=[])\n",
        "  File \"/home/ubuntu/anaconda/lib/python2.7/site-packages/Theano-0.6.0-py2.7.egg/theano/gof/op.py\", line 722, in make_thunk\n",
        "    output_storage=node_output_storage)\n",
        "  File \"/home/ubuntu/anaconda/lib/python2.7/site-packages/Theano-0.6.0-py2.7.egg/theano/gof/cc.py\", line 1043, in make_thunk\n",
        "    keep_lock=keep_lock)\n",
        "  File \"/home/ubuntu/anaconda/lib/python2.7/site-packages/Theano-0.6.0-py2.7.egg/theano/gof/cc.py\", line 985, in __compile__\n",
        "    keep_lock=keep_lock)\n",
        "  File \"/home/ubuntu/anaconda/lib/python2.7/site-packages/Theano-0.6.0-py2.7.egg/theano/gof/cc.py\", line 1412, in cthunk_factory\n",
        "    key=key, lnk=self, keep_lock=keep_lock)\n",
        "  File \"/home/ubuntu/anaconda/lib/python2.7/site-packages/Theano-0.6.0-py2.7.egg/theano/gof/cmodule.py\", line 1056, in module_from_key\n",
        "    module = lnk.compile_cmodule(location)\n",
        "  File \"/home/ubuntu/anaconda/lib/python2.7/site-packages/Theano-0.6.0-py2.7.egg/theano/gof/cc.py\", line 1324, in compile_cmodule\n",
        "    preargs=preargs)\n",
        "  File \"/home/ubuntu/anaconda/lib/python2.7/site-packages/Theano-0.6.0-py2.7.egg/theano/gof/cmodule.py\", line 1931, in compile_str\n",
        "    p_out = output_subprocess_Popen(cmd)\n",
        "  File \"/home/ubuntu/anaconda/lib/python2.7/site-packages/Theano-0.6.0-py2.7.egg/theano/misc/windows.py\", line 73, in output_subprocess_Popen\n",
        "    p = subprocess_Popen(command, **params)\n",
        "  File \"/home/ubuntu/anaconda/lib/python2.7/site-packages/Theano-0.6.0-py2.7.egg/theano/misc/windows.py\", line 36, in subprocess_Popen\n",
        "    proc = subprocess.Popen(command, startupinfo=startupinfo, **params)\n",
        "  File \"/home/ubuntu/anaconda/lib/python2.7/subprocess.py\", line 710, in __init__\n",
        "    errread, errwrite)\n",
        "  File \"/home/ubuntu/anaconda/lib/python2.7/subprocess.py\", line 1231, in _execute_child\n",
        "    self.pid = os.fork()\n",
        "OSError: [Errno 12] Cannot allocate memory\n",
        "\n"
       ]
      },
      {
       "output_type": "stream",
       "stream": "stderr",
       "text": [
        "Problem occurred during compilation with the command line below:\n",
        "/usr/bin/g++ -shared -g -O3 -fno-math-errno -Wno-unused-label -Wno-unused-variable -Wno-write-strings -D NPY_NO_DEPRECATED_API=NPY_1_7_API_VERSION -m64 -fPIC -I/home/ubuntu/anaconda/lib/python2.7/site-packages/numpy/core/include -I/home/ubuntu/anaconda/include/python2.7 -o /home/ubuntu/.theano/compiledir_Linux-3.13--generic-x86_64-with-debian-jessie-sid-x86_64-2.7.9-64/tmppqxjYJ/18d5a8a6a9092d5ba63e47774ced3130.so /home/ubuntu/.theano/compiledir_Linux-3.13--generic-x86_64-with-debian-jessie-sid-x86_64-2.7.9-64/tmppqxjYJ/mod.cpp -L/home/ubuntu/anaconda/lib -lpython2.7\n",
        "ERROR (theano.gof.cmodule): [Errno 12] Cannot allocate memory\n"
       ]
      },
      {
       "output_type": "stream",
       "stream": "stderr",
       "text": [
        "ERROR:theano.gof.cmodule:[Errno 12] Cannot allocate memory\n"
       ]
      },
      {
       "output_type": "stream",
       "stream": "stderr",
       "text": [
        "ERROR (theano.gof.opt): Optimization failure due to: constant_folding\n"
       ]
      },
      {
       "output_type": "stream",
       "stream": "stderr",
       "text": [
        "ERROR:theano.gof.opt:Optimization failure due to: constant_folding\n"
       ]
      },
      {
       "output_type": "stream",
       "stream": "stderr",
       "text": [
        "ERROR (theano.gof.opt): TRACEBACK:\n"
       ]
      },
      {
       "output_type": "stream",
       "stream": "stderr",
       "text": [
        "ERROR:theano.gof.opt:TRACEBACK:\n"
       ]
      },
      {
       "output_type": "stream",
       "stream": "stderr",
       "text": [
        "ERROR (theano.gof.opt): Traceback (most recent call last):\n",
        "  File \"/home/ubuntu/anaconda/lib/python2.7/site-packages/Theano-0.6.0-py2.7.egg/theano/gof/opt.py\", line 1491, in process_node\n",
        "    replacements = lopt.transform(node)\n",
        "  File \"/home/ubuntu/anaconda/lib/python2.7/site-packages/Theano-0.6.0-py2.7.egg/theano/tensor/opt.py\", line 4639, in constant_folding\n",
        "    no_recycling=[])\n",
        "  File \"/home/ubuntu/anaconda/lib/python2.7/site-packages/Theano-0.6.0-py2.7.egg/theano/gof/op.py\", line 722, in make_thunk\n",
        "    output_storage=node_output_storage)\n",
        "  File \"/home/ubuntu/anaconda/lib/python2.7/site-packages/Theano-0.6.0-py2.7.egg/theano/gof/cc.py\", line 1043, in make_thunk\n",
        "    keep_lock=keep_lock)\n",
        "  File \"/home/ubuntu/anaconda/lib/python2.7/site-packages/Theano-0.6.0-py2.7.egg/theano/gof/cc.py\", line 985, in __compile__\n",
        "    keep_lock=keep_lock)\n",
        "  File \"/home/ubuntu/anaconda/lib/python2.7/site-packages/Theano-0.6.0-py2.7.egg/theano/gof/cc.py\", line 1412, in cthunk_factory\n",
        "    key=key, lnk=self, keep_lock=keep_lock)\n",
        "  File \"/home/ubuntu/anaconda/lib/python2.7/site-packages/Theano-0.6.0-py2.7.egg/theano/gof/cmodule.py\", line 1056, in module_from_key\n",
        "    module = lnk.compile_cmodule(location)\n",
        "  File \"/home/ubuntu/anaconda/lib/python2.7/site-packages/Theano-0.6.0-py2.7.egg/theano/gof/cc.py\", line 1324, in compile_cmodule\n",
        "    preargs=preargs)\n",
        "  File \"/home/ubuntu/anaconda/lib/python2.7/site-packages/Theano-0.6.0-py2.7.egg/theano/gof/cmodule.py\", line 1931, in compile_str\n",
        "    p_out = output_subprocess_Popen(cmd)\n",
        "  File \"/home/ubuntu/anaconda/lib/python2.7/site-packages/Theano-0.6.0-py2.7.egg/theano/misc/windows.py\", line 73, in output_subprocess_Popen\n",
        "    p = subprocess_Popen(command, **params)\n",
        "  File \"/home/ubuntu/anaconda/lib/python2.7/site-packages/Theano-0.6.0-py2.7.egg/theano/misc/windows.py\", line 36, in subprocess_Popen\n",
        "    proc = subprocess.Popen(command, startupinfo=startupinfo, **params)\n",
        "  File \"/home/ubuntu/anaconda/lib/python2.7/subprocess.py\", line 710, in __init__\n",
        "    errread, errwrite)\n",
        "  File \"/home/ubuntu/anaconda/lib/python2.7/subprocess.py\", line 1231, in _execute_child\n",
        "    self.pid = os.fork()\n",
        "OSError: [Errno 12] Cannot allocate memory\n",
        "\n"
       ]
      },
      {
       "output_type": "stream",
       "stream": "stderr",
       "text": [
        "ERROR:theano.gof.opt:Traceback (most recent call last):\n",
        "  File \"/home/ubuntu/anaconda/lib/python2.7/site-packages/Theano-0.6.0-py2.7.egg/theano/gof/opt.py\", line 1491, in process_node\n",
        "    replacements = lopt.transform(node)\n",
        "  File \"/home/ubuntu/anaconda/lib/python2.7/site-packages/Theano-0.6.0-py2.7.egg/theano/tensor/opt.py\", line 4639, in constant_folding\n",
        "    no_recycling=[])\n",
        "  File \"/home/ubuntu/anaconda/lib/python2.7/site-packages/Theano-0.6.0-py2.7.egg/theano/gof/op.py\", line 722, in make_thunk\n",
        "    output_storage=node_output_storage)\n",
        "  File \"/home/ubuntu/anaconda/lib/python2.7/site-packages/Theano-0.6.0-py2.7.egg/theano/gof/cc.py\", line 1043, in make_thunk\n",
        "    keep_lock=keep_lock)\n",
        "  File \"/home/ubuntu/anaconda/lib/python2.7/site-packages/Theano-0.6.0-py2.7.egg/theano/gof/cc.py\", line 985, in __compile__\n",
        "    keep_lock=keep_lock)\n",
        "  File \"/home/ubuntu/anaconda/lib/python2.7/site-packages/Theano-0.6.0-py2.7.egg/theano/gof/cc.py\", line 1412, in cthunk_factory\n",
        "    key=key, lnk=self, keep_lock=keep_lock)\n",
        "  File \"/home/ubuntu/anaconda/lib/python2.7/site-packages/Theano-0.6.0-py2.7.egg/theano/gof/cmodule.py\", line 1056, in module_from_key\n",
        "    module = lnk.compile_cmodule(location)\n",
        "  File \"/home/ubuntu/anaconda/lib/python2.7/site-packages/Theano-0.6.0-py2.7.egg/theano/gof/cc.py\", line 1324, in compile_cmodule\n",
        "    preargs=preargs)\n",
        "  File \"/home/ubuntu/anaconda/lib/python2.7/site-packages/Theano-0.6.0-py2.7.egg/theano/gof/cmodule.py\", line 1931, in compile_str\n",
        "    p_out = output_subprocess_Popen(cmd)\n",
        "  File \"/home/ubuntu/anaconda/lib/python2.7/site-packages/Theano-0.6.0-py2.7.egg/theano/misc/windows.py\", line 73, in output_subprocess_Popen\n",
        "    p = subprocess_Popen(command, **params)\n",
        "  File \"/home/ubuntu/anaconda/lib/python2.7/site-packages/Theano-0.6.0-py2.7.egg/theano/misc/windows.py\", line 36, in subprocess_Popen\n",
        "    proc = subprocess.Popen(command, startupinfo=startupinfo, **params)\n",
        "  File \"/home/ubuntu/anaconda/lib/python2.7/subprocess.py\", line 710, in __init__\n",
        "    errread, errwrite)\n",
        "  File \"/home/ubuntu/anaconda/lib/python2.7/subprocess.py\", line 1231, in _execute_child\n",
        "    self.pid = os.fork()\n",
        "OSError: [Errno 12] Cannot allocate memory\n",
        "\n"
       ]
      },
      {
       "output_type": "stream",
       "stream": "stderr",
       "text": [
        "Problem occurred during compilation with the command line below:\n",
        "/usr/bin/g++ -shared -g -O3 -fno-math-errno -Wno-unused-label -Wno-unused-variable -Wno-write-strings -D NPY_NO_DEPRECATED_API=NPY_1_7_API_VERSION -m64 -fPIC -I/home/ubuntu/anaconda/lib/python2.7/site-packages/numpy/core/include -I/home/ubuntu/anaconda/include/python2.7 -o /home/ubuntu/.theano/compiledir_Linux-3.13--generic-x86_64-with-debian-jessie-sid-x86_64-2.7.9-64/tmpkglNtM/e0b28ec03e051f80e055d0173c808bbb.so /home/ubuntu/.theano/compiledir_Linux-3.13--generic-x86_64-with-debian-jessie-sid-x86_64-2.7.9-64/tmpkglNtM/mod.cpp -L/home/ubuntu/anaconda/lib -lpython2.7\n",
        "ERROR (theano.gof.cmodule): [Errno 12] Cannot allocate memory\n"
       ]
      },
      {
       "output_type": "stream",
       "stream": "stderr",
       "text": [
        "ERROR:theano.gof.cmodule:[Errno 12] Cannot allocate memory\n"
       ]
      },
      {
       "output_type": "stream",
       "stream": "stderr",
       "text": [
        "ERROR (theano.gof.opt): Optimization failure due to: constant_folding\n"
       ]
      },
      {
       "output_type": "stream",
       "stream": "stderr",
       "text": [
        "ERROR:theano.gof.opt:Optimization failure due to: constant_folding\n"
       ]
      },
      {
       "output_type": "stream",
       "stream": "stderr",
       "text": [
        "ERROR (theano.gof.opt): TRACEBACK:\n"
       ]
      },
      {
       "output_type": "stream",
       "stream": "stderr",
       "text": [
        "ERROR:theano.gof.opt:TRACEBACK:\n"
       ]
      },
      {
       "output_type": "stream",
       "stream": "stderr",
       "text": [
        "ERROR (theano.gof.opt): Traceback (most recent call last):\n",
        "  File \"/home/ubuntu/anaconda/lib/python2.7/site-packages/Theano-0.6.0-py2.7.egg/theano/gof/opt.py\", line 1491, in process_node\n",
        "    replacements = lopt.transform(node)\n",
        "  File \"/home/ubuntu/anaconda/lib/python2.7/site-packages/Theano-0.6.0-py2.7.egg/theano/tensor/opt.py\", line 4639, in constant_folding\n",
        "    no_recycling=[])\n",
        "  File \"/home/ubuntu/anaconda/lib/python2.7/site-packages/Theano-0.6.0-py2.7.egg/theano/gof/op.py\", line 722, in make_thunk\n",
        "    output_storage=node_output_storage)\n",
        "  File \"/home/ubuntu/anaconda/lib/python2.7/site-packages/Theano-0.6.0-py2.7.egg/theano/gof/cc.py\", line 1043, in make_thunk\n",
        "    keep_lock=keep_lock)\n",
        "  File \"/home/ubuntu/anaconda/lib/python2.7/site-packages/Theano-0.6.0-py2.7.egg/theano/gof/cc.py\", line 985, in __compile__\n",
        "    keep_lock=keep_lock)\n",
        "  File \"/home/ubuntu/anaconda/lib/python2.7/site-packages/Theano-0.6.0-py2.7.egg/theano/gof/cc.py\", line 1412, in cthunk_factory\n",
        "    key=key, lnk=self, keep_lock=keep_lock)\n",
        "  File \"/home/ubuntu/anaconda/lib/python2.7/site-packages/Theano-0.6.0-py2.7.egg/theano/gof/cmodule.py\", line 1056, in module_from_key\n",
        "    module = lnk.compile_cmodule(location)\n",
        "  File \"/home/ubuntu/anaconda/lib/python2.7/site-packages/Theano-0.6.0-py2.7.egg/theano/gof/cc.py\", line 1324, in compile_cmodule\n",
        "    preargs=preargs)\n",
        "  File \"/home/ubuntu/anaconda/lib/python2.7/site-packages/Theano-0.6.0-py2.7.egg/theano/gof/cmodule.py\", line 1931, in compile_str\n",
        "    p_out = output_subprocess_Popen(cmd)\n",
        "  File \"/home/ubuntu/anaconda/lib/python2.7/site-packages/Theano-0.6.0-py2.7.egg/theano/misc/windows.py\", line 73, in output_subprocess_Popen\n",
        "    p = subprocess_Popen(command, **params)\n",
        "  File \"/home/ubuntu/anaconda/lib/python2.7/site-packages/Theano-0.6.0-py2.7.egg/theano/misc/windows.py\", line 36, in subprocess_Popen\n",
        "    proc = subprocess.Popen(command, startupinfo=startupinfo, **params)\n",
        "  File \"/home/ubuntu/anaconda/lib/python2.7/subprocess.py\", line 710, in __init__\n",
        "    errread, errwrite)\n",
        "  File \"/home/ubuntu/anaconda/lib/python2.7/subprocess.py\", line 1231, in _execute_child\n",
        "    self.pid = os.fork()\n",
        "OSError: [Errno 12] Cannot allocate memory\n",
        "\n"
       ]
      },
      {
       "output_type": "stream",
       "stream": "stderr",
       "text": [
        "ERROR:theano.gof.opt:Traceback (most recent call last):\n",
        "  File \"/home/ubuntu/anaconda/lib/python2.7/site-packages/Theano-0.6.0-py2.7.egg/theano/gof/opt.py\", line 1491, in process_node\n",
        "    replacements = lopt.transform(node)\n",
        "  File \"/home/ubuntu/anaconda/lib/python2.7/site-packages/Theano-0.6.0-py2.7.egg/theano/tensor/opt.py\", line 4639, in constant_folding\n",
        "    no_recycling=[])\n",
        "  File \"/home/ubuntu/anaconda/lib/python2.7/site-packages/Theano-0.6.0-py2.7.egg/theano/gof/op.py\", line 722, in make_thunk\n",
        "    output_storage=node_output_storage)\n",
        "  File \"/home/ubuntu/anaconda/lib/python2.7/site-packages/Theano-0.6.0-py2.7.egg/theano/gof/cc.py\", line 1043, in make_thunk\n",
        "    keep_lock=keep_lock)\n",
        "  File \"/home/ubuntu/anaconda/lib/python2.7/site-packages/Theano-0.6.0-py2.7.egg/theano/gof/cc.py\", line 985, in __compile__\n",
        "    keep_lock=keep_lock)\n",
        "  File \"/home/ubuntu/anaconda/lib/python2.7/site-packages/Theano-0.6.0-py2.7.egg/theano/gof/cc.py\", line 1412, in cthunk_factory\n",
        "    key=key, lnk=self, keep_lock=keep_lock)\n",
        "  File \"/home/ubuntu/anaconda/lib/python2.7/site-packages/Theano-0.6.0-py2.7.egg/theano/gof/cmodule.py\", line 1056, in module_from_key\n",
        "    module = lnk.compile_cmodule(location)\n",
        "  File \"/home/ubuntu/anaconda/lib/python2.7/site-packages/Theano-0.6.0-py2.7.egg/theano/gof/cc.py\", line 1324, in compile_cmodule\n",
        "    preargs=preargs)\n",
        "  File \"/home/ubuntu/anaconda/lib/python2.7/site-packages/Theano-0.6.0-py2.7.egg/theano/gof/cmodule.py\", line 1931, in compile_str\n",
        "    p_out = output_subprocess_Popen(cmd)\n",
        "  File \"/home/ubuntu/anaconda/lib/python2.7/site-packages/Theano-0.6.0-py2.7.egg/theano/misc/windows.py\", line 73, in output_subprocess_Popen\n",
        "    p = subprocess_Popen(command, **params)\n",
        "  File \"/home/ubuntu/anaconda/lib/python2.7/site-packages/Theano-0.6.0-py2.7.egg/theano/misc/windows.py\", line 36, in subprocess_Popen\n",
        "    proc = subprocess.Popen(command, startupinfo=startupinfo, **params)\n",
        "  File \"/home/ubuntu/anaconda/lib/python2.7/subprocess.py\", line 710, in __init__\n",
        "    errread, errwrite)\n",
        "  File \"/home/ubuntu/anaconda/lib/python2.7/subprocess.py\", line 1231, in _execute_child\n",
        "    self.pid = os.fork()\n",
        "OSError: [Errno 12] Cannot allocate memory\n",
        "\n"
       ]
      },
      {
       "output_type": "stream",
       "stream": "stderr",
       "text": [
        "Problem occurred during compilation with the command line below:\n",
        "/usr/bin/g++ -shared -g -O3 -fno-math-errno -Wno-unused-label -Wno-unused-variable -Wno-write-strings -D NPY_NO_DEPRECATED_API=NPY_1_7_API_VERSION -m64 -fPIC -I/home/ubuntu/anaconda/lib/python2.7/site-packages/numpy/core/include -I/home/ubuntu/anaconda/include/python2.7 -o /home/ubuntu/.theano/compiledir_Linux-3.13--generic-x86_64-with-debian-jessie-sid-x86_64-2.7.9-64/tmpT0j1Se/e0b28ec03e051f80e055d0173c808bbb.so /home/ubuntu/.theano/compiledir_Linux-3.13--generic-x86_64-with-debian-jessie-sid-x86_64-2.7.9-64/tmpT0j1Se/mod.cpp -L/home/ubuntu/anaconda/lib -lpython2.7\n",
        "ERROR (theano.gof.cmodule): [Errno 12] Cannot allocate memory\n"
       ]
      },
      {
       "output_type": "stream",
       "stream": "stderr",
       "text": [
        "ERROR:theano.gof.cmodule:[Errno 12] Cannot allocate memory\n"
       ]
      },
      {
       "output_type": "stream",
       "stream": "stderr",
       "text": [
        "ERROR (theano.gof.opt): Optimization failure due to: constant_folding\n"
       ]
      },
      {
       "output_type": "stream",
       "stream": "stderr",
       "text": [
        "ERROR:theano.gof.opt:Optimization failure due to: constant_folding\n"
       ]
      },
      {
       "output_type": "stream",
       "stream": "stderr",
       "text": [
        "ERROR (theano.gof.opt): TRACEBACK:\n"
       ]
      },
      {
       "output_type": "stream",
       "stream": "stderr",
       "text": [
        "ERROR:theano.gof.opt:TRACEBACK:\n"
       ]
      },
      {
       "output_type": "stream",
       "stream": "stderr",
       "text": [
        "ERROR (theano.gof.opt): Traceback (most recent call last):\n",
        "  File \"/home/ubuntu/anaconda/lib/python2.7/site-packages/Theano-0.6.0-py2.7.egg/theano/gof/opt.py\", line 1491, in process_node\n",
        "    replacements = lopt.transform(node)\n",
        "  File \"/home/ubuntu/anaconda/lib/python2.7/site-packages/Theano-0.6.0-py2.7.egg/theano/tensor/opt.py\", line 4639, in constant_folding\n",
        "    no_recycling=[])\n",
        "  File \"/home/ubuntu/anaconda/lib/python2.7/site-packages/Theano-0.6.0-py2.7.egg/theano/gof/op.py\", line 722, in make_thunk\n",
        "    output_storage=node_output_storage)\n",
        "  File \"/home/ubuntu/anaconda/lib/python2.7/site-packages/Theano-0.6.0-py2.7.egg/theano/gof/cc.py\", line 1043, in make_thunk\n",
        "    keep_lock=keep_lock)\n",
        "  File \"/home/ubuntu/anaconda/lib/python2.7/site-packages/Theano-0.6.0-py2.7.egg/theano/gof/cc.py\", line 985, in __compile__\n",
        "    keep_lock=keep_lock)\n",
        "  File \"/home/ubuntu/anaconda/lib/python2.7/site-packages/Theano-0.6.0-py2.7.egg/theano/gof/cc.py\", line 1412, in cthunk_factory\n",
        "    key=key, lnk=self, keep_lock=keep_lock)\n",
        "  File \"/home/ubuntu/anaconda/lib/python2.7/site-packages/Theano-0.6.0-py2.7.egg/theano/gof/cmodule.py\", line 1056, in module_from_key\n",
        "    module = lnk.compile_cmodule(location)\n",
        "  File \"/home/ubuntu/anaconda/lib/python2.7/site-packages/Theano-0.6.0-py2.7.egg/theano/gof/cc.py\", line 1324, in compile_cmodule\n",
        "    preargs=preargs)\n",
        "  File \"/home/ubuntu/anaconda/lib/python2.7/site-packages/Theano-0.6.0-py2.7.egg/theano/gof/cmodule.py\", line 1931, in compile_str\n",
        "    p_out = output_subprocess_Popen(cmd)\n",
        "  File \"/home/ubuntu/anaconda/lib/python2.7/site-packages/Theano-0.6.0-py2.7.egg/theano/misc/windows.py\", line 73, in output_subprocess_Popen\n",
        "    p = subprocess_Popen(command, **params)\n",
        "  File \"/home/ubuntu/anaconda/lib/python2.7/site-packages/Theano-0.6.0-py2.7.egg/theano/misc/windows.py\", line 36, in subprocess_Popen\n",
        "    proc = subprocess.Popen(command, startupinfo=startupinfo, **params)\n",
        "  File \"/home/ubuntu/anaconda/lib/python2.7/subprocess.py\", line 710, in __init__\n",
        "    errread, errwrite)\n",
        "  File \"/home/ubuntu/anaconda/lib/python2.7/subprocess.py\", line 1231, in _execute_child\n",
        "    self.pid = os.fork()\n",
        "OSError: [Errno 12] Cannot allocate memory\n",
        "\n"
       ]
      },
      {
       "output_type": "stream",
       "stream": "stderr",
       "text": [
        "ERROR:theano.gof.opt:Traceback (most recent call last):\n",
        "  File \"/home/ubuntu/anaconda/lib/python2.7/site-packages/Theano-0.6.0-py2.7.egg/theano/gof/opt.py\", line 1491, in process_node\n",
        "    replacements = lopt.transform(node)\n",
        "  File \"/home/ubuntu/anaconda/lib/python2.7/site-packages/Theano-0.6.0-py2.7.egg/theano/tensor/opt.py\", line 4639, in constant_folding\n",
        "    no_recycling=[])\n",
        "  File \"/home/ubuntu/anaconda/lib/python2.7/site-packages/Theano-0.6.0-py2.7.egg/theano/gof/op.py\", line 722, in make_thunk\n",
        "    output_storage=node_output_storage)\n",
        "  File \"/home/ubuntu/anaconda/lib/python2.7/site-packages/Theano-0.6.0-py2.7.egg/theano/gof/cc.py\", line 1043, in make_thunk\n",
        "    keep_lock=keep_lock)\n",
        "  File \"/home/ubuntu/anaconda/lib/python2.7/site-packages/Theano-0.6.0-py2.7.egg/theano/gof/cc.py\", line 985, in __compile__\n",
        "    keep_lock=keep_lock)\n",
        "  File \"/home/ubuntu/anaconda/lib/python2.7/site-packages/Theano-0.6.0-py2.7.egg/theano/gof/cc.py\", line 1412, in cthunk_factory\n",
        "    key=key, lnk=self, keep_lock=keep_lock)\n",
        "  File \"/home/ubuntu/anaconda/lib/python2.7/site-packages/Theano-0.6.0-py2.7.egg/theano/gof/cmodule.py\", line 1056, in module_from_key\n",
        "    module = lnk.compile_cmodule(location)\n",
        "  File \"/home/ubuntu/anaconda/lib/python2.7/site-packages/Theano-0.6.0-py2.7.egg/theano/gof/cc.py\", line 1324, in compile_cmodule\n",
        "    preargs=preargs)\n",
        "  File \"/home/ubuntu/anaconda/lib/python2.7/site-packages/Theano-0.6.0-py2.7.egg/theano/gof/cmodule.py\", line 1931, in compile_str\n",
        "    p_out = output_subprocess_Popen(cmd)\n",
        "  File \"/home/ubuntu/anaconda/lib/python2.7/site-packages/Theano-0.6.0-py2.7.egg/theano/misc/windows.py\", line 73, in output_subprocess_Popen\n",
        "    p = subprocess_Popen(command, **params)\n",
        "  File \"/home/ubuntu/anaconda/lib/python2.7/site-packages/Theano-0.6.0-py2.7.egg/theano/misc/windows.py\", line 36, in subprocess_Popen\n",
        "    proc = subprocess.Popen(command, startupinfo=startupinfo, **params)\n",
        "  File \"/home/ubuntu/anaconda/lib/python2.7/subprocess.py\", line 710, in __init__\n",
        "    errread, errwrite)\n",
        "  File \"/home/ubuntu/anaconda/lib/python2.7/subprocess.py\", line 1231, in _execute_child\n",
        "    self.pid = os.fork()\n",
        "OSError: [Errno 12] Cannot allocate memory\n",
        "\n"
       ]
      },
      {
       "output_type": "stream",
       "stream": "stderr",
       "text": [
        "Problem occurred during compilation with the command line below:\n",
        "/usr/bin/g++ -shared -g -O3 -fno-math-errno -Wno-unused-label -Wno-unused-variable -Wno-write-strings -D NPY_NO_DEPRECATED_API=NPY_1_7_API_VERSION -m64 -fPIC -I/home/ubuntu/anaconda/lib/python2.7/site-packages/numpy/core/include -I/home/ubuntu/anaconda/include/python2.7 -o /home/ubuntu/.theano/compiledir_Linux-3.13--generic-x86_64-with-debian-jessie-sid-x86_64-2.7.9-64/tmp8Fqy0o/e0b28ec03e051f80e055d0173c808bbb.so /home/ubuntu/.theano/compiledir_Linux-3.13--generic-x86_64-with-debian-jessie-sid-x86_64-2.7.9-64/tmp8Fqy0o/mod.cpp -L/home/ubuntu/anaconda/lib -lpython2.7\n",
        "ERROR (theano.gof.cmodule): [Errno 12] Cannot allocate memory\n"
       ]
      },
      {
       "output_type": "stream",
       "stream": "stderr",
       "text": [
        "ERROR:theano.gof.cmodule:[Errno 12] Cannot allocate memory\n"
       ]
      },
      {
       "output_type": "stream",
       "stream": "stderr",
       "text": [
        "ERROR (theano.gof.opt): Optimization failure due to: constant_folding\n"
       ]
      },
      {
       "output_type": "stream",
       "stream": "stderr",
       "text": [
        "ERROR:theano.gof.opt:Optimization failure due to: constant_folding\n"
       ]
      },
      {
       "output_type": "stream",
       "stream": "stderr",
       "text": [
        "ERROR (theano.gof.opt): TRACEBACK:\n"
       ]
      },
      {
       "output_type": "stream",
       "stream": "stderr",
       "text": [
        "ERROR:theano.gof.opt:TRACEBACK:\n"
       ]
      },
      {
       "output_type": "stream",
       "stream": "stderr",
       "text": [
        "ERROR (theano.gof.opt): Traceback (most recent call last):\n",
        "  File \"/home/ubuntu/anaconda/lib/python2.7/site-packages/Theano-0.6.0-py2.7.egg/theano/gof/opt.py\", line 1491, in process_node\n",
        "    replacements = lopt.transform(node)\n",
        "  File \"/home/ubuntu/anaconda/lib/python2.7/site-packages/Theano-0.6.0-py2.7.egg/theano/tensor/opt.py\", line 4639, in constant_folding\n",
        "    no_recycling=[])\n",
        "  File \"/home/ubuntu/anaconda/lib/python2.7/site-packages/Theano-0.6.0-py2.7.egg/theano/gof/op.py\", line 722, in make_thunk\n",
        "    output_storage=node_output_storage)\n",
        "  File \"/home/ubuntu/anaconda/lib/python2.7/site-packages/Theano-0.6.0-py2.7.egg/theano/gof/cc.py\", line 1043, in make_thunk\n",
        "    keep_lock=keep_lock)\n",
        "  File \"/home/ubuntu/anaconda/lib/python2.7/site-packages/Theano-0.6.0-py2.7.egg/theano/gof/cc.py\", line 985, in __compile__\n",
        "    keep_lock=keep_lock)\n",
        "  File \"/home/ubuntu/anaconda/lib/python2.7/site-packages/Theano-0.6.0-py2.7.egg/theano/gof/cc.py\", line 1412, in cthunk_factory\n",
        "    key=key, lnk=self, keep_lock=keep_lock)\n",
        "  File \"/home/ubuntu/anaconda/lib/python2.7/site-packages/Theano-0.6.0-py2.7.egg/theano/gof/cmodule.py\", line 1056, in module_from_key\n",
        "    module = lnk.compile_cmodule(location)\n",
        "  File \"/home/ubuntu/anaconda/lib/python2.7/site-packages/Theano-0.6.0-py2.7.egg/theano/gof/cc.py\", line 1324, in compile_cmodule\n",
        "    preargs=preargs)\n",
        "  File \"/home/ubuntu/anaconda/lib/python2.7/site-packages/Theano-0.6.0-py2.7.egg/theano/gof/cmodule.py\", line 1931, in compile_str\n",
        "    p_out = output_subprocess_Popen(cmd)\n",
        "  File \"/home/ubuntu/anaconda/lib/python2.7/site-packages/Theano-0.6.0-py2.7.egg/theano/misc/windows.py\", line 73, in output_subprocess_Popen\n",
        "    p = subprocess_Popen(command, **params)\n",
        "  File \"/home/ubuntu/anaconda/lib/python2.7/site-packages/Theano-0.6.0-py2.7.egg/theano/misc/windows.py\", line 36, in subprocess_Popen\n",
        "    proc = subprocess.Popen(command, startupinfo=startupinfo, **params)\n",
        "  File \"/home/ubuntu/anaconda/lib/python2.7/subprocess.py\", line 710, in __init__\n",
        "    errread, errwrite)\n",
        "  File \"/home/ubuntu/anaconda/lib/python2.7/subprocess.py\", line 1231, in _execute_child\n",
        "    self.pid = os.fork()\n",
        "OSError: [Errno 12] Cannot allocate memory\n",
        "\n"
       ]
      },
      {
       "output_type": "stream",
       "stream": "stderr",
       "text": [
        "ERROR:theano.gof.opt:Traceback (most recent call last):\n",
        "  File \"/home/ubuntu/anaconda/lib/python2.7/site-packages/Theano-0.6.0-py2.7.egg/theano/gof/opt.py\", line 1491, in process_node\n",
        "    replacements = lopt.transform(node)\n",
        "  File \"/home/ubuntu/anaconda/lib/python2.7/site-packages/Theano-0.6.0-py2.7.egg/theano/tensor/opt.py\", line 4639, in constant_folding\n",
        "    no_recycling=[])\n",
        "  File \"/home/ubuntu/anaconda/lib/python2.7/site-packages/Theano-0.6.0-py2.7.egg/theano/gof/op.py\", line 722, in make_thunk\n",
        "    output_storage=node_output_storage)\n",
        "  File \"/home/ubuntu/anaconda/lib/python2.7/site-packages/Theano-0.6.0-py2.7.egg/theano/gof/cc.py\", line 1043, in make_thunk\n",
        "    keep_lock=keep_lock)\n",
        "  File \"/home/ubuntu/anaconda/lib/python2.7/site-packages/Theano-0.6.0-py2.7.egg/theano/gof/cc.py\", line 985, in __compile__\n",
        "    keep_lock=keep_lock)\n",
        "  File \"/home/ubuntu/anaconda/lib/python2.7/site-packages/Theano-0.6.0-py2.7.egg/theano/gof/cc.py\", line 1412, in cthunk_factory\n",
        "    key=key, lnk=self, keep_lock=keep_lock)\n",
        "  File \"/home/ubuntu/anaconda/lib/python2.7/site-packages/Theano-0.6.0-py2.7.egg/theano/gof/cmodule.py\", line 1056, in module_from_key\n",
        "    module = lnk.compile_cmodule(location)\n",
        "  File \"/home/ubuntu/anaconda/lib/python2.7/site-packages/Theano-0.6.0-py2.7.egg/theano/gof/cc.py\", line 1324, in compile_cmodule\n",
        "    preargs=preargs)\n",
        "  File \"/home/ubuntu/anaconda/lib/python2.7/site-packages/Theano-0.6.0-py2.7.egg/theano/gof/cmodule.py\", line 1931, in compile_str\n",
        "    p_out = output_subprocess_Popen(cmd)\n",
        "  File \"/home/ubuntu/anaconda/lib/python2.7/site-packages/Theano-0.6.0-py2.7.egg/theano/misc/windows.py\", line 73, in output_subprocess_Popen\n",
        "    p = subprocess_Popen(command, **params)\n",
        "  File \"/home/ubuntu/anaconda/lib/python2.7/site-packages/Theano-0.6.0-py2.7.egg/theano/misc/windows.py\", line 36, in subprocess_Popen\n",
        "    proc = subprocess.Popen(command, startupinfo=startupinfo, **params)\n",
        "  File \"/home/ubuntu/anaconda/lib/python2.7/subprocess.py\", line 710, in __init__\n",
        "    errread, errwrite)\n",
        "  File \"/home/ubuntu/anaconda/lib/python2.7/subprocess.py\", line 1231, in _execute_child\n",
        "    self.pid = os.fork()\n",
        "OSError: [Errno 12] Cannot allocate memory\n",
        "\n"
       ]
      },
      {
       "output_type": "stream",
       "stream": "stderr",
       "text": [
        "Problem occurred during compilation with the command line below:\n",
        "/usr/bin/g++ -shared -g -O3 -fno-math-errno -Wno-unused-label -Wno-unused-variable -Wno-write-strings -D NPY_NO_DEPRECATED_API=NPY_1_7_API_VERSION -m64 -fPIC -I/home/ubuntu/anaconda/lib/python2.7/site-packages/numpy/core/include -I/home/ubuntu/anaconda/include/python2.7 -o /home/ubuntu/.theano/compiledir_Linux-3.13--generic-x86_64-with-debian-jessie-sid-x86_64-2.7.9-64/tmpsH2MQi/e0b28ec03e051f80e055d0173c808bbb.so /home/ubuntu/.theano/compiledir_Linux-3.13--generic-x86_64-with-debian-jessie-sid-x86_64-2.7.9-64/tmpsH2MQi/mod.cpp -L/home/ubuntu/anaconda/lib -lpython2.7\n",
        "ERROR (theano.gof.cmodule): [Errno 12] Cannot allocate memory\n"
       ]
      },
      {
       "output_type": "stream",
       "stream": "stderr",
       "text": [
        "ERROR:theano.gof.cmodule:[Errno 12] Cannot allocate memory\n"
       ]
      },
      {
       "output_type": "stream",
       "stream": "stderr",
       "text": [
        "ERROR (theano.gof.opt): Optimization failure due to: constant_folding\n"
       ]
      },
      {
       "output_type": "stream",
       "stream": "stderr",
       "text": [
        "ERROR:theano.gof.opt:Optimization failure due to: constant_folding\n"
       ]
      },
      {
       "output_type": "stream",
       "stream": "stderr",
       "text": [
        "ERROR (theano.gof.opt): TRACEBACK:\n"
       ]
      },
      {
       "output_type": "stream",
       "stream": "stderr",
       "text": [
        "ERROR:theano.gof.opt:TRACEBACK:\n"
       ]
      },
      {
       "output_type": "stream",
       "stream": "stderr",
       "text": [
        "ERROR (theano.gof.opt): Traceback (most recent call last):\n",
        "  File \"/home/ubuntu/anaconda/lib/python2.7/site-packages/Theano-0.6.0-py2.7.egg/theano/gof/opt.py\", line 1491, in process_node\n",
        "    replacements = lopt.transform(node)\n",
        "  File \"/home/ubuntu/anaconda/lib/python2.7/site-packages/Theano-0.6.0-py2.7.egg/theano/tensor/opt.py\", line 4639, in constant_folding\n",
        "    no_recycling=[])\n",
        "  File \"/home/ubuntu/anaconda/lib/python2.7/site-packages/Theano-0.6.0-py2.7.egg/theano/gof/op.py\", line 722, in make_thunk\n",
        "    output_storage=node_output_storage)\n",
        "  File \"/home/ubuntu/anaconda/lib/python2.7/site-packages/Theano-0.6.0-py2.7.egg/theano/gof/cc.py\", line 1043, in make_thunk\n",
        "    keep_lock=keep_lock)\n",
        "  File \"/home/ubuntu/anaconda/lib/python2.7/site-packages/Theano-0.6.0-py2.7.egg/theano/gof/cc.py\", line 985, in __compile__\n",
        "    keep_lock=keep_lock)\n",
        "  File \"/home/ubuntu/anaconda/lib/python2.7/site-packages/Theano-0.6.0-py2.7.egg/theano/gof/cc.py\", line 1412, in cthunk_factory\n",
        "    key=key, lnk=self, keep_lock=keep_lock)\n",
        "  File \"/home/ubuntu/anaconda/lib/python2.7/site-packages/Theano-0.6.0-py2.7.egg/theano/gof/cmodule.py\", line 1056, in module_from_key\n",
        "    module = lnk.compile_cmodule(location)\n",
        "  File \"/home/ubuntu/anaconda/lib/python2.7/site-packages/Theano-0.6.0-py2.7.egg/theano/gof/cc.py\", line 1324, in compile_cmodule\n",
        "    preargs=preargs)\n",
        "  File \"/home/ubuntu/anaconda/lib/python2.7/site-packages/Theano-0.6.0-py2.7.egg/theano/gof/cmodule.py\", line 1931, in compile_str\n",
        "    p_out = output_subprocess_Popen(cmd)\n",
        "  File \"/home/ubuntu/anaconda/lib/python2.7/site-packages/Theano-0.6.0-py2.7.egg/theano/misc/windows.py\", line 73, in output_subprocess_Popen\n",
        "    p = subprocess_Popen(command, **params)\n",
        "  File \"/home/ubuntu/anaconda/lib/python2.7/site-packages/Theano-0.6.0-py2.7.egg/theano/misc/windows.py\", line 36, in subprocess_Popen\n",
        "    proc = subprocess.Popen(command, startupinfo=startupinfo, **params)\n",
        "  File \"/home/ubuntu/anaconda/lib/python2.7/subprocess.py\", line 710, in __init__\n",
        "    errread, errwrite)\n",
        "  File \"/home/ubuntu/anaconda/lib/python2.7/subprocess.py\", line 1231, in _execute_child\n",
        "    self.pid = os.fork()\n",
        "OSError: [Errno 12] Cannot allocate memory\n",
        "\n"
       ]
      },
      {
       "output_type": "stream",
       "stream": "stderr",
       "text": [
        "ERROR:theano.gof.opt:Traceback (most recent call last):\n",
        "  File \"/home/ubuntu/anaconda/lib/python2.7/site-packages/Theano-0.6.0-py2.7.egg/theano/gof/opt.py\", line 1491, in process_node\n",
        "    replacements = lopt.transform(node)\n",
        "  File \"/home/ubuntu/anaconda/lib/python2.7/site-packages/Theano-0.6.0-py2.7.egg/theano/tensor/opt.py\", line 4639, in constant_folding\n",
        "    no_recycling=[])\n",
        "  File \"/home/ubuntu/anaconda/lib/python2.7/site-packages/Theano-0.6.0-py2.7.egg/theano/gof/op.py\", line 722, in make_thunk\n",
        "    output_storage=node_output_storage)\n",
        "  File \"/home/ubuntu/anaconda/lib/python2.7/site-packages/Theano-0.6.0-py2.7.egg/theano/gof/cc.py\", line 1043, in make_thunk\n",
        "    keep_lock=keep_lock)\n",
        "  File \"/home/ubuntu/anaconda/lib/python2.7/site-packages/Theano-0.6.0-py2.7.egg/theano/gof/cc.py\", line 985, in __compile__\n",
        "    keep_lock=keep_lock)\n",
        "  File \"/home/ubuntu/anaconda/lib/python2.7/site-packages/Theano-0.6.0-py2.7.egg/theano/gof/cc.py\", line 1412, in cthunk_factory\n",
        "    key=key, lnk=self, keep_lock=keep_lock)\n",
        "  File \"/home/ubuntu/anaconda/lib/python2.7/site-packages/Theano-0.6.0-py2.7.egg/theano/gof/cmodule.py\", line 1056, in module_from_key\n",
        "    module = lnk.compile_cmodule(location)\n",
        "  File \"/home/ubuntu/anaconda/lib/python2.7/site-packages/Theano-0.6.0-py2.7.egg/theano/gof/cc.py\", line 1324, in compile_cmodule\n",
        "    preargs=preargs)\n",
        "  File \"/home/ubuntu/anaconda/lib/python2.7/site-packages/Theano-0.6.0-py2.7.egg/theano/gof/cmodule.py\", line 1931, in compile_str\n",
        "    p_out = output_subprocess_Popen(cmd)\n",
        "  File \"/home/ubuntu/anaconda/lib/python2.7/site-packages/Theano-0.6.0-py2.7.egg/theano/misc/windows.py\", line 73, in output_subprocess_Popen\n",
        "    p = subprocess_Popen(command, **params)\n",
        "  File \"/home/ubuntu/anaconda/lib/python2.7/site-packages/Theano-0.6.0-py2.7.egg/theano/misc/windows.py\", line 36, in subprocess_Popen\n",
        "    proc = subprocess.Popen(command, startupinfo=startupinfo, **params)\n",
        "  File \"/home/ubuntu/anaconda/lib/python2.7/subprocess.py\", line 710, in __init__\n",
        "    errread, errwrite)\n",
        "  File \"/home/ubuntu/anaconda/lib/python2.7/subprocess.py\", line 1231, in _execute_child\n",
        "    self.pid = os.fork()\n",
        "OSError: [Errno 12] Cannot allocate memory\n",
        "\n"
       ]
      },
      {
       "output_type": "stream",
       "stream": "stderr",
       "text": [
        "Problem occurred during compilation with the command line below:\n",
        "/usr/bin/g++ -shared -g -O3 -fno-math-errno -Wno-unused-label -Wno-unused-variable -Wno-write-strings -D NPY_NO_DEPRECATED_API=NPY_1_7_API_VERSION -m64 -fPIC -I/home/ubuntu/anaconda/lib/python2.7/site-packages/numpy/core/include -I/home/ubuntu/anaconda/include/python2.7 -o /home/ubuntu/.theano/compiledir_Linux-3.13--generic-x86_64-with-debian-jessie-sid-x86_64-2.7.9-64/tmpxyYDnX/e0b28ec03e051f80e055d0173c808bbb.so /home/ubuntu/.theano/compiledir_Linux-3.13--generic-x86_64-with-debian-jessie-sid-x86_64-2.7.9-64/tmpxyYDnX/mod.cpp -L/home/ubuntu/anaconda/lib -lpython2.7\n",
        "ERROR (theano.gof.cmodule): [Errno 12] Cannot allocate memory\n"
       ]
      },
      {
       "output_type": "stream",
       "stream": "stderr",
       "text": [
        "ERROR:theano.gof.cmodule:[Errno 12] Cannot allocate memory\n"
       ]
      },
      {
       "output_type": "stream",
       "stream": "stderr",
       "text": [
        "ERROR (theano.gof.opt): Optimization failure due to: constant_folding\n"
       ]
      },
      {
       "output_type": "stream",
       "stream": "stderr",
       "text": [
        "ERROR:theano.gof.opt:Optimization failure due to: constant_folding\n"
       ]
      },
      {
       "output_type": "stream",
       "stream": "stderr",
       "text": [
        "ERROR (theano.gof.opt): TRACEBACK:\n"
       ]
      },
      {
       "output_type": "stream",
       "stream": "stderr",
       "text": [
        "ERROR:theano.gof.opt:TRACEBACK:\n"
       ]
      },
      {
       "output_type": "stream",
       "stream": "stderr",
       "text": [
        "ERROR (theano.gof.opt): Traceback (most recent call last):\n",
        "  File \"/home/ubuntu/anaconda/lib/python2.7/site-packages/Theano-0.6.0-py2.7.egg/theano/gof/opt.py\", line 1491, in process_node\n",
        "    replacements = lopt.transform(node)\n",
        "  File \"/home/ubuntu/anaconda/lib/python2.7/site-packages/Theano-0.6.0-py2.7.egg/theano/tensor/opt.py\", line 4639, in constant_folding\n",
        "    no_recycling=[])\n",
        "  File \"/home/ubuntu/anaconda/lib/python2.7/site-packages/Theano-0.6.0-py2.7.egg/theano/gof/op.py\", line 722, in make_thunk\n",
        "    output_storage=node_output_storage)\n",
        "  File \"/home/ubuntu/anaconda/lib/python2.7/site-packages/Theano-0.6.0-py2.7.egg/theano/gof/cc.py\", line 1043, in make_thunk\n",
        "    keep_lock=keep_lock)\n",
        "  File \"/home/ubuntu/anaconda/lib/python2.7/site-packages/Theano-0.6.0-py2.7.egg/theano/gof/cc.py\", line 985, in __compile__\n",
        "    keep_lock=keep_lock)\n",
        "  File \"/home/ubuntu/anaconda/lib/python2.7/site-packages/Theano-0.6.0-py2.7.egg/theano/gof/cc.py\", line 1412, in cthunk_factory\n",
        "    key=key, lnk=self, keep_lock=keep_lock)\n",
        "  File \"/home/ubuntu/anaconda/lib/python2.7/site-packages/Theano-0.6.0-py2.7.egg/theano/gof/cmodule.py\", line 1056, in module_from_key\n",
        "    module = lnk.compile_cmodule(location)\n",
        "  File \"/home/ubuntu/anaconda/lib/python2.7/site-packages/Theano-0.6.0-py2.7.egg/theano/gof/cc.py\", line 1324, in compile_cmodule\n",
        "    preargs=preargs)\n",
        "  File \"/home/ubuntu/anaconda/lib/python2.7/site-packages/Theano-0.6.0-py2.7.egg/theano/gof/cmodule.py\", line 1931, in compile_str\n",
        "    p_out = output_subprocess_Popen(cmd)\n",
        "  File \"/home/ubuntu/anaconda/lib/python2.7/site-packages/Theano-0.6.0-py2.7.egg/theano/misc/windows.py\", line 73, in output_subprocess_Popen\n",
        "    p = subprocess_Popen(command, **params)\n",
        "  File \"/home/ubuntu/anaconda/lib/python2.7/site-packages/Theano-0.6.0-py2.7.egg/theano/misc/windows.py\", line 36, in subprocess_Popen\n",
        "    proc = subprocess.Popen(command, startupinfo=startupinfo, **params)\n",
        "  File \"/home/ubuntu/anaconda/lib/python2.7/subprocess.py\", line 710, in __init__\n",
        "    errread, errwrite)\n",
        "  File \"/home/ubuntu/anaconda/lib/python2.7/subprocess.py\", line 1231, in _execute_child\n",
        "    self.pid = os.fork()\n",
        "OSError: [Errno 12] Cannot allocate memory\n",
        "\n"
       ]
      },
      {
       "output_type": "stream",
       "stream": "stderr",
       "text": [
        "ERROR:theano.gof.opt:Traceback (most recent call last):\n",
        "  File \"/home/ubuntu/anaconda/lib/python2.7/site-packages/Theano-0.6.0-py2.7.egg/theano/gof/opt.py\", line 1491, in process_node\n",
        "    replacements = lopt.transform(node)\n",
        "  File \"/home/ubuntu/anaconda/lib/python2.7/site-packages/Theano-0.6.0-py2.7.egg/theano/tensor/opt.py\", line 4639, in constant_folding\n",
        "    no_recycling=[])\n",
        "  File \"/home/ubuntu/anaconda/lib/python2.7/site-packages/Theano-0.6.0-py2.7.egg/theano/gof/op.py\", line 722, in make_thunk\n",
        "    output_storage=node_output_storage)\n",
        "  File \"/home/ubuntu/anaconda/lib/python2.7/site-packages/Theano-0.6.0-py2.7.egg/theano/gof/cc.py\", line 1043, in make_thunk\n",
        "    keep_lock=keep_lock)\n",
        "  File \"/home/ubuntu/anaconda/lib/python2.7/site-packages/Theano-0.6.0-py2.7.egg/theano/gof/cc.py\", line 985, in __compile__\n",
        "    keep_lock=keep_lock)\n",
        "  File \"/home/ubuntu/anaconda/lib/python2.7/site-packages/Theano-0.6.0-py2.7.egg/theano/gof/cc.py\", line 1412, in cthunk_factory\n",
        "    key=key, lnk=self, keep_lock=keep_lock)\n",
        "  File \"/home/ubuntu/anaconda/lib/python2.7/site-packages/Theano-0.6.0-py2.7.egg/theano/gof/cmodule.py\", line 1056, in module_from_key\n",
        "    module = lnk.compile_cmodule(location)\n",
        "  File \"/home/ubuntu/anaconda/lib/python2.7/site-packages/Theano-0.6.0-py2.7.egg/theano/gof/cc.py\", line 1324, in compile_cmodule\n",
        "    preargs=preargs)\n",
        "  File \"/home/ubuntu/anaconda/lib/python2.7/site-packages/Theano-0.6.0-py2.7.egg/theano/gof/cmodule.py\", line 1931, in compile_str\n",
        "    p_out = output_subprocess_Popen(cmd)\n",
        "  File \"/home/ubuntu/anaconda/lib/python2.7/site-packages/Theano-0.6.0-py2.7.egg/theano/misc/windows.py\", line 73, in output_subprocess_Popen\n",
        "    p = subprocess_Popen(command, **params)\n",
        "  File \"/home/ubuntu/anaconda/lib/python2.7/site-packages/Theano-0.6.0-py2.7.egg/theano/misc/windows.py\", line 36, in subprocess_Popen\n",
        "    proc = subprocess.Popen(command, startupinfo=startupinfo, **params)\n",
        "  File \"/home/ubuntu/anaconda/lib/python2.7/subprocess.py\", line 710, in __init__\n",
        "    errread, errwrite)\n",
        "  File \"/home/ubuntu/anaconda/lib/python2.7/subprocess.py\", line 1231, in _execute_child\n",
        "    self.pid = os.fork()\n",
        "OSError: [Errno 12] Cannot allocate memory\n",
        "\n"
       ]
      },
      {
       "output_type": "stream",
       "stream": "stderr",
       "text": [
        "Problem occurred during compilation with the command line below:\n",
        "/usr/bin/g++ -shared -g -O3 -fno-math-errno -Wno-unused-label -Wno-unused-variable -Wno-write-strings -D NPY_NO_DEPRECATED_API=NPY_1_7_API_VERSION -m64 -fPIC -I/home/ubuntu/anaconda/lib/python2.7/site-packages/numpy/core/include -I/home/ubuntu/anaconda/include/python2.7 -o /home/ubuntu/.theano/compiledir_Linux-3.13--generic-x86_64-with-debian-jessie-sid-x86_64-2.7.9-64/tmp7Iqjj1/e0b28ec03e051f80e055d0173c808bbb.so /home/ubuntu/.theano/compiledir_Linux-3.13--generic-x86_64-with-debian-jessie-sid-x86_64-2.7.9-64/tmp7Iqjj1/mod.cpp -L/home/ubuntu/anaconda/lib -lpython2.7\n",
        "ERROR (theano.gof.cmodule): [Errno 12] Cannot allocate memory\n"
       ]
      },
      {
       "output_type": "stream",
       "stream": "stderr",
       "text": [
        "ERROR:theano.gof.cmodule:[Errno 12] Cannot allocate memory\n"
       ]
      },
      {
       "output_type": "stream",
       "stream": "stderr",
       "text": [
        "ERROR (theano.gof.opt): Optimization failure due to: constant_folding\n"
       ]
      },
      {
       "output_type": "stream",
       "stream": "stderr",
       "text": [
        "ERROR:theano.gof.opt:Optimization failure due to: constant_folding\n"
       ]
      },
      {
       "output_type": "stream",
       "stream": "stderr",
       "text": [
        "ERROR (theano.gof.opt): TRACEBACK:\n"
       ]
      },
      {
       "output_type": "stream",
       "stream": "stderr",
       "text": [
        "ERROR:theano.gof.opt:TRACEBACK:\n"
       ]
      },
      {
       "output_type": "stream",
       "stream": "stderr",
       "text": [
        "ERROR (theano.gof.opt): Traceback (most recent call last):\n",
        "  File \"/home/ubuntu/anaconda/lib/python2.7/site-packages/Theano-0.6.0-py2.7.egg/theano/gof/opt.py\", line 1491, in process_node\n",
        "    replacements = lopt.transform(node)\n",
        "  File \"/home/ubuntu/anaconda/lib/python2.7/site-packages/Theano-0.6.0-py2.7.egg/theano/tensor/opt.py\", line 4639, in constant_folding\n",
        "    no_recycling=[])\n",
        "  File \"/home/ubuntu/anaconda/lib/python2.7/site-packages/Theano-0.6.0-py2.7.egg/theano/gof/op.py\", line 722, in make_thunk\n",
        "    output_storage=node_output_storage)\n",
        "  File \"/home/ubuntu/anaconda/lib/python2.7/site-packages/Theano-0.6.0-py2.7.egg/theano/gof/cc.py\", line 1043, in make_thunk\n",
        "    keep_lock=keep_lock)\n",
        "  File \"/home/ubuntu/anaconda/lib/python2.7/site-packages/Theano-0.6.0-py2.7.egg/theano/gof/cc.py\", line 985, in __compile__\n",
        "    keep_lock=keep_lock)\n",
        "  File \"/home/ubuntu/anaconda/lib/python2.7/site-packages/Theano-0.6.0-py2.7.egg/theano/gof/cc.py\", line 1412, in cthunk_factory\n",
        "    key=key, lnk=self, keep_lock=keep_lock)\n",
        "  File \"/home/ubuntu/anaconda/lib/python2.7/site-packages/Theano-0.6.0-py2.7.egg/theano/gof/cmodule.py\", line 1056, in module_from_key\n",
        "    module = lnk.compile_cmodule(location)\n",
        "  File \"/home/ubuntu/anaconda/lib/python2.7/site-packages/Theano-0.6.0-py2.7.egg/theano/gof/cc.py\", line 1324, in compile_cmodule\n",
        "    preargs=preargs)\n",
        "  File \"/home/ubuntu/anaconda/lib/python2.7/site-packages/Theano-0.6.0-py2.7.egg/theano/gof/cmodule.py\", line 1931, in compile_str\n",
        "    p_out = output_subprocess_Popen(cmd)\n",
        "  File \"/home/ubuntu/anaconda/lib/python2.7/site-packages/Theano-0.6.0-py2.7.egg/theano/misc/windows.py\", line 73, in output_subprocess_Popen\n",
        "    p = subprocess_Popen(command, **params)\n",
        "  File \"/home/ubuntu/anaconda/lib/python2.7/site-packages/Theano-0.6.0-py2.7.egg/theano/misc/windows.py\", line 36, in subprocess_Popen\n",
        "    proc = subprocess.Popen(command, startupinfo=startupinfo, **params)\n",
        "  File \"/home/ubuntu/anaconda/lib/python2.7/subprocess.py\", line 710, in __init__\n",
        "    errread, errwrite)\n",
        "  File \"/home/ubuntu/anaconda/lib/python2.7/subprocess.py\", line 1231, in _execute_child\n",
        "    self.pid = os.fork()\n",
        "OSError: [Errno 12] Cannot allocate memory\n",
        "\n"
       ]
      },
      {
       "output_type": "stream",
       "stream": "stderr",
       "text": [
        "ERROR:theano.gof.opt:Traceback (most recent call last):\n",
        "  File \"/home/ubuntu/anaconda/lib/python2.7/site-packages/Theano-0.6.0-py2.7.egg/theano/gof/opt.py\", line 1491, in process_node\n",
        "    replacements = lopt.transform(node)\n",
        "  File \"/home/ubuntu/anaconda/lib/python2.7/site-packages/Theano-0.6.0-py2.7.egg/theano/tensor/opt.py\", line 4639, in constant_folding\n",
        "    no_recycling=[])\n",
        "  File \"/home/ubuntu/anaconda/lib/python2.7/site-packages/Theano-0.6.0-py2.7.egg/theano/gof/op.py\", line 722, in make_thunk\n",
        "    output_storage=node_output_storage)\n",
        "  File \"/home/ubuntu/anaconda/lib/python2.7/site-packages/Theano-0.6.0-py2.7.egg/theano/gof/cc.py\", line 1043, in make_thunk\n",
        "    keep_lock=keep_lock)\n",
        "  File \"/home/ubuntu/anaconda/lib/python2.7/site-packages/Theano-0.6.0-py2.7.egg/theano/gof/cc.py\", line 985, in __compile__\n",
        "    keep_lock=keep_lock)\n",
        "  File \"/home/ubuntu/anaconda/lib/python2.7/site-packages/Theano-0.6.0-py2.7.egg/theano/gof/cc.py\", line 1412, in cthunk_factory\n",
        "    key=key, lnk=self, keep_lock=keep_lock)\n",
        "  File \"/home/ubuntu/anaconda/lib/python2.7/site-packages/Theano-0.6.0-py2.7.egg/theano/gof/cmodule.py\", line 1056, in module_from_key\n",
        "    module = lnk.compile_cmodule(location)\n",
        "  File \"/home/ubuntu/anaconda/lib/python2.7/site-packages/Theano-0.6.0-py2.7.egg/theano/gof/cc.py\", line 1324, in compile_cmodule\n",
        "    preargs=preargs)\n",
        "  File \"/home/ubuntu/anaconda/lib/python2.7/site-packages/Theano-0.6.0-py2.7.egg/theano/gof/cmodule.py\", line 1931, in compile_str\n",
        "    p_out = output_subprocess_Popen(cmd)\n",
        "  File \"/home/ubuntu/anaconda/lib/python2.7/site-packages/Theano-0.6.0-py2.7.egg/theano/misc/windows.py\", line 73, in output_subprocess_Popen\n",
        "    p = subprocess_Popen(command, **params)\n",
        "  File \"/home/ubuntu/anaconda/lib/python2.7/site-packages/Theano-0.6.0-py2.7.egg/theano/misc/windows.py\", line 36, in subprocess_Popen\n",
        "    proc = subprocess.Popen(command, startupinfo=startupinfo, **params)\n",
        "  File \"/home/ubuntu/anaconda/lib/python2.7/subprocess.py\", line 710, in __init__\n",
        "    errread, errwrite)\n",
        "  File \"/home/ubuntu/anaconda/lib/python2.7/subprocess.py\", line 1231, in _execute_child\n",
        "    self.pid = os.fork()\n",
        "OSError: [Errno 12] Cannot allocate memory\n",
        "\n"
       ]
      },
      {
       "output_type": "stream",
       "stream": "stderr",
       "text": [
        "Problem occurred during compilation with the command line below:\n",
        "/usr/bin/g++ -shared -g -O3 -fno-math-errno -Wno-unused-label -Wno-unused-variable -Wno-write-strings -D NPY_NO_DEPRECATED_API=NPY_1_7_API_VERSION -m64 -fPIC -I/home/ubuntu/anaconda/lib/python2.7/site-packages/numpy/core/include -I/home/ubuntu/anaconda/include/python2.7 -o /home/ubuntu/.theano/compiledir_Linux-3.13--generic-x86_64-with-debian-jessie-sid-x86_64-2.7.9-64/tmpF2wyaF/e0b28ec03e051f80e055d0173c808bbb.so /home/ubuntu/.theano/compiledir_Linux-3.13--generic-x86_64-with-debian-jessie-sid-x86_64-2.7.9-64/tmpF2wyaF/mod.cpp -L/home/ubuntu/anaconda/lib -lpython2.7\n",
        "ERROR (theano.gof.cmodule): [Errno 12] Cannot allocate memory\n"
       ]
      },
      {
       "output_type": "stream",
       "stream": "stderr",
       "text": [
        "ERROR:theano.gof.cmodule:[Errno 12] Cannot allocate memory\n"
       ]
      },
      {
       "output_type": "stream",
       "stream": "stderr",
       "text": [
        "ERROR (theano.gof.opt): Optimization failure due to: constant_folding\n"
       ]
      },
      {
       "output_type": "stream",
       "stream": "stderr",
       "text": [
        "ERROR:theano.gof.opt:Optimization failure due to: constant_folding\n"
       ]
      },
      {
       "output_type": "stream",
       "stream": "stderr",
       "text": [
        "ERROR (theano.gof.opt): TRACEBACK:\n"
       ]
      },
      {
       "output_type": "stream",
       "stream": "stderr",
       "text": [
        "ERROR:theano.gof.opt:TRACEBACK:\n"
       ]
      },
      {
       "output_type": "stream",
       "stream": "stderr",
       "text": [
        "ERROR (theano.gof.opt): Traceback (most recent call last):\n",
        "  File \"/home/ubuntu/anaconda/lib/python2.7/site-packages/Theano-0.6.0-py2.7.egg/theano/gof/opt.py\", line 1491, in process_node\n",
        "    replacements = lopt.transform(node)\n",
        "  File \"/home/ubuntu/anaconda/lib/python2.7/site-packages/Theano-0.6.0-py2.7.egg/theano/tensor/opt.py\", line 4639, in constant_folding\n",
        "    no_recycling=[])\n",
        "  File \"/home/ubuntu/anaconda/lib/python2.7/site-packages/Theano-0.6.0-py2.7.egg/theano/gof/op.py\", line 722, in make_thunk\n",
        "    output_storage=node_output_storage)\n",
        "  File \"/home/ubuntu/anaconda/lib/python2.7/site-packages/Theano-0.6.0-py2.7.egg/theano/gof/cc.py\", line 1043, in make_thunk\n",
        "    keep_lock=keep_lock)\n",
        "  File \"/home/ubuntu/anaconda/lib/python2.7/site-packages/Theano-0.6.0-py2.7.egg/theano/gof/cc.py\", line 985, in __compile__\n",
        "    keep_lock=keep_lock)\n",
        "  File \"/home/ubuntu/anaconda/lib/python2.7/site-packages/Theano-0.6.0-py2.7.egg/theano/gof/cc.py\", line 1412, in cthunk_factory\n",
        "    key=key, lnk=self, keep_lock=keep_lock)\n",
        "  File \"/home/ubuntu/anaconda/lib/python2.7/site-packages/Theano-0.6.0-py2.7.egg/theano/gof/cmodule.py\", line 1056, in module_from_key\n",
        "    module = lnk.compile_cmodule(location)\n",
        "  File \"/home/ubuntu/anaconda/lib/python2.7/site-packages/Theano-0.6.0-py2.7.egg/theano/gof/cc.py\", line 1324, in compile_cmodule\n",
        "    preargs=preargs)\n",
        "  File \"/home/ubuntu/anaconda/lib/python2.7/site-packages/Theano-0.6.0-py2.7.egg/theano/gof/cmodule.py\", line 1931, in compile_str\n",
        "    p_out = output_subprocess_Popen(cmd)\n",
        "  File \"/home/ubuntu/anaconda/lib/python2.7/site-packages/Theano-0.6.0-py2.7.egg/theano/misc/windows.py\", line 73, in output_subprocess_Popen\n",
        "    p = subprocess_Popen(command, **params)\n",
        "  File \"/home/ubuntu/anaconda/lib/python2.7/site-packages/Theano-0.6.0-py2.7.egg/theano/misc/windows.py\", line 36, in subprocess_Popen\n",
        "    proc = subprocess.Popen(command, startupinfo=startupinfo, **params)\n",
        "  File \"/home/ubuntu/anaconda/lib/python2.7/subprocess.py\", line 710, in __init__\n",
        "    errread, errwrite)\n",
        "  File \"/home/ubuntu/anaconda/lib/python2.7/subprocess.py\", line 1231, in _execute_child\n",
        "    self.pid = os.fork()\n",
        "OSError: [Errno 12] Cannot allocate memory\n",
        "\n"
       ]
      },
      {
       "output_type": "stream",
       "stream": "stderr",
       "text": [
        "ERROR:theano.gof.opt:Traceback (most recent call last):\n",
        "  File \"/home/ubuntu/anaconda/lib/python2.7/site-packages/Theano-0.6.0-py2.7.egg/theano/gof/opt.py\", line 1491, in process_node\n",
        "    replacements = lopt.transform(node)\n",
        "  File \"/home/ubuntu/anaconda/lib/python2.7/site-packages/Theano-0.6.0-py2.7.egg/theano/tensor/opt.py\", line 4639, in constant_folding\n",
        "    no_recycling=[])\n",
        "  File \"/home/ubuntu/anaconda/lib/python2.7/site-packages/Theano-0.6.0-py2.7.egg/theano/gof/op.py\", line 722, in make_thunk\n",
        "    output_storage=node_output_storage)\n",
        "  File \"/home/ubuntu/anaconda/lib/python2.7/site-packages/Theano-0.6.0-py2.7.egg/theano/gof/cc.py\", line 1043, in make_thunk\n",
        "    keep_lock=keep_lock)\n",
        "  File \"/home/ubuntu/anaconda/lib/python2.7/site-packages/Theano-0.6.0-py2.7.egg/theano/gof/cc.py\", line 985, in __compile__\n",
        "    keep_lock=keep_lock)\n",
        "  File \"/home/ubuntu/anaconda/lib/python2.7/site-packages/Theano-0.6.0-py2.7.egg/theano/gof/cc.py\", line 1412, in cthunk_factory\n",
        "    key=key, lnk=self, keep_lock=keep_lock)\n",
        "  File \"/home/ubuntu/anaconda/lib/python2.7/site-packages/Theano-0.6.0-py2.7.egg/theano/gof/cmodule.py\", line 1056, in module_from_key\n",
        "    module = lnk.compile_cmodule(location)\n",
        "  File \"/home/ubuntu/anaconda/lib/python2.7/site-packages/Theano-0.6.0-py2.7.egg/theano/gof/cc.py\", line 1324, in compile_cmodule\n",
        "    preargs=preargs)\n",
        "  File \"/home/ubuntu/anaconda/lib/python2.7/site-packages/Theano-0.6.0-py2.7.egg/theano/gof/cmodule.py\", line 1931, in compile_str\n",
        "    p_out = output_subprocess_Popen(cmd)\n",
        "  File \"/home/ubuntu/anaconda/lib/python2.7/site-packages/Theano-0.6.0-py2.7.egg/theano/misc/windows.py\", line 73, in output_subprocess_Popen\n",
        "    p = subprocess_Popen(command, **params)\n",
        "  File \"/home/ubuntu/anaconda/lib/python2.7/site-packages/Theano-0.6.0-py2.7.egg/theano/misc/windows.py\", line 36, in subprocess_Popen\n",
        "    proc = subprocess.Popen(command, startupinfo=startupinfo, **params)\n",
        "  File \"/home/ubuntu/anaconda/lib/python2.7/subprocess.py\", line 710, in __init__\n",
        "    errread, errwrite)\n",
        "  File \"/home/ubuntu/anaconda/lib/python2.7/subprocess.py\", line 1231, in _execute_child\n",
        "    self.pid = os.fork()\n",
        "OSError: [Errno 12] Cannot allocate memory\n",
        "\n"
       ]
      },
      {
       "output_type": "stream",
       "stream": "stderr",
       "text": [
        "Problem occurred during compilation with the command line below:\n",
        "/usr/bin/g++ -shared -g -O3 -fno-math-errno -Wno-unused-label -Wno-unused-variable -Wno-write-strings -D NPY_NO_DEPRECATED_API=NPY_1_7_API_VERSION -m64 -fPIC -I/home/ubuntu/anaconda/lib/python2.7/site-packages/numpy/core/include -I/home/ubuntu/anaconda/include/python2.7 -o /home/ubuntu/.theano/compiledir_Linux-3.13--generic-x86_64-with-debian-jessie-sid-x86_64-2.7.9-64/tmpRF8uWN/e0b28ec03e051f80e055d0173c808bbb.so /home/ubuntu/.theano/compiledir_Linux-3.13--generic-x86_64-with-debian-jessie-sid-x86_64-2.7.9-64/tmpRF8uWN/mod.cpp -L/home/ubuntu/anaconda/lib -lpython2.7\n",
        "ERROR (theano.gof.cmodule): [Errno 12] Cannot allocate memory\n"
       ]
      },
      {
       "output_type": "stream",
       "stream": "stderr",
       "text": [
        "ERROR:theano.gof.cmodule:[Errno 12] Cannot allocate memory\n"
       ]
      },
      {
       "output_type": "stream",
       "stream": "stderr",
       "text": [
        "ERROR (theano.gof.opt): Optimization failure due to: constant_folding\n"
       ]
      },
      {
       "output_type": "stream",
       "stream": "stderr",
       "text": [
        "ERROR:theano.gof.opt:Optimization failure due to: constant_folding\n"
       ]
      },
      {
       "output_type": "stream",
       "stream": "stderr",
       "text": [
        "ERROR (theano.gof.opt): TRACEBACK:\n"
       ]
      },
      {
       "output_type": "stream",
       "stream": "stderr",
       "text": [
        "ERROR:theano.gof.opt:TRACEBACK:\n"
       ]
      },
      {
       "output_type": "stream",
       "stream": "stderr",
       "text": [
        "ERROR (theano.gof.opt): Traceback (most recent call last):\n",
        "  File \"/home/ubuntu/anaconda/lib/python2.7/site-packages/Theano-0.6.0-py2.7.egg/theano/gof/opt.py\", line 1491, in process_node\n",
        "    replacements = lopt.transform(node)\n",
        "  File \"/home/ubuntu/anaconda/lib/python2.7/site-packages/Theano-0.6.0-py2.7.egg/theano/tensor/opt.py\", line 4639, in constant_folding\n",
        "    no_recycling=[])\n",
        "  File \"/home/ubuntu/anaconda/lib/python2.7/site-packages/Theano-0.6.0-py2.7.egg/theano/gof/op.py\", line 722, in make_thunk\n",
        "    output_storage=node_output_storage)\n",
        "  File \"/home/ubuntu/anaconda/lib/python2.7/site-packages/Theano-0.6.0-py2.7.egg/theano/gof/cc.py\", line 1043, in make_thunk\n",
        "    keep_lock=keep_lock)\n",
        "  File \"/home/ubuntu/anaconda/lib/python2.7/site-packages/Theano-0.6.0-py2.7.egg/theano/gof/cc.py\", line 985, in __compile__\n",
        "    keep_lock=keep_lock)\n",
        "  File \"/home/ubuntu/anaconda/lib/python2.7/site-packages/Theano-0.6.0-py2.7.egg/theano/gof/cc.py\", line 1412, in cthunk_factory\n",
        "    key=key, lnk=self, keep_lock=keep_lock)\n",
        "  File \"/home/ubuntu/anaconda/lib/python2.7/site-packages/Theano-0.6.0-py2.7.egg/theano/gof/cmodule.py\", line 1056, in module_from_key\n",
        "    module = lnk.compile_cmodule(location)\n",
        "  File \"/home/ubuntu/anaconda/lib/python2.7/site-packages/Theano-0.6.0-py2.7.egg/theano/gof/cc.py\", line 1324, in compile_cmodule\n",
        "    preargs=preargs)\n",
        "  File \"/home/ubuntu/anaconda/lib/python2.7/site-packages/Theano-0.6.0-py2.7.egg/theano/gof/cmodule.py\", line 1931, in compile_str\n",
        "    p_out = output_subprocess_Popen(cmd)\n",
        "  File \"/home/ubuntu/anaconda/lib/python2.7/site-packages/Theano-0.6.0-py2.7.egg/theano/misc/windows.py\", line 73, in output_subprocess_Popen\n",
        "    p = subprocess_Popen(command, **params)\n",
        "  File \"/home/ubuntu/anaconda/lib/python2.7/site-packages/Theano-0.6.0-py2.7.egg/theano/misc/windows.py\", line 36, in subprocess_Popen\n",
        "    proc = subprocess.Popen(command, startupinfo=startupinfo, **params)\n",
        "  File \"/home/ubuntu/anaconda/lib/python2.7/subprocess.py\", line 710, in __init__\n",
        "    errread, errwrite)\n",
        "  File \"/home/ubuntu/anaconda/lib/python2.7/subprocess.py\", line 1231, in _execute_child\n",
        "    self.pid = os.fork()\n",
        "OSError: [Errno 12] Cannot allocate memory\n",
        "\n"
       ]
      },
      {
       "output_type": "stream",
       "stream": "stderr",
       "text": [
        "ERROR:theano.gof.opt:Traceback (most recent call last):\n",
        "  File \"/home/ubuntu/anaconda/lib/python2.7/site-packages/Theano-0.6.0-py2.7.egg/theano/gof/opt.py\", line 1491, in process_node\n",
        "    replacements = lopt.transform(node)\n",
        "  File \"/home/ubuntu/anaconda/lib/python2.7/site-packages/Theano-0.6.0-py2.7.egg/theano/tensor/opt.py\", line 4639, in constant_folding\n",
        "    no_recycling=[])\n",
        "  File \"/home/ubuntu/anaconda/lib/python2.7/site-packages/Theano-0.6.0-py2.7.egg/theano/gof/op.py\", line 722, in make_thunk\n",
        "    output_storage=node_output_storage)\n",
        "  File \"/home/ubuntu/anaconda/lib/python2.7/site-packages/Theano-0.6.0-py2.7.egg/theano/gof/cc.py\", line 1043, in make_thunk\n",
        "    keep_lock=keep_lock)\n",
        "  File \"/home/ubuntu/anaconda/lib/python2.7/site-packages/Theano-0.6.0-py2.7.egg/theano/gof/cc.py\", line 985, in __compile__\n",
        "    keep_lock=keep_lock)\n",
        "  File \"/home/ubuntu/anaconda/lib/python2.7/site-packages/Theano-0.6.0-py2.7.egg/theano/gof/cc.py\", line 1412, in cthunk_factory\n",
        "    key=key, lnk=self, keep_lock=keep_lock)\n",
        "  File \"/home/ubuntu/anaconda/lib/python2.7/site-packages/Theano-0.6.0-py2.7.egg/theano/gof/cmodule.py\", line 1056, in module_from_key\n",
        "    module = lnk.compile_cmodule(location)\n",
        "  File \"/home/ubuntu/anaconda/lib/python2.7/site-packages/Theano-0.6.0-py2.7.egg/theano/gof/cc.py\", line 1324, in compile_cmodule\n",
        "    preargs=preargs)\n",
        "  File \"/home/ubuntu/anaconda/lib/python2.7/site-packages/Theano-0.6.0-py2.7.egg/theano/gof/cmodule.py\", line 1931, in compile_str\n",
        "    p_out = output_subprocess_Popen(cmd)\n",
        "  File \"/home/ubuntu/anaconda/lib/python2.7/site-packages/Theano-0.6.0-py2.7.egg/theano/misc/windows.py\", line 73, in output_subprocess_Popen\n",
        "    p = subprocess_Popen(command, **params)\n",
        "  File \"/home/ubuntu/anaconda/lib/python2.7/site-packages/Theano-0.6.0-py2.7.egg/theano/misc/windows.py\", line 36, in subprocess_Popen\n",
        "    proc = subprocess.Popen(command, startupinfo=startupinfo, **params)\n",
        "  File \"/home/ubuntu/anaconda/lib/python2.7/subprocess.py\", line 710, in __init__\n",
        "    errread, errwrite)\n",
        "  File \"/home/ubuntu/anaconda/lib/python2.7/subprocess.py\", line 1231, in _execute_child\n",
        "    self.pid = os.fork()\n",
        "OSError: [Errno 12] Cannot allocate memory\n",
        "\n"
       ]
      },
      {
       "output_type": "stream",
       "stream": "stderr",
       "text": [
        "Problem occurred during compilation with the command line below:\n",
        "/usr/bin/g++ -shared -g -O3 -fno-math-errno -Wno-unused-label -Wno-unused-variable -Wno-write-strings -D NPY_NO_DEPRECATED_API=NPY_1_7_API_VERSION -m64 -fPIC -I/home/ubuntu/anaconda/lib/python2.7/site-packages/numpy/core/include -I/home/ubuntu/anaconda/include/python2.7 -o /home/ubuntu/.theano/compiledir_Linux-3.13--generic-x86_64-with-debian-jessie-sid-x86_64-2.7.9-64/tmpS_cSVV/e0b28ec03e051f80e055d0173c808bbb.so /home/ubuntu/.theano/compiledir_Linux-3.13--generic-x86_64-with-debian-jessie-sid-x86_64-2.7.9-64/tmpS_cSVV/mod.cpp -L/home/ubuntu/anaconda/lib -lpython2.7\n",
        "ERROR (theano.gof.cmodule): [Errno 12] Cannot allocate memory\n"
       ]
      },
      {
       "output_type": "stream",
       "stream": "stderr",
       "text": [
        "ERROR:theano.gof.cmodule:[Errno 12] Cannot allocate memory\n"
       ]
      },
      {
       "output_type": "stream",
       "stream": "stderr",
       "text": [
        "ERROR (theano.gof.opt): Optimization failure due to: constant_folding\n"
       ]
      },
      {
       "output_type": "stream",
       "stream": "stderr",
       "text": [
        "ERROR:theano.gof.opt:Optimization failure due to: constant_folding\n"
       ]
      },
      {
       "output_type": "stream",
       "stream": "stderr",
       "text": [
        "ERROR (theano.gof.opt): TRACEBACK:\n"
       ]
      },
      {
       "output_type": "stream",
       "stream": "stderr",
       "text": [
        "ERROR:theano.gof.opt:TRACEBACK:\n"
       ]
      },
      {
       "output_type": "stream",
       "stream": "stderr",
       "text": [
        "ERROR (theano.gof.opt): Traceback (most recent call last):\n",
        "  File \"/home/ubuntu/anaconda/lib/python2.7/site-packages/Theano-0.6.0-py2.7.egg/theano/gof/opt.py\", line 1491, in process_node\n",
        "    replacements = lopt.transform(node)\n",
        "  File \"/home/ubuntu/anaconda/lib/python2.7/site-packages/Theano-0.6.0-py2.7.egg/theano/tensor/opt.py\", line 4639, in constant_folding\n",
        "    no_recycling=[])\n",
        "  File \"/home/ubuntu/anaconda/lib/python2.7/site-packages/Theano-0.6.0-py2.7.egg/theano/gof/op.py\", line 722, in make_thunk\n",
        "    output_storage=node_output_storage)\n",
        "  File \"/home/ubuntu/anaconda/lib/python2.7/site-packages/Theano-0.6.0-py2.7.egg/theano/gof/cc.py\", line 1043, in make_thunk\n",
        "    keep_lock=keep_lock)\n",
        "  File \"/home/ubuntu/anaconda/lib/python2.7/site-packages/Theano-0.6.0-py2.7.egg/theano/gof/cc.py\", line 985, in __compile__\n",
        "    keep_lock=keep_lock)\n",
        "  File \"/home/ubuntu/anaconda/lib/python2.7/site-packages/Theano-0.6.0-py2.7.egg/theano/gof/cc.py\", line 1412, in cthunk_factory\n",
        "    key=key, lnk=self, keep_lock=keep_lock)\n",
        "  File \"/home/ubuntu/anaconda/lib/python2.7/site-packages/Theano-0.6.0-py2.7.egg/theano/gof/cmodule.py\", line 1056, in module_from_key\n",
        "    module = lnk.compile_cmodule(location)\n",
        "  File \"/home/ubuntu/anaconda/lib/python2.7/site-packages/Theano-0.6.0-py2.7.egg/theano/gof/cc.py\", line 1324, in compile_cmodule\n",
        "    preargs=preargs)\n",
        "  File \"/home/ubuntu/anaconda/lib/python2.7/site-packages/Theano-0.6.0-py2.7.egg/theano/gof/cmodule.py\", line 1931, in compile_str\n",
        "    p_out = output_subprocess_Popen(cmd)\n",
        "  File \"/home/ubuntu/anaconda/lib/python2.7/site-packages/Theano-0.6.0-py2.7.egg/theano/misc/windows.py\", line 73, in output_subprocess_Popen\n",
        "    p = subprocess_Popen(command, **params)\n",
        "  File \"/home/ubuntu/anaconda/lib/python2.7/site-packages/Theano-0.6.0-py2.7.egg/theano/misc/windows.py\", line 36, in subprocess_Popen\n",
        "    proc = subprocess.Popen(command, startupinfo=startupinfo, **params)\n",
        "  File \"/home/ubuntu/anaconda/lib/python2.7/subprocess.py\", line 710, in __init__\n",
        "    errread, errwrite)\n",
        "  File \"/home/ubuntu/anaconda/lib/python2.7/subprocess.py\", line 1231, in _execute_child\n",
        "    self.pid = os.fork()\n",
        "OSError: [Errno 12] Cannot allocate memory\n",
        "\n"
       ]
      },
      {
       "output_type": "stream",
       "stream": "stderr",
       "text": [
        "ERROR:theano.gof.opt:Traceback (most recent call last):\n",
        "  File \"/home/ubuntu/anaconda/lib/python2.7/site-packages/Theano-0.6.0-py2.7.egg/theano/gof/opt.py\", line 1491, in process_node\n",
        "    replacements = lopt.transform(node)\n",
        "  File \"/home/ubuntu/anaconda/lib/python2.7/site-packages/Theano-0.6.0-py2.7.egg/theano/tensor/opt.py\", line 4639, in constant_folding\n",
        "    no_recycling=[])\n",
        "  File \"/home/ubuntu/anaconda/lib/python2.7/site-packages/Theano-0.6.0-py2.7.egg/theano/gof/op.py\", line 722, in make_thunk\n",
        "    output_storage=node_output_storage)\n",
        "  File \"/home/ubuntu/anaconda/lib/python2.7/site-packages/Theano-0.6.0-py2.7.egg/theano/gof/cc.py\", line 1043, in make_thunk\n",
        "    keep_lock=keep_lock)\n",
        "  File \"/home/ubuntu/anaconda/lib/python2.7/site-packages/Theano-0.6.0-py2.7.egg/theano/gof/cc.py\", line 985, in __compile__\n",
        "    keep_lock=keep_lock)\n",
        "  File \"/home/ubuntu/anaconda/lib/python2.7/site-packages/Theano-0.6.0-py2.7.egg/theano/gof/cc.py\", line 1412, in cthunk_factory\n",
        "    key=key, lnk=self, keep_lock=keep_lock)\n",
        "  File \"/home/ubuntu/anaconda/lib/python2.7/site-packages/Theano-0.6.0-py2.7.egg/theano/gof/cmodule.py\", line 1056, in module_from_key\n",
        "    module = lnk.compile_cmodule(location)\n",
        "  File \"/home/ubuntu/anaconda/lib/python2.7/site-packages/Theano-0.6.0-py2.7.egg/theano/gof/cc.py\", line 1324, in compile_cmodule\n",
        "    preargs=preargs)\n",
        "  File \"/home/ubuntu/anaconda/lib/python2.7/site-packages/Theano-0.6.0-py2.7.egg/theano/gof/cmodule.py\", line 1931, in compile_str\n",
        "    p_out = output_subprocess_Popen(cmd)\n",
        "  File \"/home/ubuntu/anaconda/lib/python2.7/site-packages/Theano-0.6.0-py2.7.egg/theano/misc/windows.py\", line 73, in output_subprocess_Popen\n",
        "    p = subprocess_Popen(command, **params)\n",
        "  File \"/home/ubuntu/anaconda/lib/python2.7/site-packages/Theano-0.6.0-py2.7.egg/theano/misc/windows.py\", line 36, in subprocess_Popen\n",
        "    proc = subprocess.Popen(command, startupinfo=startupinfo, **params)\n",
        "  File \"/home/ubuntu/anaconda/lib/python2.7/subprocess.py\", line 710, in __init__\n",
        "    errread, errwrite)\n",
        "  File \"/home/ubuntu/anaconda/lib/python2.7/subprocess.py\", line 1231, in _execute_child\n",
        "    self.pid = os.fork()\n",
        "OSError: [Errno 12] Cannot allocate memory\n",
        "\n"
       ]
      },
      {
       "output_type": "stream",
       "stream": "stderr",
       "text": [
        "Problem occurred during compilation with the command line below:\n",
        "/usr/bin/g++ -shared -g -O3 -fno-math-errno -Wno-unused-label -Wno-unused-variable -Wno-write-strings -D NPY_NO_DEPRECATED_API=NPY_1_7_API_VERSION -m64 -fPIC -I/home/ubuntu/anaconda/lib/python2.7/site-packages/numpy/core/include -I/home/ubuntu/anaconda/include/python2.7 -o /home/ubuntu/.theano/compiledir_Linux-3.13--generic-x86_64-with-debian-jessie-sid-x86_64-2.7.9-64/tmpcmxYHo/a5d4d6255570d24544193eaf473e7b75.so /home/ubuntu/.theano/compiledir_Linux-3.13--generic-x86_64-with-debian-jessie-sid-x86_64-2.7.9-64/tmpcmxYHo/mod.cpp -L/home/ubuntu/anaconda/lib -lpython2.7\n",
        "ERROR (theano.gof.cmodule): [Errno 12] Cannot allocate memory\n"
       ]
      },
      {
       "output_type": "stream",
       "stream": "stderr",
       "text": [
        "ERROR:theano.gof.cmodule:[Errno 12] Cannot allocate memory\n"
       ]
      },
      {
       "ename": "OSError",
       "evalue": "[Errno [Errno 12] Cannot allocate memory] <function _constructor_Function at 0x7f8acfddd500>: (<theano.compile.function_module.FunctionMaker object at 0x7f8a62e29a50>, [<None>, <None>, <<CudaNdarray object at 0x7f8aac6e7770>>, <<CudaNdarray object at 0x7f8aac6e7270>>, <<CudaNdarray object at 0x7f8aac6e7130>>, <<CudaNdarray object at 0x7f8aac6e74b0>>, <<CudaNdarray object at 0x7f8aac6e7370>>, <<CudaNdarray object at 0x7f8a5059cef0>>, <<CudaNdarray object at 0x7f8a505a52b0>>, <<CudaNdarray object at 0x7f8a505a53b0>>, <<CudaNdarray object at 0x7f8a505a54f0>>, <<CudaNdarray object at 0x7f8a505a5630>>], [None, None, <CudaNdarray object at 0x7f8aac6e7770>, <CudaNdarray object at 0x7f8aac6e7270>, <CudaNdarray object at 0x7f8aac6e7130>, <CudaNdarray object at 0x7f8aac6e74b0>, <CudaNdarray object at 0x7f8aac6e7370>, <CudaNdarray object at 0x7f8a5059cef0>, <CudaNdarray object at 0x7f8a505a52b0>, <CudaNdarray object at 0x7f8a505a53b0>, <CudaNdarray object at 0x7f8a505a54f0>, <CudaNdarray object at 0x7f8a505a5630>])",
       "output_type": "pyerr",
       "traceback": [
        "\u001b[1;31m---------------------------------------------------------------------------\u001b[0m\n\u001b[1;31mOSError\u001b[0m                                   Traceback (most recent call last)",
        "\u001b[1;32m<ipython-input-7-dbfa49e7e584>\u001b[0m in \u001b[0;36m<module>\u001b[1;34m()\u001b[0m\n\u001b[1;32m----> 1\u001b[1;33m \u001b[0mnet\u001b[0m \u001b[1;33m=\u001b[0m \u001b[0mutils\u001b[0m\u001b[1;33m.\u001b[0m\u001b[0mload\u001b[0m\u001b[1;33m(\u001b[0m\u001b[1;34m'net-2.21675600581-2015-01-26-00-10-40.pickle'\u001b[0m\u001b[1;33m)\u001b[0m\u001b[1;33m\u001b[0m\u001b[0m\n\u001b[0m",
        "\u001b[1;32m/mnt/data/devel/kaggle-datascience-bowl/utils.pyc\u001b[0m in \u001b[0;36mload\u001b[1;34m(filename)\u001b[0m\n\u001b[0;32m    106\u001b[0m \u001b[1;33m\u001b[0m\u001b[0m\n\u001b[0;32m    107\u001b[0m \u001b[1;32mdef\u001b[0m \u001b[0mload\u001b[0m\u001b[1;33m(\u001b[0m\u001b[0mfilename\u001b[0m\u001b[1;33m)\u001b[0m\u001b[1;33m:\u001b[0m\u001b[1;33m\u001b[0m\u001b[0m\n\u001b[1;32m--> 108\u001b[1;33m     \u001b[1;32mreturn\u001b[0m \u001b[0mpickle\u001b[0m\u001b[1;33m.\u001b[0m\u001b[0mload\u001b[0m\u001b[1;33m(\u001b[0m\u001b[0mopen\u001b[0m\u001b[1;33m(\u001b[0m\u001b[0mfilename\u001b[0m\u001b[1;33m,\u001b[0m \u001b[1;34m'rb'\u001b[0m\u001b[1;33m)\u001b[0m\u001b[1;33m)\u001b[0m\u001b[1;33m\u001b[0m\u001b[0m\n\u001b[0m",
        "\u001b[1;32m/home/ubuntu/anaconda/lib/python2.7/site-packages/Theano-0.6.0-py2.7.egg/theano/compile/function_module.pyc\u001b[0m in \u001b[0;36m_constructor_Function\u001b[1;34m(maker, input_storage, inputs_data)\u001b[0m\n\u001b[0;32m    745\u001b[0m     \u001b[1;32mif\u001b[0m \u001b[1;32mnot\u001b[0m \u001b[0mtheano\u001b[0m\u001b[1;33m.\u001b[0m\u001b[0mconfig\u001b[0m\u001b[1;33m.\u001b[0m\u001b[0munpickle_function\u001b[0m\u001b[1;33m:\u001b[0m\u001b[1;33m\u001b[0m\u001b[0m\n\u001b[0;32m    746\u001b[0m         \u001b[1;32mreturn\u001b[0m \u001b[0mNone\u001b[0m\u001b[1;33m\u001b[0m\u001b[0m\n\u001b[1;32m--> 747\u001b[1;33m     \u001b[0mf\u001b[0m \u001b[1;33m=\u001b[0m \u001b[0mmaker\u001b[0m\u001b[1;33m.\u001b[0m\u001b[0mcreate\u001b[0m\u001b[1;33m(\u001b[0m\u001b[0minput_storage\u001b[0m\u001b[1;33m,\u001b[0m \u001b[0mtrustme\u001b[0m \u001b[1;33m=\u001b[0m \u001b[0mTrue\u001b[0m\u001b[1;33m)\u001b[0m\u001b[1;33m\u001b[0m\u001b[0m\n\u001b[0m\u001b[0;32m    748\u001b[0m     \u001b[1;32massert\u001b[0m \u001b[0mlen\u001b[0m\u001b[1;33m(\u001b[0m\u001b[0mf\u001b[0m\u001b[1;33m.\u001b[0m\u001b[0minput_storage\u001b[0m\u001b[1;33m)\u001b[0m \u001b[1;33m==\u001b[0m \u001b[0mlen\u001b[0m\u001b[1;33m(\u001b[0m\u001b[0minputs_data\u001b[0m\u001b[1;33m)\u001b[0m\u001b[1;33m\u001b[0m\u001b[0m\n\u001b[0;32m    749\u001b[0m     \u001b[1;32mfor\u001b[0m \u001b[0mcontainer\u001b[0m\u001b[1;33m,\u001b[0m \u001b[0mx\u001b[0m \u001b[1;32min\u001b[0m \u001b[0mzip\u001b[0m\u001b[1;33m(\u001b[0m\u001b[0mf\u001b[0m\u001b[1;33m.\u001b[0m\u001b[0minput_storage\u001b[0m\u001b[1;33m,\u001b[0m \u001b[0minputs_data\u001b[0m\u001b[1;33m)\u001b[0m\u001b[1;33m:\u001b[0m\u001b[1;33m\u001b[0m\u001b[0m\n",
        "\u001b[1;32m/home/ubuntu/anaconda/lib/python2.7/site-packages/Theano-0.6.0-py2.7.egg/theano/compile/function_module.pyc\u001b[0m in \u001b[0;36mcreate\u001b[1;34m(self, input_storage, trustme)\u001b[0m\n\u001b[0;32m   1407\u001b[0m         \u001b[1;31m# Get a function instance\u001b[0m\u001b[1;33m\u001b[0m\u001b[1;33m\u001b[0m\u001b[0m\n\u001b[0;32m   1408\u001b[0m         \u001b[0mstart_linker\u001b[0m \u001b[1;33m=\u001b[0m \u001b[0mtime\u001b[0m\u001b[1;33m.\u001b[0m\u001b[0mtime\u001b[0m\u001b[1;33m(\u001b[0m\u001b[1;33m)\u001b[0m\u001b[1;33m\u001b[0m\u001b[0m\n\u001b[1;32m-> 1409\u001b[1;33m         \u001b[0m_fn\u001b[0m\u001b[1;33m,\u001b[0m \u001b[0m_i\u001b[0m\u001b[1;33m,\u001b[0m \u001b[0m_o\u001b[0m \u001b[1;33m=\u001b[0m \u001b[0mself\u001b[0m\u001b[1;33m.\u001b[0m\u001b[0mlinker\u001b[0m\u001b[1;33m.\u001b[0m\u001b[0mmake_thunk\u001b[0m\u001b[1;33m(\u001b[0m\u001b[0minput_storage\u001b[0m\u001b[1;33m=\u001b[0m\u001b[0minput_storage_lists\u001b[0m\u001b[1;33m)\u001b[0m\u001b[1;33m\u001b[0m\u001b[0m\n\u001b[0m\u001b[0;32m   1410\u001b[0m         \u001b[0mend_linker\u001b[0m \u001b[1;33m=\u001b[0m \u001b[0mtime\u001b[0m\u001b[1;33m.\u001b[0m\u001b[0mtime\u001b[0m\u001b[1;33m(\u001b[0m\u001b[1;33m)\u001b[0m\u001b[1;33m\u001b[0m\u001b[0m\n\u001b[0;32m   1411\u001b[0m \u001b[1;33m\u001b[0m\u001b[0m\n",
        "\u001b[1;32m/home/ubuntu/anaconda/lib/python2.7/site-packages/Theano-0.6.0-py2.7.egg/theano/gof/link.pyc\u001b[0m in \u001b[0;36mmake_thunk\u001b[1;34m(self, profiler, input_storage, output_storage)\u001b[0m\n\u001b[0;32m    529\u001b[0m         return self.make_all(profiler=profiler,\n\u001b[0;32m    530\u001b[0m                              \u001b[0minput_storage\u001b[0m\u001b[1;33m=\u001b[0m\u001b[0minput_storage\u001b[0m\u001b[1;33m,\u001b[0m\u001b[1;33m\u001b[0m\u001b[0m\n\u001b[1;32m--> 531\u001b[1;33m                              output_storage=output_storage)[:3]\n\u001b[0m\u001b[0;32m    532\u001b[0m \u001b[1;33m\u001b[0m\u001b[0m\n\u001b[0;32m    533\u001b[0m     \u001b[1;32mdef\u001b[0m \u001b[0mmake_all\u001b[0m\u001b[1;33m(\u001b[0m\u001b[0mself\u001b[0m\u001b[1;33m,\u001b[0m \u001b[0mprofiler\u001b[0m\u001b[1;33m,\u001b[0m \u001b[0minput_storage\u001b[0m\u001b[1;33m,\u001b[0m \u001b[0moutput_storage\u001b[0m\u001b[1;33m)\u001b[0m\u001b[1;33m:\u001b[0m\u001b[1;33m\u001b[0m\u001b[0m\n",
        "\u001b[1;32m/home/ubuntu/anaconda/lib/python2.7/site-packages/Theano-0.6.0-py2.7.egg/theano/gof/vm.pyc\u001b[0m in \u001b[0;36mmake_all\u001b[1;34m(self, profiler, input_storage, output_storage)\u001b[0m\n\u001b[0;32m    895\u001b[0m                                                  \u001b[0mstorage_map\u001b[0m\u001b[1;33m,\u001b[0m\u001b[1;33m\u001b[0m\u001b[0m\n\u001b[0;32m    896\u001b[0m                                                  \u001b[0mcompute_map\u001b[0m\u001b[1;33m,\u001b[0m\u001b[1;33m\u001b[0m\u001b[0m\n\u001b[1;32m--> 897\u001b[1;33m                                                  no_recycling))\n\u001b[0m\u001b[0;32m    898\u001b[0m                 \u001b[1;32mif\u001b[0m \u001b[1;32mnot\u001b[0m \u001b[0mhasattr\u001b[0m\u001b[1;33m(\u001b[0m\u001b[0mthunks\u001b[0m\u001b[1;33m[\u001b[0m\u001b[1;33m-\u001b[0m\u001b[1;36m1\u001b[0m\u001b[1;33m]\u001b[0m\u001b[1;33m,\u001b[0m \u001b[1;34m'lazy'\u001b[0m\u001b[1;33m)\u001b[0m\u001b[1;33m:\u001b[0m\u001b[1;33m\u001b[0m\u001b[0m\n\u001b[0;32m    899\u001b[0m                     \u001b[1;31m# We don't want all ops maker to think about lazy Ops.\u001b[0m\u001b[1;33m\u001b[0m\u001b[1;33m\u001b[0m\u001b[0m\n",
        "\u001b[1;32m/home/ubuntu/anaconda/lib/python2.7/site-packages/Theano-0.6.0-py2.7.egg/theano/gof/op.pyc\u001b[0m in \u001b[0;36mmake_thunk\u001b[1;34m(self, node, storage_map, compute_map, no_recycling)\u001b[0m\n\u001b[0;32m    720\u001b[0m                 \u001b[0mlogger\u001b[0m\u001b[1;33m.\u001b[0m\u001b[0mdebug\u001b[0m\u001b[1;33m(\u001b[0m\u001b[1;34m'Trying CLinker.make_thunk'\u001b[0m\u001b[1;33m)\u001b[0m\u001b[1;33m\u001b[0m\u001b[0m\n\u001b[0;32m    721\u001b[0m                 outputs = cl.make_thunk(input_storage=node_input_storage,\n\u001b[1;32m--> 722\u001b[1;33m                                         output_storage=node_output_storage)\n\u001b[0m\u001b[0;32m    723\u001b[0m                 \u001b[0mfill_storage\u001b[0m\u001b[1;33m,\u001b[0m \u001b[0mnode_input_filters\u001b[0m\u001b[1;33m,\u001b[0m \u001b[0mnode_output_filters\u001b[0m \u001b[1;33m=\u001b[0m \u001b[0moutputs\u001b[0m\u001b[1;33m\u001b[0m\u001b[0m\n\u001b[0;32m    724\u001b[0m \u001b[1;33m\u001b[0m\u001b[0m\n",
        "\u001b[1;32m/home/ubuntu/anaconda/lib/python2.7/site-packages/Theano-0.6.0-py2.7.egg/theano/gof/cc.pyc\u001b[0m in \u001b[0;36mmake_thunk\u001b[1;34m(self, input_storage, output_storage, keep_lock)\u001b[0m\n\u001b[0;32m   1041\u001b[0m         cthunk, in_storage, out_storage, error_storage = self.__compile__(\n\u001b[0;32m   1042\u001b[0m             \u001b[0minput_storage\u001b[0m\u001b[1;33m,\u001b[0m \u001b[0moutput_storage\u001b[0m\u001b[1;33m,\u001b[0m\u001b[1;33m\u001b[0m\u001b[0m\n\u001b[1;32m-> 1043\u001b[1;33m             keep_lock=keep_lock)\n\u001b[0m\u001b[0;32m   1044\u001b[0m \u001b[1;33m\u001b[0m\u001b[0m\n\u001b[0;32m   1045\u001b[0m         \u001b[0mres\u001b[0m \u001b[1;33m=\u001b[0m \u001b[0m_CThunk\u001b[0m\u001b[1;33m(\u001b[0m\u001b[0mcthunk\u001b[0m\u001b[1;33m,\u001b[0m \u001b[0minit_tasks\u001b[0m\u001b[1;33m,\u001b[0m \u001b[0mtasks\u001b[0m\u001b[1;33m,\u001b[0m \u001b[0merror_storage\u001b[0m\u001b[1;33m)\u001b[0m\u001b[1;33m\u001b[0m\u001b[0m\n",
        "\u001b[1;32m/home/ubuntu/anaconda/lib/python2.7/site-packages/Theano-0.6.0-py2.7.egg/theano/gof/cc.pyc\u001b[0m in \u001b[0;36m__compile__\u001b[1;34m(self, input_storage, output_storage, keep_lock)\u001b[0m\n\u001b[0;32m    983\u001b[0m                                     \u001b[0minput_storage\u001b[0m\u001b[1;33m,\u001b[0m\u001b[1;33m\u001b[0m\u001b[0m\n\u001b[0;32m    984\u001b[0m                                     \u001b[0moutput_storage\u001b[0m\u001b[1;33m,\u001b[0m\u001b[1;33m\u001b[0m\u001b[0m\n\u001b[1;32m--> 985\u001b[1;33m                                     keep_lock=keep_lock)\n\u001b[0m\u001b[0;32m    986\u001b[0m         return (thunk,\n\u001b[0;32m    987\u001b[0m                 [link.Container(input, storage) for input, storage in\n",
        "\u001b[1;32m/home/ubuntu/anaconda/lib/python2.7/site-packages/Theano-0.6.0-py2.7.egg/theano/gof/cc.pyc\u001b[0m in \u001b[0;36mcthunk_factory\u001b[1;34m(self, error_storage, in_storage, out_storage, keep_lock)\u001b[0m\n\u001b[0;32m   1410\u001b[0m         \u001b[1;32melse\u001b[0m\u001b[1;33m:\u001b[0m\u001b[1;33m\u001b[0m\u001b[0m\n\u001b[0;32m   1411\u001b[0m             module = get_module_cache().module_from_key(\n\u001b[1;32m-> 1412\u001b[1;33m                 key=key, lnk=self, keep_lock=keep_lock)\n\u001b[0m\u001b[0;32m   1413\u001b[0m \u001b[1;33m\u001b[0m\u001b[0m\n\u001b[0;32m   1414\u001b[0m         \u001b[0mvars\u001b[0m \u001b[1;33m=\u001b[0m \u001b[0mself\u001b[0m\u001b[1;33m.\u001b[0m\u001b[0minputs\u001b[0m \u001b[1;33m+\u001b[0m \u001b[0mself\u001b[0m\u001b[1;33m.\u001b[0m\u001b[0moutputs\u001b[0m \u001b[1;33m+\u001b[0m \u001b[0mself\u001b[0m\u001b[1;33m.\u001b[0m\u001b[0morphans\u001b[0m\u001b[1;33m\u001b[0m\u001b[0m\n",
        "\u001b[1;32m/home/ubuntu/anaconda/lib/python2.7/site-packages/Theano-0.6.0-py2.7.egg/theano/gof/cmodule.pyc\u001b[0m in \u001b[0;36mmodule_from_key\u001b[1;34m(self, key, lnk, keep_lock)\u001b[0m\n\u001b[0;32m   1054\u001b[0m             \u001b[1;32mtry\u001b[0m\u001b[1;33m:\u001b[0m\u001b[1;33m\u001b[0m\u001b[0m\n\u001b[0;32m   1055\u001b[0m                 \u001b[0mlocation\u001b[0m \u001b[1;33m=\u001b[0m \u001b[0mdlimport_workdir\u001b[0m\u001b[1;33m(\u001b[0m\u001b[0mself\u001b[0m\u001b[1;33m.\u001b[0m\u001b[0mdirname\u001b[0m\u001b[1;33m)\u001b[0m\u001b[1;33m\u001b[0m\u001b[0m\n\u001b[1;32m-> 1056\u001b[1;33m                 \u001b[0mmodule\u001b[0m \u001b[1;33m=\u001b[0m \u001b[0mlnk\u001b[0m\u001b[1;33m.\u001b[0m\u001b[0mcompile_cmodule\u001b[0m\u001b[1;33m(\u001b[0m\u001b[0mlocation\u001b[0m\u001b[1;33m)\u001b[0m\u001b[1;33m\u001b[0m\u001b[0m\n\u001b[0m\u001b[0;32m   1057\u001b[0m                 \u001b[0mname\u001b[0m \u001b[1;33m=\u001b[0m \u001b[0mmodule\u001b[0m\u001b[1;33m.\u001b[0m\u001b[0m__file__\u001b[0m\u001b[1;33m\u001b[0m\u001b[0m\n\u001b[0;32m   1058\u001b[0m                 \u001b[1;32massert\u001b[0m \u001b[0mname\u001b[0m\u001b[1;33m.\u001b[0m\u001b[0mstartswith\u001b[0m\u001b[1;33m(\u001b[0m\u001b[0mlocation\u001b[0m\u001b[1;33m)\u001b[0m\u001b[1;33m\u001b[0m\u001b[0m\n",
        "\u001b[1;32m/home/ubuntu/anaconda/lib/python2.7/site-packages/Theano-0.6.0-py2.7.egg/theano/gof/cc.pyc\u001b[0m in \u001b[0;36mcompile_cmodule\u001b[1;34m(self, location)\u001b[0m\n\u001b[0;32m   1322\u001b[0m                 \u001b[0mlib_dirs\u001b[0m\u001b[1;33m=\u001b[0m\u001b[0mself\u001b[0m\u001b[1;33m.\u001b[0m\u001b[0mlib_dirs\u001b[0m\u001b[1;33m(\u001b[0m\u001b[1;33m)\u001b[0m\u001b[1;33m,\u001b[0m\u001b[1;33m\u001b[0m\u001b[0m\n\u001b[0;32m   1323\u001b[0m                 \u001b[0mlibs\u001b[0m\u001b[1;33m=\u001b[0m\u001b[0mlibs\u001b[0m\u001b[1;33m,\u001b[0m\u001b[1;33m\u001b[0m\u001b[0m\n\u001b[1;32m-> 1324\u001b[1;33m                 preargs=preargs)\n\u001b[0m\u001b[0;32m   1325\u001b[0m         \u001b[1;32mexcept\u001b[0m \u001b[0mException\u001b[0m\u001b[1;33m,\u001b[0m \u001b[0me\u001b[0m\u001b[1;33m:\u001b[0m\u001b[1;33m\u001b[0m\u001b[0m\n\u001b[0;32m   1326\u001b[0m             \u001b[0me\u001b[0m\u001b[1;33m.\u001b[0m\u001b[0margs\u001b[0m \u001b[1;33m+=\u001b[0m \u001b[1;33m(\u001b[0m\u001b[0mstr\u001b[0m\u001b[1;33m(\u001b[0m\u001b[0mself\u001b[0m\u001b[1;33m.\u001b[0m\u001b[0mfgraph\u001b[0m\u001b[1;33m)\u001b[0m\u001b[1;33m,\u001b[0m\u001b[1;33m)\u001b[0m\u001b[1;33m\u001b[0m\u001b[0m\n",
        "\u001b[1;32m/home/ubuntu/anaconda/lib/python2.7/site-packages/Theano-0.6.0-py2.7.egg/theano/gof/cmodule.pyc\u001b[0m in \u001b[0;36mcompile_str\u001b[1;34m(module_name, src_code, location, include_dirs, lib_dirs, libs, preargs, py_module)\u001b[0m\n\u001b[0;32m   1929\u001b[0m \u001b[1;33m\u001b[0m\u001b[0m\n\u001b[0;32m   1930\u001b[0m         \u001b[1;32mtry\u001b[0m\u001b[1;33m:\u001b[0m\u001b[1;33m\u001b[0m\u001b[0m\n\u001b[1;32m-> 1931\u001b[1;33m             \u001b[0mp_out\u001b[0m \u001b[1;33m=\u001b[0m \u001b[0moutput_subprocess_Popen\u001b[0m\u001b[1;33m(\u001b[0m\u001b[0mcmd\u001b[0m\u001b[1;33m)\u001b[0m\u001b[1;33m\u001b[0m\u001b[0m\n\u001b[0m\u001b[0;32m   1932\u001b[0m             \u001b[0mcompile_stderr\u001b[0m \u001b[1;33m=\u001b[0m \u001b[0mdecode\u001b[0m\u001b[1;33m(\u001b[0m\u001b[0mp_out\u001b[0m\u001b[1;33m[\u001b[0m\u001b[1;36m1\u001b[0m\u001b[1;33m]\u001b[0m\u001b[1;33m)\u001b[0m\u001b[1;33m\u001b[0m\u001b[0m\n\u001b[0;32m   1933\u001b[0m         \u001b[1;32mexcept\u001b[0m \u001b[0mException\u001b[0m\u001b[1;33m:\u001b[0m\u001b[1;33m\u001b[0m\u001b[0m\n",
        "\u001b[1;32m/home/ubuntu/anaconda/lib/python2.7/site-packages/Theano-0.6.0-py2.7.egg/theano/misc/windows.pyc\u001b[0m in \u001b[0;36moutput_subprocess_Popen\u001b[1;34m(command, **params)\u001b[0m\n\u001b[0;32m     71\u001b[0m     \u001b[0mparams\u001b[0m\u001b[1;33m[\u001b[0m\u001b[1;34m'stdout'\u001b[0m\u001b[1;33m]\u001b[0m \u001b[1;33m=\u001b[0m \u001b[0msubprocess\u001b[0m\u001b[1;33m.\u001b[0m\u001b[0mPIPE\u001b[0m\u001b[1;33m\u001b[0m\u001b[0m\n\u001b[0;32m     72\u001b[0m     \u001b[0mparams\u001b[0m\u001b[1;33m[\u001b[0m\u001b[1;34m'stderr'\u001b[0m\u001b[1;33m]\u001b[0m \u001b[1;33m=\u001b[0m \u001b[0msubprocess\u001b[0m\u001b[1;33m.\u001b[0m\u001b[0mPIPE\u001b[0m\u001b[1;33m\u001b[0m\u001b[0m\n\u001b[1;32m---> 73\u001b[1;33m     \u001b[0mp\u001b[0m \u001b[1;33m=\u001b[0m \u001b[0msubprocess_Popen\u001b[0m\u001b[1;33m(\u001b[0m\u001b[0mcommand\u001b[0m\u001b[1;33m,\u001b[0m \u001b[1;33m**\u001b[0m\u001b[0mparams\u001b[0m\u001b[1;33m)\u001b[0m\u001b[1;33m\u001b[0m\u001b[0m\n\u001b[0m\u001b[0;32m     74\u001b[0m     \u001b[1;31m# we need to use communicate to make sure we don't deadlock around\u001b[0m\u001b[1;33m\u001b[0m\u001b[1;33m\u001b[0m\u001b[0m\n\u001b[0;32m     75\u001b[0m     \u001b[1;31m# the stdour/stderr pipe.\u001b[0m\u001b[1;33m\u001b[0m\u001b[1;33m\u001b[0m\u001b[0m\n",
        "\u001b[1;32m/home/ubuntu/anaconda/lib/python2.7/site-packages/Theano-0.6.0-py2.7.egg/theano/misc/windows.pyc\u001b[0m in \u001b[0;36msubprocess_Popen\u001b[1;34m(command, **params)\u001b[0m\n\u001b[0;32m     34\u001b[0m \u001b[1;33m\u001b[0m\u001b[0m\n\u001b[0;32m     35\u001b[0m     \u001b[1;32mtry\u001b[0m\u001b[1;33m:\u001b[0m\u001b[1;33m\u001b[0m\u001b[0m\n\u001b[1;32m---> 36\u001b[1;33m         \u001b[0mproc\u001b[0m \u001b[1;33m=\u001b[0m \u001b[0msubprocess\u001b[0m\u001b[1;33m.\u001b[0m\u001b[0mPopen\u001b[0m\u001b[1;33m(\u001b[0m\u001b[0mcommand\u001b[0m\u001b[1;33m,\u001b[0m \u001b[0mstartupinfo\u001b[0m\u001b[1;33m=\u001b[0m\u001b[0mstartupinfo\u001b[0m\u001b[1;33m,\u001b[0m \u001b[1;33m**\u001b[0m\u001b[0mparams\u001b[0m\u001b[1;33m)\u001b[0m\u001b[1;33m\u001b[0m\u001b[0m\n\u001b[0m\u001b[0;32m     37\u001b[0m     \u001b[1;32mfinally\u001b[0m\u001b[1;33m:\u001b[0m\u001b[1;33m\u001b[0m\u001b[0m\n\u001b[0;32m     38\u001b[0m         \u001b[1;32mif\u001b[0m \u001b[0mstdin\u001b[0m \u001b[1;32mis\u001b[0m \u001b[1;32mnot\u001b[0m \u001b[0mNone\u001b[0m\u001b[1;33m:\u001b[0m\u001b[1;33m\u001b[0m\u001b[0m\n",
        "\u001b[1;32m/home/ubuntu/anaconda/lib/python2.7/subprocess.pyc\u001b[0m in \u001b[0;36m__init__\u001b[1;34m(self, args, bufsize, executable, stdin, stdout, stderr, preexec_fn, close_fds, shell, cwd, env, universal_newlines, startupinfo, creationflags)\u001b[0m\n\u001b[0;32m    708\u001b[0m                                 \u001b[0mp2cread\u001b[0m\u001b[1;33m,\u001b[0m \u001b[0mp2cwrite\u001b[0m\u001b[1;33m,\u001b[0m\u001b[1;33m\u001b[0m\u001b[0m\n\u001b[0;32m    709\u001b[0m                                 \u001b[0mc2pread\u001b[0m\u001b[1;33m,\u001b[0m \u001b[0mc2pwrite\u001b[0m\u001b[1;33m,\u001b[0m\u001b[1;33m\u001b[0m\u001b[0m\n\u001b[1;32m--> 710\u001b[1;33m                                 errread, errwrite)\n\u001b[0m\u001b[0;32m    711\u001b[0m         \u001b[1;32mexcept\u001b[0m \u001b[0mException\u001b[0m\u001b[1;33m:\u001b[0m\u001b[1;33m\u001b[0m\u001b[0m\n\u001b[0;32m    712\u001b[0m             \u001b[1;31m# Preserve original exception in case os.close raises.\u001b[0m\u001b[1;33m\u001b[0m\u001b[1;33m\u001b[0m\u001b[0m\n",
        "\u001b[1;32m/home/ubuntu/anaconda/lib/python2.7/subprocess.pyc\u001b[0m in \u001b[0;36m_execute_child\u001b[1;34m(self, args, executable, preexec_fn, close_fds, cwd, env, universal_newlines, startupinfo, creationflags, shell, to_close, p2cread, p2cwrite, c2pread, c2pwrite, errread, errwrite)\u001b[0m\n\u001b[0;32m   1229\u001b[0m                     \u001b[0mgc\u001b[0m\u001b[1;33m.\u001b[0m\u001b[0mdisable\u001b[0m\u001b[1;33m(\u001b[0m\u001b[1;33m)\u001b[0m\u001b[1;33m\u001b[0m\u001b[0m\n\u001b[0;32m   1230\u001b[0m                     \u001b[1;32mtry\u001b[0m\u001b[1;33m:\u001b[0m\u001b[1;33m\u001b[0m\u001b[0m\n\u001b[1;32m-> 1231\u001b[1;33m                         \u001b[0mself\u001b[0m\u001b[1;33m.\u001b[0m\u001b[0mpid\u001b[0m \u001b[1;33m=\u001b[0m \u001b[0mos\u001b[0m\u001b[1;33m.\u001b[0m\u001b[0mfork\u001b[0m\u001b[1;33m(\u001b[0m\u001b[1;33m)\u001b[0m\u001b[1;33m\u001b[0m\u001b[0m\n\u001b[0m\u001b[0;32m   1232\u001b[0m                     \u001b[1;32mexcept\u001b[0m\u001b[1;33m:\u001b[0m\u001b[1;33m\u001b[0m\u001b[0m\n\u001b[0;32m   1233\u001b[0m                         \u001b[1;32mif\u001b[0m \u001b[0mgc_was_enabled\u001b[0m\u001b[1;33m:\u001b[0m\u001b[1;33m\u001b[0m\u001b[0m\n",
        "\u001b[1;31mOSError\u001b[0m: [Errno [Errno 12] Cannot allocate memory] <function _constructor_Function at 0x7f8acfddd500>: (<theano.compile.function_module.FunctionMaker object at 0x7f8a62e29a50>, [<None>, <None>, <<CudaNdarray object at 0x7f8aac6e7770>>, <<CudaNdarray object at 0x7f8aac6e7270>>, <<CudaNdarray object at 0x7f8aac6e7130>>, <<CudaNdarray object at 0x7f8aac6e74b0>>, <<CudaNdarray object at 0x7f8aac6e7370>>, <<CudaNdarray object at 0x7f8a5059cef0>>, <<CudaNdarray object at 0x7f8a505a52b0>>, <<CudaNdarray object at 0x7f8a505a53b0>>, <<CudaNdarray object at 0x7f8a505a54f0>>, <<CudaNdarray object at 0x7f8a505a5630>>], [None, None, <CudaNdarray object at 0x7f8aac6e7770>, <CudaNdarray object at 0x7f8aac6e7270>, <CudaNdarray object at 0x7f8aac6e7130>, <CudaNdarray object at 0x7f8aac6e74b0>, <CudaNdarray object at 0x7f8aac6e7370>, <CudaNdarray object at 0x7f8a5059cef0>, <CudaNdarray object at 0x7f8a505a52b0>, <CudaNdarray object at 0x7f8a505a53b0>, <CudaNdarray object at 0x7f8a505a54f0>, <CudaNdarray object at 0x7f8a505a5630>])"
       ]
      }
     ],
     "prompt_number": 7
    },
    {
     "cell_type": "code",
     "collapsed": false,
     "input": [
      "image = fnames\n",
      "%time predictions = net.predict_proba(X)"
     ],
     "language": "python",
     "metadata": {},
     "outputs": [
      {
       "output_type": "stream",
       "stream": "stdout",
       "text": [
        "CPU times: user 52.7 s, sys: 19.4 s, total: 1min 12s\n",
        "Wall time: 1min 13s\n"
       ]
      }
     ],
     "prompt_number": 6
    },
    {
     "cell_type": "code",
     "collapsed": false,
     "input": [
      "submmission = pd.DataFrame(np.c_[image, predictions], columns=submission_sample_df.columns)\n",
      "submmission.count()"
     ],
     "language": "python",
     "metadata": {},
     "outputs": [
      {
       "metadata": {},
       "output_type": "pyout",
       "prompt_number": 7,
       "text": [
        "image                            130400\n",
        "acantharia_protist_big_center    130400\n",
        "acantharia_protist_halo          130400\n",
        "acantharia_protist               130400\n",
        "amphipods                        130400\n",
        "appendicularian_fritillaridae    130400\n",
        "appendicularian_s_shape          130400\n",
        "appendicularian_slight_curve     130400\n",
        "appendicularian_straight         130400\n",
        "artifacts_edge                   130400\n",
        "artifacts                        130400\n",
        "chaetognath_non_sagitta          130400\n",
        "chaetognath_other                130400\n",
        "chaetognath_sagitta              130400\n",
        "chordate_type1                   130400\n",
        "...\n",
        "stomatopod                    130400\n",
        "tornaria_acorn_worm_larvae    130400\n",
        "trichodesmium_bowtie          130400\n",
        "trichodesmium_multiple        130400\n",
        "trichodesmium_puff            130400\n",
        "trichodesmium_tuft            130400\n",
        "trochophore_larvae            130400\n",
        "tunicate_doliolid_nurse       130400\n",
        "tunicate_doliolid             130400\n",
        "tunicate_partial              130400\n",
        "tunicate_salp_chains          130400\n",
        "tunicate_salp                 130400\n",
        "unknown_blobs_and_smudges     130400\n",
        "unknown_sticks                130400\n",
        "unknown_unclassified          130400\n",
        "Length: 122, dtype: int64"
       ]
      }
     ],
     "prompt_number": 7
    },
    {
     "cell_type": "code",
     "collapsed": false,
     "input": [
      "submmission.head()"
     ],
     "language": "python",
     "metadata": {},
     "outputs": [
      {
       "html": [
        "<div style=\"max-height:1000px;max-width:1500px;overflow:auto;\">\n",
        "<table border=\"1\" class=\"dataframe\">\n",
        "  <thead>\n",
        "    <tr style=\"text-align: right;\">\n",
        "      <th></th>\n",
        "      <th>image</th>\n",
        "      <th>acantharia_protist_big_center</th>\n",
        "      <th>acantharia_protist_halo</th>\n",
        "      <th>acantharia_protist</th>\n",
        "      <th>amphipods</th>\n",
        "      <th>appendicularian_fritillaridae</th>\n",
        "      <th>appendicularian_s_shape</th>\n",
        "      <th>appendicularian_slight_curve</th>\n",
        "      <th>appendicularian_straight</th>\n",
        "      <th>artifacts_edge</th>\n",
        "      <th>...</th>\n",
        "      <th>trichodesmium_tuft</th>\n",
        "      <th>trochophore_larvae</th>\n",
        "      <th>tunicate_doliolid_nurse</th>\n",
        "      <th>tunicate_doliolid</th>\n",
        "      <th>tunicate_partial</th>\n",
        "      <th>tunicate_salp_chains</th>\n",
        "      <th>tunicate_salp</th>\n",
        "      <th>unknown_blobs_and_smudges</th>\n",
        "      <th>unknown_sticks</th>\n",
        "      <th>unknown_unclassified</th>\n",
        "    </tr>\n",
        "  </thead>\n",
        "  <tbody>\n",
        "    <tr>\n",
        "      <th>0</th>\n",
        "      <td>  29943.jpg</td>\n",
        "      <td> 7.802501e-23</td>\n",
        "      <td>  2.22282e-21</td>\n",
        "      <td>  2.06457e-18</td>\n",
        "      <td> 7.933262e-17</td>\n",
        "      <td> 1.295016e-23</td>\n",
        "      <td> 2.323172e-18</td>\n",
        "      <td> 7.170606e-17</td>\n",
        "      <td> 7.766475e-17</td>\n",
        "      <td> 2.522731e-19</td>\n",
        "      <td>...</td>\n",
        "      <td> 2.596869e-20</td>\n",
        "      <td> 2.515157e-20</td>\n",
        "      <td> 3.011329e-12</td>\n",
        "      <td> 6.252336e-16</td>\n",
        "      <td>    0.9998183</td>\n",
        "      <td> 1.778342e-14</td>\n",
        "      <td> 2.715026e-11</td>\n",
        "      <td> 1.481642e-16</td>\n",
        "      <td> 7.518295e-22</td>\n",
        "      <td> 1.484644e-08</td>\n",
        "    </tr>\n",
        "    <tr>\n",
        "      <th>1</th>\n",
        "      <td>  51791.jpg</td>\n",
        "      <td> 1.995917e-12</td>\n",
        "      <td> 1.414093e-11</td>\n",
        "      <td> 3.855747e-11</td>\n",
        "      <td>   0.01571474</td>\n",
        "      <td> 1.285871e-10</td>\n",
        "      <td> 1.392122e-10</td>\n",
        "      <td> 2.232677e-10</td>\n",
        "      <td> 6.117711e-09</td>\n",
        "      <td> 5.129242e-14</td>\n",
        "      <td>...</td>\n",
        "      <td> 6.822968e-08</td>\n",
        "      <td>  2.38414e-07</td>\n",
        "      <td> 0.0005341113</td>\n",
        "      <td>  0.003431523</td>\n",
        "      <td> 1.694666e-08</td>\n",
        "      <td> 7.328631e-06</td>\n",
        "      <td>  1.00646e-06</td>\n",
        "      <td>      0.23354</td>\n",
        "      <td> 2.582819e-09</td>\n",
        "      <td> 0.0007166364</td>\n",
        "    </tr>\n",
        "    <tr>\n",
        "      <th>2</th>\n",
        "      <td>   8245.jpg</td>\n",
        "      <td> 8.645428e-08</td>\n",
        "      <td> 1.629819e-07</td>\n",
        "      <td> 1.865459e-08</td>\n",
        "      <td> 9.508923e-07</td>\n",
        "      <td> 1.146462e-05</td>\n",
        "      <td> 3.613682e-05</td>\n",
        "      <td>  6.60564e-06</td>\n",
        "      <td>  6.95429e-05</td>\n",
        "      <td> 2.032126e-07</td>\n",
        "      <td>...</td>\n",
        "      <td> 4.408254e-05</td>\n",
        "      <td> 2.977349e-07</td>\n",
        "      <td> 7.635067e-06</td>\n",
        "      <td>   0.03310662</td>\n",
        "      <td> 1.461859e-09</td>\n",
        "      <td> 7.131207e-07</td>\n",
        "      <td> 8.346029e-06</td>\n",
        "      <td> 7.492898e-06</td>\n",
        "      <td>  4.88029e-06</td>\n",
        "      <td> 0.0008589398</td>\n",
        "    </tr>\n",
        "    <tr>\n",
        "      <th>3</th>\n",
        "      <td> 147964.jpg</td>\n",
        "      <td> 3.489356e-10</td>\n",
        "      <td> 1.764473e-09</td>\n",
        "      <td> 2.689995e-10</td>\n",
        "      <td> 1.080894e-05</td>\n",
        "      <td> 5.903087e-07</td>\n",
        "      <td> 8.395778e-06</td>\n",
        "      <td> 0.0002430485</td>\n",
        "      <td> 0.0002825578</td>\n",
        "      <td> 3.481448e-08</td>\n",
        "      <td>...</td>\n",
        "      <td>   0.01050227</td>\n",
        "      <td> 9.508835e-10</td>\n",
        "      <td> 5.231222e-07</td>\n",
        "      <td> 0.0007551601</td>\n",
        "      <td> 6.694316e-08</td>\n",
        "      <td> 1.303766e-06</td>\n",
        "      <td>   0.04455253</td>\n",
        "      <td> 5.243034e-05</td>\n",
        "      <td>  0.003179154</td>\n",
        "      <td> 0.0001076903</td>\n",
        "    </tr>\n",
        "    <tr>\n",
        "      <th>4</th>\n",
        "      <td>  22684.jpg</td>\n",
        "      <td> 0.0002104055</td>\n",
        "      <td>  4.13274e-07</td>\n",
        "      <td> 3.648544e-06</td>\n",
        "      <td> 4.181722e-07</td>\n",
        "      <td>  0.004376241</td>\n",
        "      <td>    0.5569952</td>\n",
        "      <td>   0.02500339</td>\n",
        "      <td>   0.00305047</td>\n",
        "      <td>  0.009363248</td>\n",
        "      <td>...</td>\n",
        "      <td> 0.0001659887</td>\n",
        "      <td> 1.995156e-06</td>\n",
        "      <td>  0.007109945</td>\n",
        "      <td> 0.0005662753</td>\n",
        "      <td> 7.392665e-09</td>\n",
        "      <td> 1.327977e-06</td>\n",
        "      <td>  4.36501e-07</td>\n",
        "      <td>    0.0211037</td>\n",
        "      <td>  0.007127403</td>\n",
        "      <td>   0.06569586</td>\n",
        "    </tr>\n",
        "  </tbody>\n",
        "</table>\n",
        "<p>5 rows \u00d7 122 columns</p>\n",
        "</div>"
       ],
       "metadata": {},
       "output_type": "pyout",
       "prompt_number": 8,
       "text": [
        "        image acantharia_protist_big_center acantharia_protist_halo  \\\n",
        "0   29943.jpg                  7.802501e-23             2.22282e-21   \n",
        "1   51791.jpg                  1.995917e-12            1.414093e-11   \n",
        "2    8245.jpg                  8.645428e-08            1.629819e-07   \n",
        "3  147964.jpg                  3.489356e-10            1.764473e-09   \n",
        "4   22684.jpg                  0.0002104055             4.13274e-07   \n",
        "\n",
        "  acantharia_protist     amphipods appendicularian_fritillaridae  \\\n",
        "0        2.06457e-18  7.933262e-17                  1.295016e-23   \n",
        "1       3.855747e-11    0.01571474                  1.285871e-10   \n",
        "2       1.865459e-08  9.508923e-07                  1.146462e-05   \n",
        "3       2.689995e-10  1.080894e-05                  5.903087e-07   \n",
        "4       3.648544e-06  4.181722e-07                   0.004376241   \n",
        "\n",
        "  appendicularian_s_shape appendicularian_slight_curve  \\\n",
        "0            2.323172e-18                 7.170606e-17   \n",
        "1            1.392122e-10                 2.232677e-10   \n",
        "2            3.613682e-05                  6.60564e-06   \n",
        "3            8.395778e-06                 0.0002430485   \n",
        "4               0.5569952                   0.02500339   \n",
        "\n",
        "  appendicularian_straight artifacts_edge         ...           \\\n",
        "0             7.766475e-17   2.522731e-19         ...            \n",
        "1             6.117711e-09   5.129242e-14         ...            \n",
        "2              6.95429e-05   2.032126e-07         ...            \n",
        "3             0.0002825578   3.481448e-08         ...            \n",
        "4               0.00305047    0.009363248         ...            \n",
        "\n",
        "  trichodesmium_tuft trochophore_larvae tunicate_doliolid_nurse  \\\n",
        "0       2.596869e-20       2.515157e-20            3.011329e-12   \n",
        "1       6.822968e-08        2.38414e-07            0.0005341113   \n",
        "2       4.408254e-05       2.977349e-07            7.635067e-06   \n",
        "3         0.01050227       9.508835e-10            5.231222e-07   \n",
        "4       0.0001659887       1.995156e-06             0.007109945   \n",
        "\n",
        "  tunicate_doliolid tunicate_partial tunicate_salp_chains tunicate_salp  \\\n",
        "0      6.252336e-16        0.9998183         1.778342e-14  2.715026e-11   \n",
        "1       0.003431523     1.694666e-08         7.328631e-06   1.00646e-06   \n",
        "2        0.03310662     1.461859e-09         7.131207e-07  8.346029e-06   \n",
        "3      0.0007551601     6.694316e-08         1.303766e-06    0.04455253   \n",
        "4      0.0005662753     7.392665e-09         1.327977e-06   4.36501e-07   \n",
        "\n",
        "  unknown_blobs_and_smudges unknown_sticks unknown_unclassified  \n",
        "0              1.481642e-16   7.518295e-22         1.484644e-08  \n",
        "1                   0.23354   2.582819e-09         0.0007166364  \n",
        "2              7.492898e-06    4.88029e-06         0.0008589398  \n",
        "3              5.243034e-05    0.003179154         0.0001076903  \n",
        "4                 0.0211037    0.007127403           0.06569586  \n",
        "\n",
        "[5 rows x 122 columns]"
       ]
      }
     ],
     "prompt_number": 8
    },
    {
     "cell_type": "code",
     "collapsed": false,
     "input": [
      "suffix = strftime('%Y-%m-%d-%H-%M-%S')\n",
      "submmission.to_csv('%s.csv' % suffix, index=False, header=True)"
     ],
     "language": "python",
     "metadata": {},
     "outputs": [],
     "prompt_number": 9
    },
    {
     "cell_type": "code",
     "collapsed": false,
     "input": [
      "os.system('zip %s.zip %s.csv' % (suffix, suffix))"
     ],
     "language": "python",
     "metadata": {},
     "outputs": [
      {
       "metadata": {},
       "output_type": "pyout",
       "prompt_number": 10,
       "text": [
        "0"
       ]
      }
     ],
     "prompt_number": 10
    }
   ],
   "metadata": {}
  }
 ]
}